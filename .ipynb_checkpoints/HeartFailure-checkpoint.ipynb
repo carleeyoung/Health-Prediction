{
 "cells": [
  {
   "cell_type": "code",
   "execution_count": 1,
   "metadata": {},
   "outputs": [],
   "source": [
    "from sklearn import tree\n",
    "import pandas as pd\n",
    "import os\n",
    "import matplotlib.pyplot as plt"
   ]
  },
  {
   "cell_type": "code",
   "execution_count": 2,
   "metadata": {},
   "outputs": [
    {
     "data": {
      "text/html": [
       "<div>\n",
       "<style scoped>\n",
       "    .dataframe tbody tr th:only-of-type {\n",
       "        vertical-align: middle;\n",
       "    }\n",
       "\n",
       "    .dataframe tbody tr th {\n",
       "        vertical-align: top;\n",
       "    }\n",
       "\n",
       "    .dataframe thead th {\n",
       "        text-align: right;\n",
       "    }\n",
       "</style>\n",
       "<table border=\"1\" class=\"dataframe\">\n",
       "  <thead>\n",
       "    <tr style=\"text-align: right;\">\n",
       "      <th></th>\n",
       "      <th>age</th>\n",
       "      <th>anaemia</th>\n",
       "      <th>creatinine_phosphokinase</th>\n",
       "      <th>diabetes</th>\n",
       "      <th>ejection_fraction</th>\n",
       "      <th>high_blood_pressure</th>\n",
       "      <th>platelets</th>\n",
       "      <th>serum_creatinine</th>\n",
       "      <th>serum_sodium</th>\n",
       "      <th>sex</th>\n",
       "      <th>smoking</th>\n",
       "      <th>time</th>\n",
       "      <th>DEATH_EVENT</th>\n",
       "    </tr>\n",
       "  </thead>\n",
       "  <tbody>\n",
       "    <tr>\n",
       "      <th>0</th>\n",
       "      <td>75.0</td>\n",
       "      <td>0</td>\n",
       "      <td>582</td>\n",
       "      <td>0</td>\n",
       "      <td>20</td>\n",
       "      <td>1</td>\n",
       "      <td>265000.00</td>\n",
       "      <td>1.9</td>\n",
       "      <td>130</td>\n",
       "      <td>1</td>\n",
       "      <td>0</td>\n",
       "      <td>4</td>\n",
       "      <td>1</td>\n",
       "    </tr>\n",
       "    <tr>\n",
       "      <th>1</th>\n",
       "      <td>55.0</td>\n",
       "      <td>0</td>\n",
       "      <td>7861</td>\n",
       "      <td>0</td>\n",
       "      <td>38</td>\n",
       "      <td>0</td>\n",
       "      <td>263358.03</td>\n",
       "      <td>1.1</td>\n",
       "      <td>136</td>\n",
       "      <td>1</td>\n",
       "      <td>0</td>\n",
       "      <td>6</td>\n",
       "      <td>1</td>\n",
       "    </tr>\n",
       "    <tr>\n",
       "      <th>2</th>\n",
       "      <td>65.0</td>\n",
       "      <td>0</td>\n",
       "      <td>146</td>\n",
       "      <td>0</td>\n",
       "      <td>20</td>\n",
       "      <td>0</td>\n",
       "      <td>162000.00</td>\n",
       "      <td>1.3</td>\n",
       "      <td>129</td>\n",
       "      <td>1</td>\n",
       "      <td>1</td>\n",
       "      <td>7</td>\n",
       "      <td>1</td>\n",
       "    </tr>\n",
       "    <tr>\n",
       "      <th>3</th>\n",
       "      <td>50.0</td>\n",
       "      <td>1</td>\n",
       "      <td>111</td>\n",
       "      <td>0</td>\n",
       "      <td>20</td>\n",
       "      <td>0</td>\n",
       "      <td>210000.00</td>\n",
       "      <td>1.9</td>\n",
       "      <td>137</td>\n",
       "      <td>1</td>\n",
       "      <td>0</td>\n",
       "      <td>7</td>\n",
       "      <td>1</td>\n",
       "    </tr>\n",
       "    <tr>\n",
       "      <th>4</th>\n",
       "      <td>65.0</td>\n",
       "      <td>1</td>\n",
       "      <td>160</td>\n",
       "      <td>1</td>\n",
       "      <td>20</td>\n",
       "      <td>0</td>\n",
       "      <td>327000.00</td>\n",
       "      <td>2.7</td>\n",
       "      <td>116</td>\n",
       "      <td>0</td>\n",
       "      <td>0</td>\n",
       "      <td>8</td>\n",
       "      <td>1</td>\n",
       "    </tr>\n",
       "  </tbody>\n",
       "</table>\n",
       "</div>"
      ],
      "text/plain": [
       "    age  anaemia  creatinine_phosphokinase  diabetes  ejection_fraction  \\\n",
       "0  75.0        0                       582         0                 20   \n",
       "1  55.0        0                      7861         0                 38   \n",
       "2  65.0        0                       146         0                 20   \n",
       "3  50.0        1                       111         0                 20   \n",
       "4  65.0        1                       160         1                 20   \n",
       "\n",
       "   high_blood_pressure  platelets  serum_creatinine  serum_sodium  sex  \\\n",
       "0                    1  265000.00               1.9           130    1   \n",
       "1                    0  263358.03               1.1           136    1   \n",
       "2                    0  162000.00               1.3           129    1   \n",
       "3                    0  210000.00               1.9           137    1   \n",
       "4                    0  327000.00               2.7           116    0   \n",
       "\n",
       "   smoking  time  DEATH_EVENT  \n",
       "0        0     4            1  \n",
       "1        0     6            1  \n",
       "2        1     7            1  \n",
       "3        0     7            1  \n",
       "4        0     8            1  "
      ]
     },
     "execution_count": 2,
     "metadata": {},
     "output_type": "execute_result"
    }
   ],
   "source": [
    "df = pd.read_csv(os.path.join(\"data/HeartData.csv\"))\n",
    "df.head()"
   ]
  },
  {
   "cell_type": "code",
   "execution_count": 3,
   "metadata": {},
   "outputs": [],
   "source": [
    "target = df[\"DEATH_EVENT\"]\n",
    "target_names = [\"Fatal\", \"Survived\"]"
   ]
  },
  {
   "cell_type": "code",
   "execution_count": 4,
   "metadata": {},
   "outputs": [],
   "source": [
    "data = df.drop(\"DEATH_EVENT\", axis=1)\n",
    "# heartdata = data.drop(\"time\", axis=1)\n",
    "feature_names = data.columns\n",
    "# heartdata.head()"
   ]
  },
  {
   "cell_type": "code",
   "execution_count": 5,
   "metadata": {},
   "outputs": [],
   "source": [
    "from sklearn.model_selection import train_test_split\n",
    "X_train, X_test, y_train, y_test = train_test_split(data, target, random_state=630)"
   ]
  },
  {
   "cell_type": "code",
   "execution_count": null,
   "metadata": {},
   "outputs": [],
   "source": []
  },
  {
   "cell_type": "markdown",
   "metadata": {},
   "source": [
    "# Decision Tree:"
   ]
  },
  {
   "cell_type": "code",
   "execution_count": 6,
   "metadata": {},
   "outputs": [
    {
     "data": {
      "text/plain": [
       "0.7733333333333333"
      ]
     },
     "execution_count": 6,
     "metadata": {},
     "output_type": "execute_result"
    }
   ],
   "source": [
    "clf = tree.DecisionTreeClassifier()\n",
    "clf = clf.fit(X_train, y_train)\n",
    "clf.score(X_test, y_test)"
   ]
  },
  {
   "cell_type": "code",
   "execution_count": 7,
   "metadata": {
    "scrolled": false
   },
   "outputs": [
    {
     "data": {
      "text/plain": [
       "DecisionTreeClassifier()"
      ]
     },
     "execution_count": 7,
     "metadata": {},
     "output_type": "execute_result"
    }
   ],
   "source": [
    "clf"
   ]
  },
  {
   "cell_type": "code",
   "execution_count": null,
   "metadata": {},
   "outputs": [],
   "source": []
  },
  {
   "cell_type": "markdown",
   "metadata": {},
   "source": [
    "# Random Forrest:"
   ]
  },
  {
   "cell_type": "code",
   "execution_count": 8,
   "metadata": {},
   "outputs": [
    {
     "data": {
      "text/plain": [
       "0.8666666666666667"
      ]
     },
     "execution_count": 8,
     "metadata": {},
     "output_type": "execute_result"
    }
   ],
   "source": [
    "from sklearn.ensemble import RandomForestClassifier\n",
    "rf = RandomForestClassifier(n_estimators=500)\n",
    "rf = rf.fit(X_train, y_train)\n",
    "rf.score(X_test, y_test)"
   ]
  },
  {
   "cell_type": "code",
   "execution_count": 9,
   "metadata": {},
   "outputs": [
    {
     "data": {
      "text/plain": [
       "[(0.36068502451439916, 'time'),\n",
       " (0.1557019509639322, 'serum_creatinine'),\n",
       " (0.11174293847736799, 'ejection_fraction'),\n",
       " (0.08245906529646502, 'age'),\n",
       " (0.07916901938229899, 'creatinine_phosphokinase'),\n",
       " (0.0787424474921524, 'platelets'),\n",
       " (0.06711837849336781, 'serum_sodium'),\n",
       " (0.014407566420916791, 'sex'),\n",
       " (0.013327949056570953, 'diabetes'),\n",
       " (0.012854495989672424, 'smoking'),\n",
       " (0.012524959985569663, 'anaemia'),\n",
       " (0.011266203927286356, 'high_blood_pressure')]"
      ]
     },
     "execution_count": 9,
     "metadata": {},
     "output_type": "execute_result"
    }
   ],
   "source": [
    "sorted(zip(rf.feature_importances_, feature_names), reverse=True)"
   ]
  },
  {
   "cell_type": "code",
   "execution_count": null,
   "metadata": {},
   "outputs": [],
   "source": []
  },
  {
   "cell_type": "markdown",
   "metadata": {},
   "source": [
    "# Logistic Regression:"
   ]
  },
  {
   "cell_type": "code",
   "execution_count": 10,
   "metadata": {},
   "outputs": [
    {
     "data": {
      "text/plain": [
       "LogisticRegression()"
      ]
     },
     "execution_count": 10,
     "metadata": {},
     "output_type": "execute_result"
    }
   ],
   "source": [
    "from sklearn.linear_model import LogisticRegression\n",
    "classifier = LogisticRegression()\n",
    "classifier"
   ]
  },
  {
   "cell_type": "code",
   "execution_count": 11,
   "metadata": {},
   "outputs": [
    {
     "data": {
      "text/plain": [
       "LogisticRegression()"
      ]
     },
     "execution_count": 11,
     "metadata": {},
     "output_type": "execute_result"
    }
   ],
   "source": [
    "classifier.fit(X_train, y_train)"
   ]
  },
  {
   "cell_type": "code",
   "execution_count": 12,
   "metadata": {},
   "outputs": [
    {
     "name": "stdout",
     "output_type": "stream",
     "text": [
      "Training Data Score: 0.8169642857142857\n",
      "Testing Data Score: 0.8666666666666667\n"
     ]
    }
   ],
   "source": [
    "print(f\"Training Data Score: {classifier.score(X_train, y_train)}\")\n",
    "print(f\"Testing Data Score: {classifier.score(X_test, y_test)}\")"
   ]
  },
  {
   "cell_type": "code",
   "execution_count": 13,
   "metadata": {},
   "outputs": [
    {
     "name": "stdout",
     "output_type": "stream",
     "text": [
      "First 10 Predictions:   [0 1 0 0 0 0 0 0 0 0]\n",
      "First 10 Actual labels: [0, 1, 0, 0, 0, 0, 0, 0, 0, 0]\n"
     ]
    }
   ],
   "source": [
    "predictions = classifier.predict(X_test)\n",
    "print(f\"First 10 Predictions:   {predictions[:10]}\")\n",
    "print(f\"First 10 Actual labels: {y_test[:10].tolist()}\")"
   ]
  },
  {
   "cell_type": "code",
   "execution_count": 14,
   "metadata": {},
   "outputs": [
    {
     "data": {
      "text/html": [
       "<div>\n",
       "<style scoped>\n",
       "    .dataframe tbody tr th:only-of-type {\n",
       "        vertical-align: middle;\n",
       "    }\n",
       "\n",
       "    .dataframe tbody tr th {\n",
       "        vertical-align: top;\n",
       "    }\n",
       "\n",
       "    .dataframe thead th {\n",
       "        text-align: right;\n",
       "    }\n",
       "</style>\n",
       "<table border=\"1\" class=\"dataframe\">\n",
       "  <thead>\n",
       "    <tr style=\"text-align: right;\">\n",
       "      <th></th>\n",
       "      <th>Prediction</th>\n",
       "      <th>Actual</th>\n",
       "    </tr>\n",
       "  </thead>\n",
       "  <tbody>\n",
       "    <tr>\n",
       "      <th>0</th>\n",
       "      <td>0</td>\n",
       "      <td>0</td>\n",
       "    </tr>\n",
       "    <tr>\n",
       "      <th>1</th>\n",
       "      <td>1</td>\n",
       "      <td>1</td>\n",
       "    </tr>\n",
       "    <tr>\n",
       "      <th>2</th>\n",
       "      <td>0</td>\n",
       "      <td>0</td>\n",
       "    </tr>\n",
       "    <tr>\n",
       "      <th>3</th>\n",
       "      <td>0</td>\n",
       "      <td>0</td>\n",
       "    </tr>\n",
       "    <tr>\n",
       "      <th>4</th>\n",
       "      <td>0</td>\n",
       "      <td>0</td>\n",
       "    </tr>\n",
       "    <tr>\n",
       "      <th>...</th>\n",
       "      <td>...</td>\n",
       "      <td>...</td>\n",
       "    </tr>\n",
       "    <tr>\n",
       "      <th>70</th>\n",
       "      <td>0</td>\n",
       "      <td>1</td>\n",
       "    </tr>\n",
       "    <tr>\n",
       "      <th>71</th>\n",
       "      <td>0</td>\n",
       "      <td>0</td>\n",
       "    </tr>\n",
       "    <tr>\n",
       "      <th>72</th>\n",
       "      <td>0</td>\n",
       "      <td>0</td>\n",
       "    </tr>\n",
       "    <tr>\n",
       "      <th>73</th>\n",
       "      <td>0</td>\n",
       "      <td>0</td>\n",
       "    </tr>\n",
       "    <tr>\n",
       "      <th>74</th>\n",
       "      <td>0</td>\n",
       "      <td>0</td>\n",
       "    </tr>\n",
       "  </tbody>\n",
       "</table>\n",
       "<p>75 rows × 2 columns</p>\n",
       "</div>"
      ],
      "text/plain": [
       "    Prediction  Actual\n",
       "0            0       0\n",
       "1            1       1\n",
       "2            0       0\n",
       "3            0       0\n",
       "4            0       0\n",
       "..         ...     ...\n",
       "70           0       1\n",
       "71           0       0\n",
       "72           0       0\n",
       "73           0       0\n",
       "74           0       0\n",
       "\n",
       "[75 rows x 2 columns]"
      ]
     },
     "execution_count": 14,
     "metadata": {},
     "output_type": "execute_result"
    }
   ],
   "source": [
    "pd.DataFrame({\"Prediction\": predictions, \"Actual\": y_test}).reset_index(drop=True)"
   ]
  },
  {
   "cell_type": "markdown",
   "metadata": {},
   "source": [
    "# SVC:"
   ]
  },
  {
   "cell_type": "code",
   "execution_count": 15,
   "metadata": {},
   "outputs": [
    {
     "data": {
      "text/plain": [
       "SVC(kernel='linear')"
      ]
     },
     "execution_count": 15,
     "metadata": {},
     "output_type": "execute_result"
    }
   ],
   "source": [
    "from sklearn.svm import SVC \n",
    "model = SVC(kernel='linear')\n",
    "model.fit(X_train, y_train)"
   ]
  },
  {
   "cell_type": "code",
   "execution_count": 16,
   "metadata": {},
   "outputs": [
    {
     "name": "stdout",
     "output_type": "stream",
     "text": [
      "Test Acc: 0.893\n"
     ]
    }
   ],
   "source": [
    "print('Test Acc: %.3f' % model.score(X_test, y_test))"
   ]
  },
  {
   "cell_type": "code",
   "execution_count": 17,
   "metadata": {
    "scrolled": true
   },
   "outputs": [
    {
     "name": "stdout",
     "output_type": "stream",
     "text": [
      "              precision    recall  f1-score   support\n",
      "\n",
      "       Fatal       0.93      0.93      0.93        59\n",
      "    Survived       0.75      0.75      0.75        16\n",
      "\n",
      "    accuracy                           0.89        75\n",
      "   macro avg       0.84      0.84      0.84        75\n",
      "weighted avg       0.89      0.89      0.89        75\n",
      "\n"
     ]
    }
   ],
   "source": [
    "from sklearn.metrics import classification_report\n",
    "predictions = model.predict(X_test)\n",
    "print(classification_report(y_test, predictions,\n",
    "                            target_names=target_names))"
   ]
  },
  {
   "cell_type": "code",
   "execution_count": null,
   "metadata": {},
   "outputs": [],
   "source": []
  },
  {
   "cell_type": "markdown",
   "metadata": {},
   "source": [
    "# OneHot Encoding:"
   ]
  },
  {
   "cell_type": "code",
   "execution_count": 18,
   "metadata": {},
   "outputs": [
    {
     "data": {
      "text/plain": [
       "array([[1., 0.],\n",
       "       [1., 0.],\n",
       "       [0., 1.],\n",
       "       [0., 1.],\n",
       "       [0., 1.],\n",
       "       [1., 0.],\n",
       "       [0., 1.],\n",
       "       [1., 0.],\n",
       "       [0., 1.],\n",
       "       [1., 0.],\n",
       "       [1., 0.],\n",
       "       [0., 1.],\n",
       "       [0., 1.],\n",
       "       [1., 0.],\n",
       "       [0., 1.],\n",
       "       [1., 0.],\n",
       "       [1., 0.],\n",
       "       [1., 0.],\n",
       "       [0., 1.],\n",
       "       [0., 1.],\n",
       "       [1., 0.],\n",
       "       [1., 0.],\n",
       "       [1., 0.],\n",
       "       [1., 0.],\n",
       "       [1., 0.],\n",
       "       [1., 0.],\n",
       "       [1., 0.],\n",
       "       [0., 1.],\n",
       "       [0., 1.],\n",
       "       [0., 1.],\n",
       "       [1., 0.],\n",
       "       [1., 0.],\n",
       "       [1., 0.],\n",
       "       [0., 1.],\n",
       "       [0., 1.],\n",
       "       [1., 0.],\n",
       "       [1., 0.],\n",
       "       [0., 1.],\n",
       "       [1., 0.],\n",
       "       [1., 0.],\n",
       "       [1., 0.],\n",
       "       [1., 0.],\n",
       "       [0., 1.],\n",
       "       [0., 1.],\n",
       "       [0., 1.],\n",
       "       [0., 1.],\n",
       "       [1., 0.],\n",
       "       [1., 0.],\n",
       "       [1., 0.],\n",
       "       [0., 1.],\n",
       "       [1., 0.],\n",
       "       [1., 0.],\n",
       "       [1., 0.],\n",
       "       [1., 0.],\n",
       "       [1., 0.],\n",
       "       [1., 0.],\n",
       "       [0., 1.],\n",
       "       [0., 1.],\n",
       "       [1., 0.],\n",
       "       [1., 0.],\n",
       "       [1., 0.],\n",
       "       [1., 0.],\n",
       "       [0., 1.],\n",
       "       [0., 1.],\n",
       "       [1., 0.],\n",
       "       [0., 1.],\n",
       "       [1., 0.],\n",
       "       [1., 0.],\n",
       "       [1., 0.],\n",
       "       [0., 1.],\n",
       "       [0., 1.],\n",
       "       [0., 1.],\n",
       "       [0., 1.],\n",
       "       [0., 1.],\n",
       "       [0., 1.],\n",
       "       [1., 0.],\n",
       "       [1., 0.],\n",
       "       [1., 0.],\n",
       "       [1., 0.],\n",
       "       [1., 0.],\n",
       "       [1., 0.],\n",
       "       [0., 1.],\n",
       "       [0., 1.],\n",
       "       [0., 1.],\n",
       "       [0., 1.],\n",
       "       [1., 0.],\n",
       "       [1., 0.],\n",
       "       [1., 0.],\n",
       "       [1., 0.],\n",
       "       [1., 0.],\n",
       "       [1., 0.],\n",
       "       [1., 0.],\n",
       "       [1., 0.],\n",
       "       [0., 1.],\n",
       "       [0., 1.],\n",
       "       [1., 0.],\n",
       "       [1., 0.],\n",
       "       [1., 0.],\n",
       "       [1., 0.],\n",
       "       [1., 0.],\n",
       "       [0., 1.],\n",
       "       [1., 0.],\n",
       "       [0., 1.],\n",
       "       [0., 1.],\n",
       "       [0., 1.],\n",
       "       [1., 0.],\n",
       "       [1., 0.],\n",
       "       [1., 0.],\n",
       "       [0., 1.],\n",
       "       [1., 0.],\n",
       "       [1., 0.],\n",
       "       [1., 0.],\n",
       "       [1., 0.],\n",
       "       [0., 1.],\n",
       "       [1., 0.],\n",
       "       [1., 0.],\n",
       "       [0., 1.],\n",
       "       [1., 0.],\n",
       "       [0., 1.],\n",
       "       [1., 0.],\n",
       "       [0., 1.],\n",
       "       [0., 1.],\n",
       "       [0., 1.],\n",
       "       [1., 0.],\n",
       "       [1., 0.],\n",
       "       [1., 0.],\n",
       "       [1., 0.],\n",
       "       [1., 0.],\n",
       "       [1., 0.],\n",
       "       [1., 0.],\n",
       "       [1., 0.],\n",
       "       [1., 0.],\n",
       "       [1., 0.],\n",
       "       [0., 1.],\n",
       "       [1., 0.],\n",
       "       [1., 0.],\n",
       "       [0., 1.],\n",
       "       [0., 1.],\n",
       "       [1., 0.],\n",
       "       [1., 0.],\n",
       "       [1., 0.],\n",
       "       [1., 0.],\n",
       "       [0., 1.],\n",
       "       [1., 0.],\n",
       "       [1., 0.],\n",
       "       [1., 0.],\n",
       "       [0., 1.],\n",
       "       [1., 0.],\n",
       "       [1., 0.],\n",
       "       [0., 1.],\n",
       "       [1., 0.],\n",
       "       [1., 0.],\n",
       "       [1., 0.],\n",
       "       [1., 0.],\n",
       "       [0., 1.],\n",
       "       [1., 0.],\n",
       "       [0., 1.],\n",
       "       [1., 0.],\n",
       "       [1., 0.],\n",
       "       [1., 0.],\n",
       "       [1., 0.],\n",
       "       [1., 0.],\n",
       "       [1., 0.],\n",
       "       [0., 1.],\n",
       "       [1., 0.],\n",
       "       [0., 1.],\n",
       "       [1., 0.],\n",
       "       [1., 0.],\n",
       "       [0., 1.],\n",
       "       [1., 0.],\n",
       "       [0., 1.],\n",
       "       [1., 0.],\n",
       "       [1., 0.],\n",
       "       [0., 1.],\n",
       "       [1., 0.],\n",
       "       [1., 0.],\n",
       "       [1., 0.],\n",
       "       [0., 1.],\n",
       "       [0., 1.],\n",
       "       [0., 1.],\n",
       "       [1., 0.],\n",
       "       [1., 0.],\n",
       "       [0., 1.],\n",
       "       [1., 0.],\n",
       "       [1., 0.],\n",
       "       [0., 1.],\n",
       "       [1., 0.],\n",
       "       [1., 0.],\n",
       "       [1., 0.],\n",
       "       [0., 1.],\n",
       "       [1., 0.],\n",
       "       [1., 0.],\n",
       "       [1., 0.],\n",
       "       [0., 1.],\n",
       "       [1., 0.],\n",
       "       [1., 0.],\n",
       "       [1., 0.],\n",
       "       [1., 0.],\n",
       "       [1., 0.],\n",
       "       [0., 1.],\n",
       "       [1., 0.],\n",
       "       [1., 0.],\n",
       "       [0., 1.],\n",
       "       [1., 0.],\n",
       "       [1., 0.],\n",
       "       [0., 1.],\n",
       "       [0., 1.],\n",
       "       [1., 0.],\n",
       "       [1., 0.],\n",
       "       [1., 0.],\n",
       "       [0., 1.],\n",
       "       [1., 0.],\n",
       "       [0., 1.],\n",
       "       [1., 0.],\n",
       "       [0., 1.],\n",
       "       [1., 0.],\n",
       "       [0., 1.],\n",
       "       [0., 1.],\n",
       "       [1., 0.],\n",
       "       [1., 0.],\n",
       "       [0., 1.],\n",
       "       [0., 1.],\n",
       "       [1., 0.],\n",
       "       [1., 0.]], dtype=float32)"
      ]
     },
     "execution_count": 18,
     "metadata": {},
     "output_type": "execute_result"
    }
   ],
   "source": [
    "from tensorflow.keras.utils import to_categorical\n",
    "\n",
    "y_train_categorical = to_categorical(y_train)\n",
    "y_test_categorical = to_categorical(y_test)\n",
    "y_train_categorical"
   ]
  },
  {
   "cell_type": "markdown",
   "metadata": {},
   "source": [
    "# Scaling the Data:"
   ]
  },
  {
   "cell_type": "code",
   "execution_count": 19,
   "metadata": {},
   "outputs": [],
   "source": [
    "from sklearn.preprocessing import StandardScaler\n",
    "\n",
    "X_scaler = StandardScaler().fit(X_train)"
   ]
  },
  {
   "cell_type": "code",
   "execution_count": 20,
   "metadata": {},
   "outputs": [],
   "source": [
    "X_train_scaled = X_scaler.transform(X_train)\n",
    "X_test_scaled = X_scaler.transform(X_test)"
   ]
  },
  {
   "cell_type": "code",
   "execution_count": 21,
   "metadata": {},
   "outputs": [],
   "source": [
    "from tensorflow.keras.utils import to_categorical"
   ]
  },
  {
   "cell_type": "code",
   "execution_count": 22,
   "metadata": {},
   "outputs": [],
   "source": [
    "y_train_categorical = to_categorical(y_train)\n",
    "y_test_categorical = to_categorical(y_test)"
   ]
  },
  {
   "cell_type": "code",
   "execution_count": 23,
   "metadata": {},
   "outputs": [],
   "source": [
    "from tensorflow.keras.models import Sequential\n",
    "from tensorflow.keras.layers import Dense\n",
    "\n",
    "model = Sequential()\n",
    "model.add(Dense(units=24, activation='relu', input_dim=12))\n",
    "model.add(Dense(units=2, activation='softmax'))"
   ]
  },
  {
   "cell_type": "code",
   "execution_count": 24,
   "metadata": {},
   "outputs": [
    {
     "name": "stdout",
     "output_type": "stream",
     "text": [
      "Model: \"sequential\"\n",
      "_________________________________________________________________\n",
      "Layer (type)                 Output Shape              Param #   \n",
      "=================================================================\n",
      "dense (Dense)                (None, 24)                312       \n",
      "_________________________________________________________________\n",
      "dense_1 (Dense)              (None, 2)                 50        \n",
      "=================================================================\n",
      "Total params: 362\n",
      "Trainable params: 362\n",
      "Non-trainable params: 0\n",
      "_________________________________________________________________\n"
     ]
    }
   ],
   "source": [
    "model.summary()"
   ]
  },
  {
   "cell_type": "code",
   "execution_count": 25,
   "metadata": {},
   "outputs": [],
   "source": [
    "model.compile(optimizer='adam',\n",
    "              loss='categorical_crossentropy',\n",
    "              metrics=['accuracy'])"
   ]
  },
  {
   "cell_type": "code",
   "execution_count": 26,
   "metadata": {},
   "outputs": [
    {
     "name": "stdout",
     "output_type": "stream",
     "text": [
      "Train on 224 samples\n",
      "Epoch 1/100\n",
      "224/224 - 1s - loss: 0.7943 - accuracy: 0.4866\n",
      "Epoch 2/100\n",
      "224/224 - 0s - loss: 0.7607 - accuracy: 0.5134\n",
      "Epoch 3/100\n",
      "224/224 - 0s - loss: 0.7288 - accuracy: 0.5536\n",
      "Epoch 4/100\n",
      "224/224 - 0s - loss: 0.7021 - accuracy: 0.5759\n",
      "Epoch 5/100\n",
      "224/224 - 0s - loss: 0.6778 - accuracy: 0.6116\n",
      "Epoch 6/100\n",
      "224/224 - 0s - loss: 0.6539 - accuracy: 0.6384\n",
      "Epoch 7/100\n",
      "224/224 - 0s - loss: 0.6336 - accuracy: 0.6473\n",
      "Epoch 8/100\n",
      "224/224 - 0s - loss: 0.6147 - accuracy: 0.6518\n",
      "Epoch 9/100\n",
      "224/224 - 0s - loss: 0.5964 - accuracy: 0.6741\n",
      "Epoch 10/100\n",
      "224/224 - 0s - loss: 0.5800 - accuracy: 0.6875\n",
      "Epoch 11/100\n",
      "224/224 - 0s - loss: 0.5644 - accuracy: 0.6875\n",
      "Epoch 12/100\n",
      "224/224 - 0s - loss: 0.5493 - accuracy: 0.7188\n",
      "Epoch 13/100\n",
      "224/224 - 0s - loss: 0.5354 - accuracy: 0.7321\n",
      "Epoch 14/100\n",
      "224/224 - 0s - loss: 0.5232 - accuracy: 0.7321\n",
      "Epoch 15/100\n",
      "224/224 - 0s - loss: 0.5101 - accuracy: 0.7589\n",
      "Epoch 16/100\n",
      "224/224 - 0s - loss: 0.4982 - accuracy: 0.7723\n",
      "Epoch 17/100\n",
      "224/224 - 0s - loss: 0.4876 - accuracy: 0.7723\n",
      "Epoch 18/100\n",
      "224/224 - 0s - loss: 0.4772 - accuracy: 0.7812\n",
      "Epoch 19/100\n",
      "224/224 - 0s - loss: 0.4677 - accuracy: 0.7768\n",
      "Epoch 20/100\n",
      "224/224 - 0s - loss: 0.4585 - accuracy: 0.7946\n",
      "Epoch 21/100\n",
      "224/224 - 0s - loss: 0.4492 - accuracy: 0.8036\n",
      "Epoch 22/100\n",
      "224/224 - 0s - loss: 0.4414 - accuracy: 0.8080\n",
      "Epoch 23/100\n",
      "224/224 - 0s - loss: 0.4336 - accuracy: 0.8125\n",
      "Epoch 24/100\n",
      "224/224 - 0s - loss: 0.4261 - accuracy: 0.8125\n",
      "Epoch 25/100\n",
      "224/224 - 0s - loss: 0.4186 - accuracy: 0.8125\n",
      "Epoch 26/100\n",
      "224/224 - 0s - loss: 0.4123 - accuracy: 0.8170\n",
      "Epoch 27/100\n",
      "224/224 - 0s - loss: 0.4064 - accuracy: 0.8170\n",
      "Epoch 28/100\n",
      "224/224 - 0s - loss: 0.4007 - accuracy: 0.8259\n",
      "Epoch 29/100\n",
      "224/224 - 0s - loss: 0.3948 - accuracy: 0.8348\n",
      "Epoch 30/100\n",
      "224/224 - 0s - loss: 0.3896 - accuracy: 0.8348\n",
      "Epoch 31/100\n",
      "224/224 - 0s - loss: 0.3846 - accuracy: 0.8393\n",
      "Epoch 32/100\n",
      "224/224 - 0s - loss: 0.3801 - accuracy: 0.8438\n",
      "Epoch 33/100\n",
      "224/224 - 0s - loss: 0.3760 - accuracy: 0.8438\n",
      "Epoch 34/100\n",
      "224/224 - 0s - loss: 0.3717 - accuracy: 0.8482\n",
      "Epoch 35/100\n",
      "224/224 - 0s - loss: 0.3678 - accuracy: 0.8616\n",
      "Epoch 36/100\n",
      "224/224 - 0s - loss: 0.3646 - accuracy: 0.8616\n",
      "Epoch 37/100\n",
      "224/224 - 0s - loss: 0.3612 - accuracy: 0.8661\n",
      "Epoch 38/100\n",
      "224/224 - 0s - loss: 0.3578 - accuracy: 0.8661\n",
      "Epoch 39/100\n",
      "224/224 - 0s - loss: 0.3552 - accuracy: 0.8661\n",
      "Epoch 40/100\n",
      "224/224 - 0s - loss: 0.3521 - accuracy: 0.8661\n",
      "Epoch 41/100\n",
      "224/224 - 0s - loss: 0.3497 - accuracy: 0.8705\n",
      "Epoch 42/100\n",
      "224/224 - 0s - loss: 0.3470 - accuracy: 0.8705\n",
      "Epoch 43/100\n",
      "224/224 - 0s - loss: 0.3445 - accuracy: 0.8750\n",
      "Epoch 44/100\n",
      "224/224 - 0s - loss: 0.3425 - accuracy: 0.8705\n",
      "Epoch 45/100\n",
      "224/224 - 0s - loss: 0.3400 - accuracy: 0.8661\n",
      "Epoch 46/100\n",
      "224/224 - 0s - loss: 0.3377 - accuracy: 0.8750\n",
      "Epoch 47/100\n",
      "224/224 - 0s - loss: 0.3360 - accuracy: 0.8705\n",
      "Epoch 48/100\n",
      "224/224 - 0s - loss: 0.3338 - accuracy: 0.8705\n",
      "Epoch 49/100\n",
      "224/224 - 0s - loss: 0.3322 - accuracy: 0.8705\n",
      "Epoch 50/100\n",
      "224/224 - 0s - loss: 0.3302 - accuracy: 0.8705\n",
      "Epoch 51/100\n",
      "224/224 - 0s - loss: 0.3286 - accuracy: 0.8750\n",
      "Epoch 52/100\n",
      "224/224 - 0s - loss: 0.3272 - accuracy: 0.8795\n",
      "Epoch 53/100\n",
      "224/224 - 0s - loss: 0.3252 - accuracy: 0.8795\n",
      "Epoch 54/100\n",
      "224/224 - 0s - loss: 0.3235 - accuracy: 0.8795\n",
      "Epoch 55/100\n",
      "224/224 - 0s - loss: 0.3221 - accuracy: 0.8839\n",
      "Epoch 56/100\n",
      "224/224 - 0s - loss: 0.3205 - accuracy: 0.8839\n",
      "Epoch 57/100\n",
      "224/224 - 0s - loss: 0.3194 - accuracy: 0.8884\n",
      "Epoch 58/100\n",
      "224/224 - 0s - loss: 0.3178 - accuracy: 0.8795\n",
      "Epoch 59/100\n",
      "224/224 - 0s - loss: 0.3164 - accuracy: 0.8795\n",
      "Epoch 60/100\n",
      "224/224 - 0s - loss: 0.3150 - accuracy: 0.8884\n",
      "Epoch 61/100\n",
      "224/224 - 0s - loss: 0.3138 - accuracy: 0.8884\n",
      "Epoch 62/100\n",
      "224/224 - 0s - loss: 0.3125 - accuracy: 0.8884\n",
      "Epoch 63/100\n",
      "224/224 - 0s - loss: 0.3114 - accuracy: 0.8884\n",
      "Epoch 64/100\n",
      "224/224 - 0s - loss: 0.3101 - accuracy: 0.8884\n",
      "Epoch 65/100\n",
      "224/224 - 0s - loss: 0.3091 - accuracy: 0.8884\n",
      "Epoch 66/100\n",
      "224/224 - 0s - loss: 0.3075 - accuracy: 0.8884\n",
      "Epoch 67/100\n",
      "224/224 - 0s - loss: 0.3066 - accuracy: 0.8884\n",
      "Epoch 68/100\n",
      "224/224 - 0s - loss: 0.3051 - accuracy: 0.8884\n",
      "Epoch 69/100\n",
      "224/224 - 0s - loss: 0.3044 - accuracy: 0.8884\n",
      "Epoch 70/100\n",
      "224/224 - 0s - loss: 0.3029 - accuracy: 0.8884\n",
      "Epoch 71/100\n",
      "224/224 - 0s - loss: 0.3018 - accuracy: 0.8839\n",
      "Epoch 72/100\n",
      "224/224 - 0s - loss: 0.3006 - accuracy: 0.8929\n",
      "Epoch 73/100\n",
      "224/224 - 0s - loss: 0.2995 - accuracy: 0.8884\n",
      "Epoch 74/100\n",
      "224/224 - 0s - loss: 0.2986 - accuracy: 0.8884\n",
      "Epoch 75/100\n",
      "224/224 - 0s - loss: 0.2971 - accuracy: 0.8884\n",
      "Epoch 76/100\n",
      "224/224 - 0s - loss: 0.2960 - accuracy: 0.8884\n",
      "Epoch 77/100\n",
      "224/224 - 0s - loss: 0.2950 - accuracy: 0.8884\n",
      "Epoch 78/100\n",
      "224/224 - 0s - loss: 0.2938 - accuracy: 0.8884\n",
      "Epoch 79/100\n",
      "224/224 - 0s - loss: 0.2928 - accuracy: 0.8884\n",
      "Epoch 80/100\n",
      "224/224 - 0s - loss: 0.2919 - accuracy: 0.8884\n",
      "Epoch 81/100\n",
      "224/224 - 0s - loss: 0.2908 - accuracy: 0.8884\n",
      "Epoch 82/100\n",
      "224/224 - 0s - loss: 0.2900 - accuracy: 0.8884\n",
      "Epoch 83/100\n",
      "224/224 - 0s - loss: 0.2888 - accuracy: 0.8884\n",
      "Epoch 84/100\n",
      "224/224 - 0s - loss: 0.2878 - accuracy: 0.8884\n",
      "Epoch 85/100\n",
      "224/224 - 0s - loss: 0.2866 - accuracy: 0.8884\n",
      "Epoch 86/100\n",
      "224/224 - 0s - loss: 0.2858 - accuracy: 0.8884\n",
      "Epoch 87/100\n",
      "224/224 - 0s - loss: 0.2845 - accuracy: 0.8884\n",
      "Epoch 88/100\n",
      "224/224 - 0s - loss: 0.2842 - accuracy: 0.8884\n",
      "Epoch 89/100\n",
      "224/224 - 0s - loss: 0.2828 - accuracy: 0.8884\n",
      "Epoch 90/100\n",
      "224/224 - 0s - loss: 0.2815 - accuracy: 0.8884\n",
      "Epoch 91/100\n",
      "224/224 - 0s - loss: 0.2807 - accuracy: 0.8929\n",
      "Epoch 92/100\n",
      "224/224 - 0s - loss: 0.2797 - accuracy: 0.8929\n",
      "Epoch 93/100\n",
      "224/224 - 0s - loss: 0.2784 - accuracy: 0.8929\n",
      "Epoch 94/100\n",
      "224/224 - 0s - loss: 0.2777 - accuracy: 0.8929\n",
      "Epoch 95/100\n",
      "224/224 - 0s - loss: 0.2765 - accuracy: 0.8929\n",
      "Epoch 96/100\n",
      "224/224 - 0s - loss: 0.2756 - accuracy: 0.8929\n",
      "Epoch 97/100\n",
      "224/224 - 0s - loss: 0.2746 - accuracy: 0.8973\n",
      "Epoch 98/100\n",
      "224/224 - 0s - loss: 0.2737 - accuracy: 0.8973\n",
      "Epoch 99/100\n",
      "224/224 - 0s - loss: 0.2727 - accuracy: 0.9018\n",
      "Epoch 100/100\n",
      "224/224 - 0s - loss: 0.2716 - accuracy: 0.9018\n"
     ]
    },
    {
     "data": {
      "text/plain": [
       "<tensorflow.python.keras.callbacks.History at 0x24653b546c8>"
      ]
     },
     "execution_count": 26,
     "metadata": {},
     "output_type": "execute_result"
    }
   ],
   "source": [
    "model.fit(\n",
    "    X_train_scaled,\n",
    "    y_train_categorical,\n",
    "    epochs=100,\n",
    "    shuffle=True,\n",
    "    verbose=2\n",
    ")"
   ]
  },
  {
   "cell_type": "code",
   "execution_count": null,
   "metadata": {},
   "outputs": [],
   "source": []
  },
  {
   "cell_type": "code",
   "execution_count": 27,
   "metadata": {},
   "outputs": [],
   "source": [
    "deep_model = Sequential()\n",
    "deep_model.add(Dense(units=24, activation='relu', input_dim=12))\n",
    "deep_model.add(Dense(units=6, activation='relu'))\n",
    "deep_model.add(Dense(units=2, activation='softmax'))"
   ]
  },
  {
   "cell_type": "code",
   "execution_count": 28,
   "metadata": {},
   "outputs": [
    {
     "name": "stdout",
     "output_type": "stream",
     "text": [
      "Train on 224 samples\n",
      "Epoch 1/100\n",
      "224/224 - 1s - loss: 0.7871 - accuracy: 0.4286\n",
      "Epoch 2/100\n",
      "224/224 - 0s - loss: 0.7469 - accuracy: 0.4732\n",
      "Epoch 3/100\n",
      "224/224 - 0s - loss: 0.7195 - accuracy: 0.5134\n",
      "Epoch 4/100\n",
      "224/224 - 0s - loss: 0.6957 - accuracy: 0.5714\n",
      "Epoch 5/100\n",
      "224/224 - 0s - loss: 0.6774 - accuracy: 0.6071\n",
      "Epoch 6/100\n",
      "224/224 - 0s - loss: 0.6650 - accuracy: 0.6339\n",
      "Epoch 7/100\n",
      "224/224 - 0s - loss: 0.6548 - accuracy: 0.6607\n",
      "Epoch 8/100\n",
      "224/224 - 0s - loss: 0.6446 - accuracy: 0.6741\n",
      "Epoch 9/100\n",
      "224/224 - 0s - loss: 0.6361 - accuracy: 0.6830\n",
      "Epoch 10/100\n",
      "224/224 - 0s - loss: 0.6278 - accuracy: 0.6964\n",
      "Epoch 11/100\n",
      "224/224 - 0s - loss: 0.6201 - accuracy: 0.7009\n",
      "Epoch 12/100\n",
      "224/224 - 0s - loss: 0.6104 - accuracy: 0.7054\n",
      "Epoch 13/100\n",
      "224/224 - 0s - loss: 0.6021 - accuracy: 0.7009\n",
      "Epoch 14/100\n",
      "224/224 - 0s - loss: 0.5918 - accuracy: 0.7188\n",
      "Epoch 15/100\n",
      "224/224 - 0s - loss: 0.5835 - accuracy: 0.7232\n",
      "Epoch 16/100\n",
      "224/224 - 0s - loss: 0.5736 - accuracy: 0.7366\n",
      "Epoch 17/100\n",
      "224/224 - 0s - loss: 0.5632 - accuracy: 0.7455\n",
      "Epoch 18/100\n",
      "224/224 - 0s - loss: 0.5543 - accuracy: 0.7455\n",
      "Epoch 19/100\n",
      "224/224 - 0s - loss: 0.5451 - accuracy: 0.7500\n",
      "Epoch 20/100\n",
      "224/224 - 0s - loss: 0.5362 - accuracy: 0.7589\n",
      "Epoch 21/100\n",
      "224/224 - 0s - loss: 0.5280 - accuracy: 0.7679\n",
      "Epoch 22/100\n",
      "224/224 - 0s - loss: 0.5192 - accuracy: 0.7768\n",
      "Epoch 23/100\n",
      "224/224 - 0s - loss: 0.5101 - accuracy: 0.7857\n",
      "Epoch 24/100\n",
      "224/224 - 0s - loss: 0.5007 - accuracy: 0.7902\n",
      "Epoch 25/100\n",
      "224/224 - 0s - loss: 0.4921 - accuracy: 0.7946\n",
      "Epoch 26/100\n",
      "224/224 - 0s - loss: 0.4825 - accuracy: 0.7902\n",
      "Epoch 27/100\n",
      "224/224 - 0s - loss: 0.4737 - accuracy: 0.7902\n",
      "Epoch 28/100\n",
      "224/224 - 0s - loss: 0.4636 - accuracy: 0.8080\n",
      "Epoch 29/100\n",
      "224/224 - 0s - loss: 0.4545 - accuracy: 0.8259\n",
      "Epoch 30/100\n",
      "224/224 - 0s - loss: 0.4450 - accuracy: 0.8259\n",
      "Epoch 31/100\n",
      "224/224 - 0s - loss: 0.4351 - accuracy: 0.8259\n",
      "Epoch 32/100\n",
      "224/224 - 0s - loss: 0.4251 - accuracy: 0.8304\n",
      "Epoch 33/100\n",
      "224/224 - 0s - loss: 0.4168 - accuracy: 0.8482\n",
      "Epoch 34/100\n",
      "224/224 - 0s - loss: 0.4082 - accuracy: 0.8482\n",
      "Epoch 35/100\n",
      "224/224 - 0s - loss: 0.4012 - accuracy: 0.8527\n",
      "Epoch 36/100\n",
      "224/224 - 0s - loss: 0.3938 - accuracy: 0.8661\n",
      "Epoch 37/100\n",
      "224/224 - 0s - loss: 0.3880 - accuracy: 0.8750\n",
      "Epoch 38/100\n",
      "224/224 - 0s - loss: 0.3814 - accuracy: 0.8750\n",
      "Epoch 39/100\n",
      "224/224 - 0s - loss: 0.3756 - accuracy: 0.8795\n",
      "Epoch 40/100\n",
      "224/224 - 0s - loss: 0.3706 - accuracy: 0.8795\n",
      "Epoch 41/100\n",
      "224/224 - 0s - loss: 0.3656 - accuracy: 0.8795\n",
      "Epoch 42/100\n",
      "224/224 - 0s - loss: 0.3604 - accuracy: 0.8795\n",
      "Epoch 43/100\n",
      "224/224 - 0s - loss: 0.3556 - accuracy: 0.8750\n",
      "Epoch 44/100\n",
      "224/224 - 0s - loss: 0.3512 - accuracy: 0.8750\n",
      "Epoch 45/100\n",
      "224/224 - 0s - loss: 0.3475 - accuracy: 0.8750\n",
      "Epoch 46/100\n",
      "224/224 - 0s - loss: 0.3430 - accuracy: 0.8795\n",
      "Epoch 47/100\n",
      "224/224 - 0s - loss: 0.3399 - accuracy: 0.8750\n",
      "Epoch 48/100\n",
      "224/224 - 0s - loss: 0.3355 - accuracy: 0.8750\n",
      "Epoch 49/100\n",
      "224/224 - 0s - loss: 0.3315 - accuracy: 0.8750\n",
      "Epoch 50/100\n",
      "224/224 - 0s - loss: 0.3283 - accuracy: 0.8750\n",
      "Epoch 51/100\n",
      "224/224 - 0s - loss: 0.3250 - accuracy: 0.8750\n",
      "Epoch 52/100\n",
      "224/224 - 0s - loss: 0.3212 - accuracy: 0.8750\n",
      "Epoch 53/100\n",
      "224/224 - 0s - loss: 0.3184 - accuracy: 0.8839\n",
      "Epoch 54/100\n",
      "224/224 - 0s - loss: 0.3154 - accuracy: 0.8839\n",
      "Epoch 55/100\n",
      "224/224 - 0s - loss: 0.3119 - accuracy: 0.8839\n",
      "Epoch 56/100\n",
      "224/224 - 0s - loss: 0.3091 - accuracy: 0.8795\n",
      "Epoch 57/100\n",
      "224/224 - 0s - loss: 0.3065 - accuracy: 0.8839\n",
      "Epoch 58/100\n",
      "224/224 - 0s - loss: 0.3031 - accuracy: 0.8839\n",
      "Epoch 59/100\n",
      "224/224 - 0s - loss: 0.3006 - accuracy: 0.8839\n",
      "Epoch 60/100\n",
      "224/224 - 0s - loss: 0.2973 - accuracy: 0.8884\n",
      "Epoch 61/100\n",
      "224/224 - 0s - loss: 0.2947 - accuracy: 0.8884\n",
      "Epoch 62/100\n",
      "224/224 - 0s - loss: 0.2915 - accuracy: 0.8929\n",
      "Epoch 63/100\n",
      "224/224 - 0s - loss: 0.2886 - accuracy: 0.8929\n",
      "Epoch 64/100\n",
      "224/224 - 0s - loss: 0.2861 - accuracy: 0.8929\n",
      "Epoch 65/100\n",
      "224/224 - 0s - loss: 0.2827 - accuracy: 0.8929\n",
      "Epoch 66/100\n",
      "224/224 - 0s - loss: 0.2806 - accuracy: 0.8929\n",
      "Epoch 67/100\n",
      "224/224 - 0s - loss: 0.2775 - accuracy: 0.8929\n",
      "Epoch 68/100\n",
      "224/224 - 0s - loss: 0.2748 - accuracy: 0.8973\n",
      "Epoch 69/100\n",
      "224/224 - 0s - loss: 0.2720 - accuracy: 0.9018\n",
      "Epoch 70/100\n",
      "224/224 - 0s - loss: 0.2691 - accuracy: 0.9062\n",
      "Epoch 71/100\n",
      "224/224 - 0s - loss: 0.2675 - accuracy: 0.9062\n",
      "Epoch 72/100\n",
      "224/224 - 0s - loss: 0.2641 - accuracy: 0.9062\n",
      "Epoch 73/100\n",
      "224/224 - 0s - loss: 0.2618 - accuracy: 0.9062\n",
      "Epoch 74/100\n",
      "224/224 - 0s - loss: 0.2599 - accuracy: 0.9062\n",
      "Epoch 75/100\n",
      "224/224 - 0s - loss: 0.2573 - accuracy: 0.9062\n",
      "Epoch 76/100\n",
      "224/224 - 0s - loss: 0.2549 - accuracy: 0.9062\n",
      "Epoch 77/100\n",
      "224/224 - 0s - loss: 0.2523 - accuracy: 0.9062\n",
      "Epoch 78/100\n",
      "224/224 - 0s - loss: 0.2505 - accuracy: 0.9062\n",
      "Epoch 79/100\n",
      "224/224 - 0s - loss: 0.2480 - accuracy: 0.9062\n",
      "Epoch 80/100\n",
      "224/224 - 0s - loss: 0.2466 - accuracy: 0.9062\n",
      "Epoch 81/100\n",
      "224/224 - 0s - loss: 0.2439 - accuracy: 0.9062\n",
      "Epoch 82/100\n",
      "224/224 - 0s - loss: 0.2420 - accuracy: 0.9107\n",
      "Epoch 83/100\n",
      "224/224 - 0s - loss: 0.2400 - accuracy: 0.9107\n",
      "Epoch 84/100\n",
      "224/224 - 0s - loss: 0.2388 - accuracy: 0.9107\n",
      "Epoch 85/100\n",
      "224/224 - 0s - loss: 0.2360 - accuracy: 0.9107\n",
      "Epoch 86/100\n",
      "224/224 - 0s - loss: 0.2336 - accuracy: 0.9152\n",
      "Epoch 87/100\n",
      "224/224 - 0s - loss: 0.2320 - accuracy: 0.9152\n",
      "Epoch 88/100\n",
      "224/224 - 0s - loss: 0.2293 - accuracy: 0.9152\n",
      "Epoch 89/100\n",
      "224/224 - 0s - loss: 0.2277 - accuracy: 0.9152\n",
      "Epoch 90/100\n",
      "224/224 - 0s - loss: 0.2258 - accuracy: 0.9152\n",
      "Epoch 91/100\n",
      "224/224 - 0s - loss: 0.2237 - accuracy: 0.9152\n",
      "Epoch 92/100\n",
      "224/224 - 0s - loss: 0.2221 - accuracy: 0.9152\n",
      "Epoch 93/100\n",
      "224/224 - 0s - loss: 0.2199 - accuracy: 0.9196\n",
      "Epoch 94/100\n",
      "224/224 - 0s - loss: 0.2182 - accuracy: 0.9196\n",
      "Epoch 95/100\n",
      "224/224 - 0s - loss: 0.2166 - accuracy: 0.9196\n",
      "Epoch 96/100\n",
      "224/224 - 0s - loss: 0.2147 - accuracy: 0.9196\n",
      "Epoch 97/100\n",
      "224/224 - 0s - loss: 0.2130 - accuracy: 0.9241\n",
      "Epoch 98/100\n",
      "224/224 - 0s - loss: 0.2115 - accuracy: 0.9196\n",
      "Epoch 99/100\n",
      "224/224 - 0s - loss: 0.2092 - accuracy: 0.9286\n",
      "Epoch 100/100\n",
      "224/224 - 0s - loss: 0.2076 - accuracy: 0.9286\n"
     ]
    },
    {
     "data": {
      "text/plain": [
       "<tensorflow.python.keras.callbacks.History at 0x24654ee7c88>"
      ]
     },
     "execution_count": 28,
     "metadata": {},
     "output_type": "execute_result"
    }
   ],
   "source": [
    "deep_model.compile(optimizer='adam',\n",
    "                   loss='categorical_crossentropy',\n",
    "                   metrics=['accuracy'])\n",
    "\n",
    "deep_model.fit(\n",
    "    X_train_scaled,\n",
    "    y_train_categorical,\n",
    "    epochs=100,\n",
    "    shuffle=True,\n",
    "    verbose=2\n",
    ")"
   ]
  },
  {
   "cell_type": "code",
   "execution_count": null,
   "metadata": {},
   "outputs": [],
   "source": []
  },
  {
   "cell_type": "code",
   "execution_count": 29,
   "metadata": {},
   "outputs": [
    {
     "name": "stdout",
     "output_type": "stream",
     "text": [
      "75/75 - 0s - loss: 0.4477 - accuracy: 0.8533\n",
      "Normal Neural Network - Loss: 0.44774781703948974, Accuracy: 0.8533333539962769\n"
     ]
    }
   ],
   "source": [
    "model_loss, model_accuracy = model.evaluate(\n",
    "    X_test_scaled, y_test_categorical, verbose=2)\n",
    "print(\n",
    "    f\"Normal Neural Network - Loss: {model_loss}, Accuracy: {model_accuracy}\")"
   ]
  },
  {
   "cell_type": "code",
   "execution_count": 30,
   "metadata": {},
   "outputs": [
    {
     "name": "stdout",
     "output_type": "stream",
     "text": [
      "75/75 - 0s - loss: 0.4280 - accuracy: 0.8400\n",
      "Deep Neural Network - Loss: 0.4280357313156128, Accuracy: 0.8399999737739563\n"
     ]
    }
   ],
   "source": [
    "model_loss, model_accuracy = deep_model.evaluate(\n",
    "    X_test_scaled, y_test_categorical, verbose=2)\n",
    "print(f\"Deep Neural Network - Loss: {model_loss}, Accuracy: {model_accuracy}\")"
   ]
  },
  {
   "cell_type": "code",
   "execution_count": null,
   "metadata": {},
   "outputs": [],
   "source": []
  }
 ],
 "metadata": {
  "kernelspec": {
   "display_name": "Python [conda env:tf]",
   "language": "python",
   "name": "conda-env-tf-py"
  },
  "language_info": {
   "codemirror_mode": {
    "name": "ipython",
    "version": 3
   },
   "file_extension": ".py",
   "mimetype": "text/x-python",
   "name": "python",
   "nbconvert_exporter": "python",
   "pygments_lexer": "ipython3",
   "version": "3.7.9"
  }
 },
 "nbformat": 4,
 "nbformat_minor": 2
}
