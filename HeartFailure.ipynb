{
 "cells": [
  {
   "cell_type": "code",
   "execution_count": 1,
   "metadata": {},
   "outputs": [],
   "source": [
    "from sklearn import tree\n",
    "import pandas as pd\n",
    "import os\n",
    "import matplotlib.pyplot as plt\n",
    "import numpy as np\n",
    "from sklearn.metrics import plot_confusion_matrix"
   ]
  },
  {
   "cell_type": "code",
   "execution_count": 2,
   "metadata": {},
   "outputs": [
    {
     "data": {
      "text/html": [
       "<div>\n",
       "<style scoped>\n",
       "    .dataframe tbody tr th:only-of-type {\n",
       "        vertical-align: middle;\n",
       "    }\n",
       "\n",
       "    .dataframe tbody tr th {\n",
       "        vertical-align: top;\n",
       "    }\n",
       "\n",
       "    .dataframe thead th {\n",
       "        text-align: right;\n",
       "    }\n",
       "</style>\n",
       "<table border=\"1\" class=\"dataframe\">\n",
       "  <thead>\n",
       "    <tr style=\"text-align: right;\">\n",
       "      <th></th>\n",
       "      <th>age</th>\n",
       "      <th>anaemia</th>\n",
       "      <th>creatinine_phosphokinase</th>\n",
       "      <th>diabetes</th>\n",
       "      <th>ejection_fraction</th>\n",
       "      <th>high_blood_pressure</th>\n",
       "      <th>platelets</th>\n",
       "      <th>serum_creatinine</th>\n",
       "      <th>serum_sodium</th>\n",
       "      <th>sex</th>\n",
       "      <th>smoking</th>\n",
       "      <th>time</th>\n",
       "      <th>DEATH_EVENT</th>\n",
       "    </tr>\n",
       "  </thead>\n",
       "  <tbody>\n",
       "    <tr>\n",
       "      <th>0</th>\n",
       "      <td>75.0</td>\n",
       "      <td>0</td>\n",
       "      <td>582</td>\n",
       "      <td>0</td>\n",
       "      <td>20</td>\n",
       "      <td>1</td>\n",
       "      <td>265000.00</td>\n",
       "      <td>1.9</td>\n",
       "      <td>130</td>\n",
       "      <td>1</td>\n",
       "      <td>0</td>\n",
       "      <td>4</td>\n",
       "      <td>1</td>\n",
       "    </tr>\n",
       "    <tr>\n",
       "      <th>1</th>\n",
       "      <td>55.0</td>\n",
       "      <td>0</td>\n",
       "      <td>7861</td>\n",
       "      <td>0</td>\n",
       "      <td>38</td>\n",
       "      <td>0</td>\n",
       "      <td>263358.03</td>\n",
       "      <td>1.1</td>\n",
       "      <td>136</td>\n",
       "      <td>1</td>\n",
       "      <td>0</td>\n",
       "      <td>6</td>\n",
       "      <td>1</td>\n",
       "    </tr>\n",
       "    <tr>\n",
       "      <th>2</th>\n",
       "      <td>65.0</td>\n",
       "      <td>0</td>\n",
       "      <td>146</td>\n",
       "      <td>0</td>\n",
       "      <td>20</td>\n",
       "      <td>0</td>\n",
       "      <td>162000.00</td>\n",
       "      <td>1.3</td>\n",
       "      <td>129</td>\n",
       "      <td>1</td>\n",
       "      <td>1</td>\n",
       "      <td>7</td>\n",
       "      <td>1</td>\n",
       "    </tr>\n",
       "    <tr>\n",
       "      <th>3</th>\n",
       "      <td>50.0</td>\n",
       "      <td>1</td>\n",
       "      <td>111</td>\n",
       "      <td>0</td>\n",
       "      <td>20</td>\n",
       "      <td>0</td>\n",
       "      <td>210000.00</td>\n",
       "      <td>1.9</td>\n",
       "      <td>137</td>\n",
       "      <td>1</td>\n",
       "      <td>0</td>\n",
       "      <td>7</td>\n",
       "      <td>1</td>\n",
       "    </tr>\n",
       "    <tr>\n",
       "      <th>4</th>\n",
       "      <td>65.0</td>\n",
       "      <td>1</td>\n",
       "      <td>160</td>\n",
       "      <td>1</td>\n",
       "      <td>20</td>\n",
       "      <td>0</td>\n",
       "      <td>327000.00</td>\n",
       "      <td>2.7</td>\n",
       "      <td>116</td>\n",
       "      <td>0</td>\n",
       "      <td>0</td>\n",
       "      <td>8</td>\n",
       "      <td>1</td>\n",
       "    </tr>\n",
       "  </tbody>\n",
       "</table>\n",
       "</div>"
      ],
      "text/plain": [
       "    age  anaemia  creatinine_phosphokinase  diabetes  ejection_fraction  \\\n",
       "0  75.0        0                       582         0                 20   \n",
       "1  55.0        0                      7861         0                 38   \n",
       "2  65.0        0                       146         0                 20   \n",
       "3  50.0        1                       111         0                 20   \n",
       "4  65.0        1                       160         1                 20   \n",
       "\n",
       "   high_blood_pressure  platelets  serum_creatinine  serum_sodium  sex  \\\n",
       "0                    1  265000.00               1.9           130    1   \n",
       "1                    0  263358.03               1.1           136    1   \n",
       "2                    0  162000.00               1.3           129    1   \n",
       "3                    0  210000.00               1.9           137    1   \n",
       "4                    0  327000.00               2.7           116    0   \n",
       "\n",
       "   smoking  time  DEATH_EVENT  \n",
       "0        0     4            1  \n",
       "1        0     6            1  \n",
       "2        1     7            1  \n",
       "3        0     7            1  \n",
       "4        0     8            1  "
      ]
     },
     "execution_count": 2,
     "metadata": {},
     "output_type": "execute_result"
    }
   ],
   "source": [
    "df = pd.read_csv(os.path.join(\"data/HeartData.csv\"))\n",
    "df.head()"
   ]
  },
  {
   "cell_type": "code",
   "execution_count": 3,
   "metadata": {},
   "outputs": [],
   "source": [
    "target = df[\"DEATH_EVENT\"]\n",
    "target_names = [\"Negative\", \"Positive\"]"
   ]
  },
  {
   "cell_type": "code",
   "execution_count": 4,
   "metadata": {},
   "outputs": [],
   "source": [
    "data = df.drop(\"DEATH_EVENT\", axis=1)\n",
    "# heartdata = data.drop(\"time\", axis=1)\n",
    "feature_names = data.columns\n",
    "# heartdata.head()"
   ]
  },
  {
   "cell_type": "code",
   "execution_count": 5,
   "metadata": {},
   "outputs": [],
   "source": [
    "from sklearn.model_selection import train_test_split\n",
    "X_train, X_test, y_train, y_test = train_test_split(data, target, random_state=630)"
   ]
  },
  {
   "cell_type": "code",
   "execution_count": null,
   "metadata": {},
   "outputs": [],
   "source": []
  },
  {
   "cell_type": "markdown",
   "metadata": {},
   "source": [
    "# Decision Tree:"
   ]
  },
  {
   "cell_type": "code",
   "execution_count": 6,
   "metadata": {},
   "outputs": [
    {
     "data": {
      "text/plain": [
       "78.67"
      ]
     },
     "execution_count": 6,
     "metadata": {},
     "output_type": "execute_result"
    }
   ],
   "source": [
    "clf = tree.DecisionTreeClassifier()\n",
    "clf = clf.fit(X_train, y_train)\n",
    "clf.score(X_test, y_test)\n",
    "DTA = round((clf.score(X_test, y_test) * 100),2)\n",
    "DTA"
   ]
  },
  {
   "cell_type": "code",
   "execution_count": 7,
   "metadata": {
    "scrolled": false
   },
   "outputs": [
    {
     "data": {
      "text/plain": [
       "DecisionTreeClassifier()"
      ]
     },
     "execution_count": 7,
     "metadata": {},
     "output_type": "execute_result"
    }
   ],
   "source": [
    "clf"
   ]
  },
  {
   "cell_type": "code",
   "execution_count": 8,
   "metadata": {},
   "outputs": [
    {
     "name": "stdout",
     "output_type": "stream",
     "text": [
      "Decision Tree Confusion matrix, without normalization\n",
      "[[50  9]\n",
      " [ 7  9]]\n",
      "Decision Tree Normalized confusion matrix\n",
      "[[0.85 0.15]\n",
      " [0.44 0.56]]\n"
     ]
    },
    {
     "data": {
      "image/png": "[encoded data removed]",
      "text/plain": [
       "<Figure size 432x288 with 2 Axes>"
      ]
     },
     "metadata": {
      "needs_background": "light"
     },
     "output_type": "display_data"
    },
    {
     "data": {
      "image/png": "[encoded data removed]",
      "text/plain": [
       "<Figure size 432x288 with 2 Axes>"
      ]
     },
     "metadata": {
      "needs_background": "light"
     },
     "output_type": "display_data"
    }
   ],
   "source": [
    "np.set_printoptions(precision=2)\n",
    "\n",
    "# Plot non-normalized confusion matrix\n",
    "titles_options = [(\"Decision Tree Confusion matrix, without normalization\", None),\n",
    "                  (\"Decision Tree Normalized confusion matrix\", 'true')]\n",
    "for title, normalize in titles_options:\n",
    "    disp = plot_confusion_matrix(clf, X_test, y_test,\n",
    "                                 display_labels=target_names,\n",
    "                                 cmap=plt.cm.Blues,\n",
    "                                 normalize=normalize)\n",
    "    disp.ax_.set_title(title)\n",
    "\n",
    "    print(title)\n",
    "    print(disp.confusion_matrix)\n",
    "\n",
    "plt.show()"
   ]
  },
  {
   "cell_type": "markdown",
   "metadata": {},
   "source": [
    "# Random Forrest:"
   ]
  },
  {
   "cell_type": "code",
   "execution_count": 9,
   "metadata": {},
   "outputs": [
    {
     "data": {
      "text/plain": [
       "85.33"
      ]
     },
     "execution_count": 9,
     "metadata": {},
     "output_type": "execute_result"
    }
   ],
   "source": [
    "from sklearn.ensemble import RandomForestClassifier\n",
    "rf = RandomForestClassifier(n_estimators=100)\n",
    "rf = rf.fit(X_train, y_train)\n",
    "RFA = round((rf.score(X_test, y_test) * 100),2)\n",
    "RFA"
   ]
  },
  {
   "cell_type": "code",
   "execution_count": 10,
   "metadata": {},
   "outputs": [
    {
     "data": {
      "text/plain": [
       "[(0.3583832158968621, 'time'),\n",
       " (0.15534113518162498, 'serum_creatinine'),\n",
       " (0.12304797307978205, 'ejection_fraction'),\n",
       " (0.08283237695828694, 'age'),\n",
       " (0.08006237063925596, 'creatinine_phosphokinase'),\n",
       " (0.07041420981982562, 'platelets'),\n",
       " (0.06874158698499484, 'serum_sodium'),\n",
       " (0.013863978716071798, 'sex'),\n",
       " (0.012773194333860394, 'diabetes'),\n",
       " (0.012326224303110547, 'anaemia'),\n",
       " (0.012156189626237358, 'high_blood_pressure'),\n",
       " (0.010057544460087497, 'smoking')]"
      ]
     },
     "execution_count": 10,
     "metadata": {},
     "output_type": "execute_result"
    }
   ],
   "source": [
    "sorted(zip(rf.feature_importances_, feature_names), reverse=True)"
   ]
  },
  {
   "cell_type": "code",
   "execution_count": 11,
   "metadata": {},
   "outputs": [
    {
     "name": "stdout",
     "output_type": "stream",
     "text": [
      "Random Forrest Confusion matrix, without normalization\n",
      "[[53  6]\n",
      " [ 5 11]]\n",
      "Random Forrest Normalized confusion matrix\n",
      "[[0.9  0.1 ]\n",
      " [0.31 0.69]]\n"
     ]
    },
    {
     "data": {
      "image/png": "[encoded data removed]",
      "text/plain": [
       "<Figure size 432x288 with 2 Axes>"
      ]
     },
     "metadata": {
      "needs_background": "light"
     },
     "output_type": "display_data"
    },
    {
     "data": {
      "image/png": "[encoded data removed]",
      "text/plain": [
       "<Figure size 432x288 with 2 Axes>"
      ]
     },
     "metadata": {
      "needs_background": "light"
     },
     "output_type": "display_data"
    }
   ],
   "source": [
    "np.set_printoptions(precision=2)\n",
    "\n",
    "# Plot non-normalized confusion matrix\n",
    "titles_options = [(\"Random Forrest Confusion matrix, without normalization\", None),\n",
    "                  (\"Random Forrest Normalized confusion matrix\", 'true')]\n",
    "for title, normalize in titles_options:\n",
    "    disp = plot_confusion_matrix(rf, X_test, y_test,\n",
    "                                 display_labels=target_names,\n",
    "                                 cmap=plt.cm.Blues,\n",
    "                                 normalize=normalize)\n",
    "    disp.ax_.set_title(title)\n",
    "\n",
    "    print(title)\n",
    "    print(disp.confusion_matrix)\n",
    "\n",
    "plt.show()"
   ]
  },
  {
   "cell_type": "code",
   "execution_count": null,
   "metadata": {},
   "outputs": [],
   "source": []
  },
  {
   "cell_type": "markdown",
   "metadata": {},
   "source": [
    "# Logistic Regression:"
   ]
  },
  {
   "cell_type": "code",
   "execution_count": 12,
   "metadata": {},
   "outputs": [
    {
     "data": {
      "text/plain": [
       "LogisticRegression()"
      ]
     },
     "execution_count": 12,
     "metadata": {},
     "output_type": "execute_result"
    }
   ],
   "source": [
    "from sklearn.linear_model import LogisticRegression\n",
    "classifier = LogisticRegression()\n",
    "classifier"
   ]
  },
  {
   "cell_type": "code",
   "execution_count": 13,
   "metadata": {},
   "outputs": [
    {
     "data": {
      "text/plain": [
       "LogisticRegression()"
      ]
     },
     "execution_count": 13,
     "metadata": {},
     "output_type": "execute_result"
    }
   ],
   "source": [
    "classifier.fit(X_train, y_train)"
   ]
  },
  {
   "cell_type": "code",
   "execution_count": 14,
   "metadata": {},
   "outputs": [
    {
     "name": "stdout",
     "output_type": "stream",
     "text": [
      "Training Data Score: 0.8169642857142857\n",
      "Testing Data Score: 0.8666666666666667\n"
     ]
    },
    {
     "data": {
      "text/plain": [
       "86.67"
      ]
     },
     "execution_count": 14,
     "metadata": {},
     "output_type": "execute_result"
    }
   ],
   "source": [
    "LRA = round((classifier.score(X_test, y_test) * 100),2)\n",
    "\n",
    "print(f\"Training Data Score: {classifier.score(X_train, y_train)}\")\n",
    "print(f\"Testing Data Score: {classifier.score(X_test, y_test)}\")\n",
    "\n",
    "LRA"
   ]
  },
  {
   "cell_type": "code",
   "execution_count": 15,
   "metadata": {},
   "outputs": [
    {
     "name": "stdout",
     "output_type": "stream",
     "text": [
      "First 10 Predictions:   [0 1 0 0 0 0 0 0 0 0]\n",
      "First 10 Actual labels: [0, 1, 0, 0, 0, 0, 0, 0, 0, 0]\n"
     ]
    }
   ],
   "source": [
    "predictions = classifier.predict(X_test)\n",
    "print(f\"First 10 Predictions:   {predictions[:10]}\")\n",
    "print(f\"First 10 Actual labels: {y_test[:10].tolist()}\")"
   ]
  },
  {
   "cell_type": "code",
   "execution_count": 16,
   "metadata": {},
   "outputs": [
    {
     "data": {
      "text/html": [
       "<div>\n",
       "<style scoped>\n",
       "    .dataframe tbody tr th:only-of-type {\n",
       "        vertical-align: middle;\n",
       "    }\n",
       "\n",
       "    .dataframe tbody tr th {\n",
       "        vertical-align: top;\n",
       "    }\n",
       "\n",
       "    .dataframe thead th {\n",
       "        text-align: right;\n",
       "    }\n",
       "</style>\n",
       "<table border=\"1\" class=\"dataframe\">\n",
       "  <thead>\n",
       "    <tr style=\"text-align: right;\">\n",
       "      <th></th>\n",
       "      <th>Prediction</th>\n",
       "      <th>Actual</th>\n",
       "    </tr>\n",
       "  </thead>\n",
       "  <tbody>\n",
       "    <tr>\n",
       "      <th>0</th>\n",
       "      <td>0</td>\n",
       "      <td>0</td>\n",
       "    </tr>\n",
       "    <tr>\n",
       "      <th>1</th>\n",
       "      <td>1</td>\n",
       "      <td>1</td>\n",
       "    </tr>\n",
       "    <tr>\n",
       "      <th>2</th>\n",
       "      <td>0</td>\n",
       "      <td>0</td>\n",
       "    </tr>\n",
       "    <tr>\n",
       "      <th>3</th>\n",
       "      <td>0</td>\n",
       "      <td>0</td>\n",
       "    </tr>\n",
       "    <tr>\n",
       "      <th>4</th>\n",
       "      <td>0</td>\n",
       "      <td>0</td>\n",
       "    </tr>\n",
       "    <tr>\n",
       "      <th>...</th>\n",
       "      <td>...</td>\n",
       "      <td>...</td>\n",
       "    </tr>\n",
       "    <tr>\n",
       "      <th>70</th>\n",
       "      <td>0</td>\n",
       "      <td>1</td>\n",
       "    </tr>\n",
       "    <tr>\n",
       "      <th>71</th>\n",
       "      <td>0</td>\n",
       "      <td>0</td>\n",
       "    </tr>\n",
       "    <tr>\n",
       "      <th>72</th>\n",
       "      <td>0</td>\n",
       "      <td>0</td>\n",
       "    </tr>\n",
       "    <tr>\n",
       "      <th>73</th>\n",
       "      <td>0</td>\n",
       "      <td>0</td>\n",
       "    </tr>\n",
       "    <tr>\n",
       "      <th>74</th>\n",
       "      <td>0</td>\n",
       "      <td>0</td>\n",
       "    </tr>\n",
       "  </tbody>\n",
       "</table>\n",
       "<p>75 rows × 2 columns</p>\n",
       "</div>"
      ],
      "text/plain": [
       "    Prediction  Actual\n",
       "0            0       0\n",
       "1            1       1\n",
       "2            0       0\n",
       "3            0       0\n",
       "4            0       0\n",
       "..         ...     ...\n",
       "70           0       1\n",
       "71           0       0\n",
       "72           0       0\n",
       "73           0       0\n",
       "74           0       0\n",
       "\n",
       "[75 rows x 2 columns]"
      ]
     },
     "execution_count": 16,
     "metadata": {},
     "output_type": "execute_result"
    }
   ],
   "source": [
    "pd.DataFrame({\"Prediction\": predictions, \"Actual\": y_test}).reset_index(drop=True)"
   ]
  },
  {
   "cell_type": "code",
   "execution_count": 17,
   "metadata": {},
   "outputs": [
    {
     "name": "stdout",
     "output_type": "stream",
     "text": [
      "Logistic Regression Confusion matrix, without normalization\n",
      "[[53  6]\n",
      " [ 4 12]]\n",
      "Logistic Regression Normalized confusion matrix\n",
      "[[0.9  0.1 ]\n",
      " [0.25 0.75]]\n"
     ]
    },
    {
     "data": {
      "image/png": "[encoded data removed]",
      "text/plain": [
       "<Figure size 432x288 with 2 Axes>"
      ]
     },
     "metadata": {
      "needs_background": "light"
     },
     "output_type": "display_data"
    },
    {
     "data": {
      "image/png": "[encoded data removed]",
      "text/plain": [
       "<Figure size 432x288 with 2 Axes>"
      ]
     },
     "metadata": {
      "needs_background": "light"
     },
     "output_type": "display_data"
    }
   ],
   "source": [
    "np.set_printoptions(precision=2)\n",
    "\n",
    "# Plot non-normalized confusion matrix\n",
    "titles_options = [(\"Logistic Regression Confusion matrix, without normalization\", None),\n",
    "                  (\"Logistic Regression Normalized confusion matrix\", 'true')]\n",
    "for title, normalize in titles_options:\n",
    "    disp = plot_confusion_matrix(classifier, X_test, y_test,\n",
    "                                 display_labels=target_names,\n",
    "                                 cmap=plt.cm.Blues,\n",
    "                                 normalize=normalize)\n",
    "    disp.ax_.set_title(title)\n",
    "\n",
    "    print(title)\n",
    "    print(disp.confusion_matrix)\n",
    "\n",
    "plt.show()\n"
   ]
  },
  {
   "cell_type": "markdown",
   "metadata": {},
   "source": [
    "# Support Vector Machine:"
   ]
  },
  {
   "cell_type": "code",
   "execution_count": 18,
   "metadata": {},
   "outputs": [],
   "source": [
    "from sklearn.svm import SVC \n",
    "model = SVC(kernel='linear')\n",
    "svc = model.fit(X_train, y_train)"
   ]
  },
  {
   "cell_type": "code",
   "execution_count": 19,
   "metadata": {},
   "outputs": [
    {
     "name": "stdout",
     "output_type": "stream",
     "text": [
      "Test Acc: 0.893\n"
     ]
    },
    {
     "data": {
      "text/plain": [
       "89.33"
      ]
     },
     "execution_count": 19,
     "metadata": {},
     "output_type": "execute_result"
    }
   ],
   "source": [
    "print('Test Acc: %.3f' % svc.score(X_test, y_test))\n",
    "\n",
    "SVMA = round((svc.score(X_test, y_test) * 100),2)\n",
    "SVMA"
   ]
  },
  {
   "cell_type": "code",
   "execution_count": 20,
   "metadata": {
    "scrolled": true
   },
   "outputs": [
    {
     "name": "stdout",
     "output_type": "stream",
     "text": [
      "              precision    recall  f1-score   support\n",
      "\n",
      "    Negative       0.93      0.93      0.93        59\n",
      "    Positive       0.75      0.75      0.75        16\n",
      "\n",
      "    accuracy                           0.89        75\n",
      "   macro avg       0.84      0.84      0.84        75\n",
      "weighted avg       0.89      0.89      0.89        75\n",
      "\n"
     ]
    }
   ],
   "source": [
    "from sklearn.metrics import classification_report\n",
    "predictions = model.predict(X_test)\n",
    "print(classification_report(y_test, predictions,\n",
    "                            target_names=target_names))"
   ]
  },
  {
   "cell_type": "code",
   "execution_count": 21,
   "metadata": {},
   "outputs": [
    {
     "name": "stdout",
     "output_type": "stream",
     "text": [
      "Support Vector Machine Confusion matrix, without normalization\n",
      "[[55  4]\n",
      " [ 4 12]]\n",
      "Support Vector Machine Normalized confusion matrix\n",
      "[[0.93 0.07]\n",
      " [0.25 0.75]]\n"
     ]
    },
    {
     "data": {
      "image/png": "[encoded data removed]",
      "text/plain": [
       "<Figure size 432x288 with 2 Axes>"
      ]
     },
     "metadata": {
      "needs_background": "light"
     },
     "output_type": "display_data"
    },
    {
     "data": {
      "image/png": "[encoded data removed]",
      "text/plain": [
       "<Figure size 432x288 with 2 Axes>"
      ]
     },
     "metadata": {
      "needs_background": "light"
     },
     "output_type": "display_data"
    }
   ],
   "source": [
    "np.set_printoptions(precision=2)\n",
    "\n",
    "# Plot non-normalized confusion matrix\n",
    "titles_options = [(\"Support Vector Machine Confusion matrix, without normalization\", None),\n",
    "                  (\"Support Vector Machine Normalized confusion matrix\", 'true')]\n",
    "for title, normalize in titles_options:\n",
    "    disp = plot_confusion_matrix(svc, X_test, y_test,\n",
    "                                 display_labels=target_names,\n",
    "                                 cmap=plt.cm.Blues,\n",
    "                                 normalize=normalize)\n",
    "    disp.ax_.set_title(title)\n",
    "\n",
    "    print(title)\n",
    "    print(disp.confusion_matrix)\n",
    "\n",
    "plt.show()"
   ]
  },
  {
   "cell_type": "markdown",
   "metadata": {},
   "source": [
    "# OneHot Encoding:"
   ]
  },
  {
   "cell_type": "code",
   "execution_count": 22,
   "metadata": {},
   "outputs": [
    {
     "data": {
      "text/plain": [
       "array([[1., 0.],\n",
       "       [1., 0.],\n",
       "       [0., 1.],\n",
       "       [0., 1.],\n",
       "       [0., 1.],\n",
       "       [1., 0.],\n",
       "       [0., 1.],\n",
       "       [1., 0.],\n",
       "       [0., 1.],\n",
       "       [1., 0.],\n",
       "       [1., 0.],\n",
       "       [0., 1.],\n",
       "       [0., 1.],\n",
       "       [1., 0.],\n",
       "       [0., 1.],\n",
       "       [1., 0.],\n",
       "       [1., 0.],\n",
       "       [1., 0.],\n",
       "       [0., 1.],\n",
       "       [0., 1.],\n",
       "       [1., 0.],\n",
       "       [1., 0.],\n",
       "       [1., 0.],\n",
       "       [1., 0.],\n",
       "       [1., 0.],\n",
       "       [1., 0.],\n",
       "       [1., 0.],\n",
       "       [0., 1.],\n",
       "       [0., 1.],\n",
       "       [0., 1.],\n",
       "       [1., 0.],\n",
       "       [1., 0.],\n",
       "       [1., 0.],\n",
       "       [0., 1.],\n",
       "       [0., 1.],\n",
       "       [1., 0.],\n",
       "       [1., 0.],\n",
       "       [0., 1.],\n",
       "       [1., 0.],\n",
       "       [1., 0.],\n",
       "       [1., 0.],\n",
       "       [1., 0.],\n",
       "       [0., 1.],\n",
       "       [0., 1.],\n",
       "       [0., 1.],\n",
       "       [0., 1.],\n",
       "       [1., 0.],\n",
       "       [1., 0.],\n",
       "       [1., 0.],\n",
       "       [0., 1.],\n",
       "       [1., 0.],\n",
       "       [1., 0.],\n",
       "       [1., 0.],\n",
       "       [1., 0.],\n",
       "       [1., 0.],\n",
       "       [1., 0.],\n",
       "       [0., 1.],\n",
       "       [0., 1.],\n",
       "       [1., 0.],\n",
       "       [1., 0.],\n",
       "       [1., 0.],\n",
       "       [1., 0.],\n",
       "       [0., 1.],\n",
       "       [0., 1.],\n",
       "       [1., 0.],\n",
       "       [0., 1.],\n",
       "       [1., 0.],\n",
       "       [1., 0.],\n",
       "       [1., 0.],\n",
       "       [0., 1.],\n",
       "       [0., 1.],\n",
       "       [0., 1.],\n",
       "       [0., 1.],\n",
       "       [0., 1.],\n",
       "       [0., 1.],\n",
       "       [1., 0.],\n",
       "       [1., 0.],\n",
       "       [1., 0.],\n",
       "       [1., 0.],\n",
       "       [1., 0.],\n",
       "       [1., 0.],\n",
       "       [0., 1.],\n",
       "       [0., 1.],\n",
       "       [0., 1.],\n",
       "       [0., 1.],\n",
       "       [1., 0.],\n",
       "       [1., 0.],\n",
       "       [1., 0.],\n",
       "       [1., 0.],\n",
       "       [1., 0.],\n",
       "       [1., 0.],\n",
       "       [1., 0.],\n",
       "       [1., 0.],\n",
       "       [0., 1.],\n",
       "       [0., 1.],\n",
       "       [1., 0.],\n",
       "       [1., 0.],\n",
       "       [1., 0.],\n",
       "       [1., 0.],\n",
       "       [1., 0.],\n",
       "       [0., 1.],\n",
       "       [1., 0.],\n",
       "       [0., 1.],\n",
       "       [0., 1.],\n",
       "       [0., 1.],\n",
       "       [1., 0.],\n",
       "       [1., 0.],\n",
       "       [1., 0.],\n",
       "       [0., 1.],\n",
       "       [1., 0.],\n",
       "       [1., 0.],\n",
       "       [1., 0.],\n",
       "       [1., 0.],\n",
       "       [0., 1.],\n",
       "       [1., 0.],\n",
       "       [1., 0.],\n",
       "       [0., 1.],\n",
       "       [1., 0.],\n",
       "       [0., 1.],\n",
       "       [1., 0.],\n",
       "       [0., 1.],\n",
       "       [0., 1.],\n",
       "       [0., 1.],\n",
       "       [1., 0.],\n",
       "       [1., 0.],\n",
       "       [1., 0.],\n",
       "       [1., 0.],\n",
       "       [1., 0.],\n",
       "       [1., 0.],\n",
       "       [1., 0.],\n",
       "       [1., 0.],\n",
       "       [1., 0.],\n",
       "       [1., 0.],\n",
       "       [0., 1.],\n",
       "       [1., 0.],\n",
       "       [1., 0.],\n",
       "       [0., 1.],\n",
       "       [0., 1.],\n",
       "       [1., 0.],\n",
       "       [1., 0.],\n",
       "       [1., 0.],\n",
       "       [1., 0.],\n",
       "       [0., 1.],\n",
       "       [1., 0.],\n",
       "       [1., 0.],\n",
       "       [1., 0.],\n",
       "       [0., 1.],\n",
       "       [1., 0.],\n",
       "       [1., 0.],\n",
       "       [0., 1.],\n",
       "       [1., 0.],\n",
       "       [1., 0.],\n",
       "       [1., 0.],\n",
       "       [1., 0.],\n",
       "       [0., 1.],\n",
       "       [1., 0.],\n",
       "       [0., 1.],\n",
       "       [1., 0.],\n",
       "       [1., 0.],\n",
       "       [1., 0.],\n",
       "       [1., 0.],\n",
       "       [1., 0.],\n",
       "       [1., 0.],\n",
       "       [0., 1.],\n",
       "       [1., 0.],\n",
       "       [0., 1.],\n",
       "       [1., 0.],\n",
       "       [1., 0.],\n",
       "       [0., 1.],\n",
       "       [1., 0.],\n",
       "       [0., 1.],\n",
       "       [1., 0.],\n",
       "       [1., 0.],\n",
       "       [0., 1.],\n",
       "       [1., 0.],\n",
       "       [1., 0.],\n",
       "       [1., 0.],\n",
       "       [0., 1.],\n",
       "       [0., 1.],\n",
       "       [0., 1.],\n",
       "       [1., 0.],\n",
       "       [1., 0.],\n",
       "       [0., 1.],\n",
       "       [1., 0.],\n",
       "       [1., 0.],\n",
       "       [0., 1.],\n",
       "       [1., 0.],\n",
       "       [1., 0.],\n",
       "       [1., 0.],\n",
       "       [0., 1.],\n",
       "       [1., 0.],\n",
       "       [1., 0.],\n",
       "       [1., 0.],\n",
       "       [0., 1.],\n",
       "       [1., 0.],\n",
       "       [1., 0.],\n",
       "       [1., 0.],\n",
       "       [1., 0.],\n",
       "       [1., 0.],\n",
       "       [0., 1.],\n",
       "       [1., 0.],\n",
       "       [1., 0.],\n",
       "       [0., 1.],\n",
       "       [1., 0.],\n",
       "       [1., 0.],\n",
       "       [0., 1.],\n",
       "       [0., 1.],\n",
       "       [1., 0.],\n",
       "       [1., 0.],\n",
       "       [1., 0.],\n",
       "       [0., 1.],\n",
       "       [1., 0.],\n",
       "       [0., 1.],\n",
       "       [1., 0.],\n",
       "       [0., 1.],\n",
       "       [1., 0.],\n",
       "       [0., 1.],\n",
       "       [0., 1.],\n",
       "       [1., 0.],\n",
       "       [1., 0.],\n",
       "       [0., 1.],\n",
       "       [0., 1.],\n",
       "       [1., 0.],\n",
       "       [1., 0.]], dtype=float32)"
      ]
     },
     "execution_count": 22,
     "metadata": {},
     "output_type": "execute_result"
    }
   ],
   "source": [
    "from tensorflow.keras.utils import to_categorical\n",
    "\n",
    "y_train_categorical = to_categorical(y_train)\n",
    "y_test_categorical = to_categorical(y_test)\n",
    "y_train_categorical"
   ]
  },
  {
   "cell_type": "markdown",
   "metadata": {},
   "source": [
    "# Scaling the Data:"
   ]
  },
  {
   "cell_type": "code",
   "execution_count": 23,
   "metadata": {},
   "outputs": [],
   "source": [
    "from sklearn.preprocessing import StandardScaler\n",
    "\n",
    "X_scaler = StandardScaler().fit(X_train)"
   ]
  },
  {
   "cell_type": "code",
   "execution_count": 24,
   "metadata": {},
   "outputs": [],
   "source": [
    "X_train_scaled = X_scaler.transform(X_train)\n",
    "X_test_scaled = X_scaler.transform(X_test)"
   ]
  },
  {
   "cell_type": "code",
   "execution_count": null,
   "metadata": {},
   "outputs": [],
   "source": []
  },
  {
   "cell_type": "markdown",
   "metadata": {},
   "source": [
    "# K Nearest Neighbors:"
   ]
  },
  {
   "cell_type": "code",
   "execution_count": 25,
   "metadata": {},
   "outputs": [],
   "source": [
    "from sklearn.neighbors import KNeighborsClassifier"
   ]
  },
  {
   "cell_type": "code",
   "execution_count": 26,
   "metadata": {},
   "outputs": [
    {
     "name": "stdout",
     "output_type": "stream",
     "text": [
      "k: 1, Train/Test Score: 1.000/0.693\n",
      "k: 3, Train/Test Score: 0.821/0.707\n",
      "k: 5, Train/Test Score: 0.808/0.840\n",
      "k: 7, Train/Test Score: 0.768/0.853\n",
      "k: 9, Train/Test Score: 0.777/0.853\n",
      "k: 11, Train/Test Score: 0.772/0.840\n",
      "k: 13, Train/Test Score: 0.772/0.840\n",
      "k: 15, Train/Test Score: 0.777/0.787\n",
      "k: 17, Train/Test Score: 0.754/0.787\n",
      "k: 19, Train/Test Score: 0.768/0.787\n",
      "k: 21, Train/Test Score: 0.768/0.800\n",
      "k: 23, Train/Test Score: 0.759/0.787\n",
      "k: 25, Train/Test Score: 0.737/0.800\n",
      "k: 27, Train/Test Score: 0.737/0.800\n",
      "k: 29, Train/Test Score: 0.732/0.800\n",
      "k: 31, Train/Test Score: 0.728/0.800\n",
      "k: 33, Train/Test Score: 0.728/0.827\n",
      "k: 35, Train/Test Score: 0.719/0.800\n",
      "k: 37, Train/Test Score: 0.714/0.813\n",
      "k: 39, Train/Test Score: 0.705/0.813\n"
     ]
    },
    {
     "data": {
      "image/png": "[encoded data removed]",
      "text/plain": [
       "<Figure size 432x288 with 1 Axes>"
      ]
     },
     "metadata": {
      "needs_background": "light"
     },
     "output_type": "display_data"
    }
   ],
   "source": [
    "train_scores = []\n",
    "test_scores = []\n",
    "for k in range(1, 40, 2):\n",
    "    knn = KNeighborsClassifier(n_neighbors=k)\n",
    "    knn.fit(X_train_scaled, y_train)\n",
    "    train_score = knn.score(X_train_scaled, y_train)\n",
    "    test_score = knn.score(X_test_scaled, y_test)\n",
    "    train_scores.append(train_score)\n",
    "    test_scores.append(test_score)\n",
    "    print(f\"k: {k}, Train/Test Score: {train_score:.3f}/{test_score:.3f}\")\n",
    "    \n",
    "    \n",
    "plt.plot(range(1, 40, 2), train_scores, marker='o')\n",
    "plt.plot(range(1, 40, 2), test_scores, marker=\"x\")\n",
    "plt.xlabel(\"k neighbors\")\n",
    "plt.ylabel(\"Testing accuracy Score\")\n",
    "plt.show()"
   ]
  },
  {
   "cell_type": "code",
   "execution_count": 27,
   "metadata": {},
   "outputs": [
    {
     "name": "stdout",
     "output_type": "stream",
     "text": [
      "k=9 Test Acc: 0.853\n"
     ]
    },
    {
     "data": {
      "text/plain": [
       "85.33"
      ]
     },
     "execution_count": 27,
     "metadata": {},
     "output_type": "execute_result"
    }
   ],
   "source": [
    "knn = KNeighborsClassifier(n_neighbors=9)\n",
    "knn.fit(X_train_scaled, y_train)\n",
    "print('k=9 Test Acc: %.3f' % knn.score(X_test_scaled, y_test))\n",
    "KNNA = round((knn.score(X_test_scaled, y_test) * 100),2)\n",
    "KNNA"
   ]
  },
  {
   "cell_type": "code",
   "execution_count": null,
   "metadata": {},
   "outputs": [],
   "source": []
  },
  {
   "cell_type": "markdown",
   "metadata": {},
   "source": [
    "# Neural Network:"
   ]
  },
  {
   "cell_type": "code",
   "execution_count": 28,
   "metadata": {},
   "outputs": [],
   "source": [
    "from tensorflow.keras.utils import to_categorical"
   ]
  },
  {
   "cell_type": "code",
   "execution_count": 29,
   "metadata": {},
   "outputs": [],
   "source": [
    "y_train_categorical = to_categorical(y_train)\n",
    "y_test_categorical = to_categorical(y_test)"
   ]
  },
  {
   "cell_type": "code",
   "execution_count": 30,
   "metadata": {},
   "outputs": [],
   "source": [
    "from tensorflow.keras.models import Sequential\n",
    "from tensorflow.keras.layers import Dense\n",
    "\n",
    "model = Sequential()\n",
    "model.add(Dense(units=24, activation='relu', input_dim=12))\n",
    "model.add(Dense(units=2, activation='softmax'))"
   ]
  },
  {
   "cell_type": "code",
   "execution_count": 31,
   "metadata": {},
   "outputs": [
    {
     "name": "stdout",
     "output_type": "stream",
     "text": [
      "Model: \"sequential\"\n",
      "_________________________________________________________________\n",
      "Layer (type)                 Output Shape              Param #   \n",
      "=================================================================\n",
      "dense (Dense)                (None, 24)                312       \n",
      "_________________________________________________________________\n",
      "dense_1 (Dense)              (None, 2)                 50        \n",
      "=================================================================\n",
      "Total params: 362\n",
      "Trainable params: 362\n",
      "Non-trainable params: 0\n",
      "_________________________________________________________________\n"
     ]
    }
   ],
   "source": [
    "model.summary()"
   ]
  },
  {
   "cell_type": "code",
   "execution_count": 32,
   "metadata": {},
   "outputs": [],
   "source": [
    "model.compile(optimizer='adam',\n",
    "              loss='categorical_crossentropy',\n",
    "              metrics=['accuracy'])"
   ]
  },
  {
   "cell_type": "code",
   "execution_count": 33,
   "metadata": {},
   "outputs": [
    {
     "name": "stdout",
     "output_type": "stream",
     "text": [
      "Train on 224 samples\n",
      "Epoch 1/100\n",
      "224/224 - 1s - loss: 0.9096 - accuracy: 0.3884\n",
      "Epoch 2/100\n",
      "224/224 - 0s - loss: 0.8606 - accuracy: 0.4241\n",
      "Epoch 3/100\n",
      "224/224 - 0s - loss: 0.8143 - accuracy: 0.4509\n",
      "Epoch 4/100\n",
      "224/224 - 0s - loss: 0.7768 - accuracy: 0.5045\n",
      "Epoch 5/100\n",
      "224/224 - 0s - loss: 0.7416 - accuracy: 0.5357\n",
      "Epoch 6/100\n",
      "224/224 - 0s - loss: 0.7106 - accuracy: 0.5759\n",
      "Epoch 7/100\n",
      "224/224 - 0s - loss: 0.6828 - accuracy: 0.6205\n",
      "Epoch 8/100\n",
      "224/224 - 0s - loss: 0.6588 - accuracy: 0.6473\n",
      "Epoch 9/100\n",
      "224/224 - 0s - loss: 0.6368 - accuracy: 0.6652\n",
      "Epoch 10/100\n",
      "224/224 - 0s - loss: 0.6174 - accuracy: 0.6786\n",
      "Epoch 11/100\n",
      "224/224 - 0s - loss: 0.5994 - accuracy: 0.7098\n",
      "Epoch 12/100\n",
      "224/224 - 0s - loss: 0.5832 - accuracy: 0.7232\n",
      "Epoch 13/100\n",
      "224/224 - 0s - loss: 0.5670 - accuracy: 0.7321\n",
      "Epoch 14/100\n",
      "224/224 - 0s - loss: 0.5538 - accuracy: 0.7500\n",
      "Epoch 15/100\n",
      "224/224 - 0s - loss: 0.5404 - accuracy: 0.7768\n",
      "Epoch 16/100\n",
      "224/224 - 0s - loss: 0.5283 - accuracy: 0.7768\n",
      "Epoch 17/100\n",
      "224/224 - 0s - loss: 0.5174 - accuracy: 0.7857\n",
      "Epoch 18/100\n",
      "224/224 - 0s - loss: 0.5074 - accuracy: 0.7946\n",
      "Epoch 19/100\n",
      "224/224 - 0s - loss: 0.4967 - accuracy: 0.7991\n",
      "Epoch 20/100\n",
      "224/224 - 0s - loss: 0.4877 - accuracy: 0.8080\n",
      "Epoch 21/100\n",
      "224/224 - 0s - loss: 0.4788 - accuracy: 0.8170\n",
      "Epoch 22/100\n",
      "224/224 - 0s - loss: 0.4708 - accuracy: 0.8304\n",
      "Epoch 23/100\n",
      "224/224 - 0s - loss: 0.4629 - accuracy: 0.8348\n",
      "Epoch 24/100\n",
      "224/224 - 0s - loss: 0.4557 - accuracy: 0.8438\n",
      "Epoch 25/100\n",
      "224/224 - 0s - loss: 0.4489 - accuracy: 0.8482\n",
      "Epoch 26/100\n",
      "224/224 - 0s - loss: 0.4430 - accuracy: 0.8482\n",
      "Epoch 27/100\n",
      "224/224 - 0s - loss: 0.4368 - accuracy: 0.8482\n",
      "Epoch 28/100\n",
      "224/224 - 0s - loss: 0.4310 - accuracy: 0.8393\n",
      "Epoch 29/100\n",
      "224/224 - 0s - loss: 0.4255 - accuracy: 0.8393\n",
      "Epoch 30/100\n",
      "224/224 - 0s - loss: 0.4207 - accuracy: 0.8393\n",
      "Epoch 31/100\n",
      "224/224 - 0s - loss: 0.4162 - accuracy: 0.8393\n",
      "Epoch 32/100\n",
      "224/224 - 0s - loss: 0.4117 - accuracy: 0.8438\n",
      "Epoch 33/100\n",
      "224/224 - 0s - loss: 0.4069 - accuracy: 0.8438\n",
      "Epoch 34/100\n",
      "224/224 - 0s - loss: 0.4029 - accuracy: 0.8393\n",
      "Epoch 35/100\n",
      "224/224 - 0s - loss: 0.3988 - accuracy: 0.8438\n",
      "Epoch 36/100\n",
      "224/224 - 0s - loss: 0.3952 - accuracy: 0.8438\n",
      "Epoch 37/100\n",
      "224/224 - 0s - loss: 0.3915 - accuracy: 0.8571\n",
      "Epoch 38/100\n",
      "224/224 - 0s - loss: 0.3882 - accuracy: 0.8571\n",
      "Epoch 39/100\n",
      "224/224 - 0s - loss: 0.3849 - accuracy: 0.8571\n",
      "Epoch 40/100\n",
      "224/224 - 0s - loss: 0.3819 - accuracy: 0.8571\n",
      "Epoch 41/100\n",
      "224/224 - 0s - loss: 0.3786 - accuracy: 0.8616\n",
      "Epoch 42/100\n",
      "224/224 - 0s - loss: 0.3757 - accuracy: 0.8661\n",
      "Epoch 43/100\n",
      "224/224 - 0s - loss: 0.3729 - accuracy: 0.8661\n",
      "Epoch 44/100\n",
      "224/224 - 0s - loss: 0.3701 - accuracy: 0.8661\n",
      "Epoch 45/100\n",
      "224/224 - 0s - loss: 0.3676 - accuracy: 0.8705\n",
      "Epoch 46/100\n",
      "224/224 - 0s - loss: 0.3652 - accuracy: 0.8705\n",
      "Epoch 47/100\n",
      "224/224 - 0s - loss: 0.3623 - accuracy: 0.8661\n",
      "Epoch 48/100\n",
      "224/224 - 0s - loss: 0.3601 - accuracy: 0.8616\n",
      "Epoch 49/100\n",
      "224/224 - 0s - loss: 0.3577 - accuracy: 0.8616\n",
      "Epoch 50/100\n",
      "224/224 - 0s - loss: 0.3555 - accuracy: 0.8616\n",
      "Epoch 51/100\n",
      "224/224 - 0s - loss: 0.3532 - accuracy: 0.8616\n",
      "Epoch 52/100\n",
      "224/224 - 0s - loss: 0.3511 - accuracy: 0.8616\n",
      "Epoch 53/100\n",
      "224/224 - 0s - loss: 0.3488 - accuracy: 0.8661\n",
      "Epoch 54/100\n",
      "224/224 - 0s - loss: 0.3470 - accuracy: 0.8661\n",
      "Epoch 55/100\n",
      "224/224 - 0s - loss: 0.3452 - accuracy: 0.8661\n",
      "Epoch 56/100\n",
      "224/224 - 0s - loss: 0.3433 - accuracy: 0.8661\n",
      "Epoch 57/100\n",
      "224/224 - 0s - loss: 0.3415 - accuracy: 0.8661\n",
      "Epoch 58/100\n",
      "224/224 - 0s - loss: 0.3399 - accuracy: 0.8661\n",
      "Epoch 59/100\n",
      "224/224 - 0s - loss: 0.3384 - accuracy: 0.8705\n",
      "Epoch 60/100\n",
      "224/224 - 0s - loss: 0.3370 - accuracy: 0.8705\n",
      "Epoch 61/100\n",
      "224/224 - 0s - loss: 0.3351 - accuracy: 0.8705\n",
      "Epoch 62/100\n",
      "224/224 - 0s - loss: 0.3336 - accuracy: 0.8705\n",
      "Epoch 63/100\n",
      "224/224 - 0s - loss: 0.3322 - accuracy: 0.8750\n",
      "Epoch 64/100\n",
      "224/224 - 0s - loss: 0.3309 - accuracy: 0.8750\n",
      "Epoch 65/100\n",
      "224/224 - 0s - loss: 0.3293 - accuracy: 0.8705\n",
      "Epoch 66/100\n",
      "224/224 - 0s - loss: 0.3278 - accuracy: 0.8705\n",
      "Epoch 67/100\n",
      "224/224 - 0s - loss: 0.3268 - accuracy: 0.8750\n",
      "Epoch 68/100\n",
      "224/224 - 0s - loss: 0.3253 - accuracy: 0.8795\n",
      "Epoch 69/100\n",
      "224/224 - 0s - loss: 0.3236 - accuracy: 0.8795\n",
      "Epoch 70/100\n",
      "224/224 - 0s - loss: 0.3224 - accuracy: 0.8750\n",
      "Epoch 71/100\n",
      "224/224 - 0s - loss: 0.3212 - accuracy: 0.8750\n",
      "Epoch 72/100\n",
      "224/224 - 0s - loss: 0.3202 - accuracy: 0.8750\n",
      "Epoch 73/100\n",
      "224/224 - 0s - loss: 0.3187 - accuracy: 0.8750\n",
      "Epoch 74/100\n",
      "224/224 - 0s - loss: 0.3178 - accuracy: 0.8795\n",
      "Epoch 75/100\n",
      "224/224 - 0s - loss: 0.3163 - accuracy: 0.8839\n",
      "Epoch 76/100\n",
      "224/224 - 0s - loss: 0.3152 - accuracy: 0.8839\n",
      "Epoch 77/100\n",
      "224/224 - 0s - loss: 0.3141 - accuracy: 0.8839\n",
      "Epoch 78/100\n",
      "224/224 - 0s - loss: 0.3134 - accuracy: 0.8839\n",
      "Epoch 79/100\n",
      "224/224 - 0s - loss: 0.3119 - accuracy: 0.8884\n",
      "Epoch 80/100\n",
      "224/224 - 0s - loss: 0.3108 - accuracy: 0.8884\n",
      "Epoch 81/100\n",
      "224/224 - 0s - loss: 0.3098 - accuracy: 0.8929\n",
      "Epoch 82/100\n",
      "224/224 - 0s - loss: 0.3087 - accuracy: 0.8929\n",
      "Epoch 83/100\n",
      "224/224 - 0s - loss: 0.3078 - accuracy: 0.8973\n",
      "Epoch 84/100\n",
      "224/224 - 0s - loss: 0.3067 - accuracy: 0.8973\n",
      "Epoch 85/100\n",
      "224/224 - 0s - loss: 0.3058 - accuracy: 0.8973\n",
      "Epoch 86/100\n",
      "224/224 - 0s - loss: 0.3049 - accuracy: 0.8973\n",
      "Epoch 87/100\n",
      "224/224 - 0s - loss: 0.3041 - accuracy: 0.8973\n",
      "Epoch 88/100\n",
      "224/224 - 0s - loss: 0.3029 - accuracy: 0.8973\n",
      "Epoch 89/100\n",
      "224/224 - 0s - loss: 0.3018 - accuracy: 0.8973\n",
      "Epoch 90/100\n",
      "224/224 - 0s - loss: 0.3011 - accuracy: 0.8973\n",
      "Epoch 91/100\n",
      "224/224 - 0s - loss: 0.2998 - accuracy: 0.8973\n",
      "Epoch 92/100\n",
      "224/224 - 0s - loss: 0.2989 - accuracy: 0.8973\n",
      "Epoch 93/100\n",
      "224/224 - 0s - loss: 0.2977 - accuracy: 0.8973\n",
      "Epoch 94/100\n",
      "224/224 - 0s - loss: 0.2970 - accuracy: 0.8973\n",
      "Epoch 95/100\n",
      "224/224 - 0s - loss: 0.2959 - accuracy: 0.8973\n",
      "Epoch 96/100\n",
      "224/224 - 0s - loss: 0.2950 - accuracy: 0.8973\n",
      "Epoch 97/100\n",
      "224/224 - 0s - loss: 0.2939 - accuracy: 0.8973\n",
      "Epoch 98/100\n",
      "224/224 - 0s - loss: 0.2928 - accuracy: 0.8973\n",
      "Epoch 99/100\n",
      "224/224 - 0s - loss: 0.2918 - accuracy: 0.8973\n",
      "Epoch 100/100\n",
      "224/224 - 0s - loss: 0.2910 - accuracy: 0.8973\n"
     ]
    },
    {
     "data": {
      "text/plain": [
       "<tensorflow.python.keras.callbacks.History at 0x19d89cf9448>"
      ]
     },
     "execution_count": 33,
     "metadata": {},
     "output_type": "execute_result"
    }
   ],
   "source": [
    "model.fit(\n",
    "    X_train_scaled,\n",
    "    y_train_categorical,\n",
    "    epochs=100,\n",
    "    shuffle=True,\n",
    "    verbose=2\n",
    ")"
   ]
  },
  {
   "cell_type": "markdown",
   "metadata": {},
   "source": [
    "# Deep Learning:"
   ]
  },
  {
   "cell_type": "code",
   "execution_count": 34,
   "metadata": {},
   "outputs": [],
   "source": [
    "deep_model = Sequential()\n",
    "deep_model.add(Dense(units=24, activation='relu', input_dim=12))\n",
    "deep_model.add(Dense(units=6, activation='relu'))\n",
    "deep_model.add(Dense(units=2, activation='softmax'))"
   ]
  },
  {
   "cell_type": "code",
   "execution_count": 35,
   "metadata": {},
   "outputs": [
    {
     "name": "stdout",
     "output_type": "stream",
     "text": [
      "Train on 224 samples\n",
      "Epoch 1/100\n",
      "224/224 - 1s - loss: 0.7205 - accuracy: 0.4955\n",
      "Epoch 2/100\n",
      "224/224 - 0s - loss: 0.6990 - accuracy: 0.5134\n",
      "Epoch 3/100\n",
      "224/224 - 0s - loss: 0.6798 - accuracy: 0.5714\n",
      "Epoch 4/100\n",
      "224/224 - 0s - loss: 0.6635 - accuracy: 0.5848\n",
      "Epoch 5/100\n",
      "224/224 - 0s - loss: 0.6467 - accuracy: 0.6071\n",
      "Epoch 6/100\n",
      "224/224 - 0s - loss: 0.6320 - accuracy: 0.6339\n",
      "Epoch 7/100\n",
      "224/224 - 0s - loss: 0.6180 - accuracy: 0.6607\n",
      "Epoch 8/100\n",
      "224/224 - 0s - loss: 0.6047 - accuracy: 0.6875\n",
      "Epoch 9/100\n",
      "224/224 - 0s - loss: 0.5915 - accuracy: 0.7098\n",
      "Epoch 10/100\n",
      "224/224 - 0s - loss: 0.5777 - accuracy: 0.7232\n",
      "Epoch 11/100\n",
      "224/224 - 0s - loss: 0.5645 - accuracy: 0.7321\n",
      "Epoch 12/100\n",
      "224/224 - 0s - loss: 0.5517 - accuracy: 0.7455\n",
      "Epoch 13/100\n",
      "224/224 - 0s - loss: 0.5382 - accuracy: 0.7545\n",
      "Epoch 14/100\n",
      "224/224 - 0s - loss: 0.5240 - accuracy: 0.7634\n",
      "Epoch 15/100\n",
      "224/224 - 0s - loss: 0.5115 - accuracy: 0.7679\n",
      "Epoch 16/100\n",
      "224/224 - 0s - loss: 0.4983 - accuracy: 0.7902\n",
      "Epoch 17/100\n",
      "224/224 - 0s - loss: 0.4861 - accuracy: 0.8036\n",
      "Epoch 18/100\n",
      "224/224 - 0s - loss: 0.4731 - accuracy: 0.8036\n",
      "Epoch 19/100\n",
      "224/224 - 0s - loss: 0.4616 - accuracy: 0.8125\n",
      "Epoch 20/100\n",
      "224/224 - 0s - loss: 0.4500 - accuracy: 0.8259\n",
      "Epoch 21/100\n",
      "224/224 - 0s - loss: 0.4399 - accuracy: 0.8214\n",
      "Epoch 22/100\n",
      "224/224 - 0s - loss: 0.4296 - accuracy: 0.8214\n",
      "Epoch 23/100\n",
      "224/224 - 0s - loss: 0.4199 - accuracy: 0.8393\n",
      "Epoch 24/100\n",
      "224/224 - 0s - loss: 0.4107 - accuracy: 0.8482\n",
      "Epoch 25/100\n",
      "224/224 - 0s - loss: 0.4010 - accuracy: 0.8482\n",
      "Epoch 26/100\n",
      "224/224 - 0s - loss: 0.3921 - accuracy: 0.8482\n",
      "Epoch 27/100\n",
      "224/224 - 0s - loss: 0.3843 - accuracy: 0.8527\n",
      "Epoch 28/100\n",
      "224/224 - 0s - loss: 0.3762 - accuracy: 0.8527\n",
      "Epoch 29/100\n",
      "224/224 - 0s - loss: 0.3695 - accuracy: 0.8527\n",
      "Epoch 30/100\n",
      "224/224 - 0s - loss: 0.3631 - accuracy: 0.8527\n",
      "Epoch 31/100\n",
      "224/224 - 0s - loss: 0.3564 - accuracy: 0.8527\n",
      "Epoch 32/100\n",
      "224/224 - 0s - loss: 0.3511 - accuracy: 0.8482\n",
      "Epoch 33/100\n",
      "224/224 - 0s - loss: 0.3465 - accuracy: 0.8482\n",
      "Epoch 34/100\n",
      "224/224 - 0s - loss: 0.3418 - accuracy: 0.8527\n",
      "Epoch 35/100\n",
      "224/224 - 0s - loss: 0.3373 - accuracy: 0.8482\n",
      "Epoch 36/100\n",
      "224/224 - 0s - loss: 0.3327 - accuracy: 0.8482\n",
      "Epoch 37/100\n",
      "224/224 - 0s - loss: 0.3296 - accuracy: 0.8527\n",
      "Epoch 38/100\n",
      "224/224 - 0s - loss: 0.3260 - accuracy: 0.8527\n",
      "Epoch 39/100\n",
      "224/224 - 0s - loss: 0.3221 - accuracy: 0.8527\n",
      "Epoch 40/100\n",
      "224/224 - 0s - loss: 0.3190 - accuracy: 0.8527\n",
      "Epoch 41/100\n",
      "224/224 - 0s - loss: 0.3161 - accuracy: 0.8527\n",
      "Epoch 42/100\n",
      "224/224 - 0s - loss: 0.3132 - accuracy: 0.8571\n",
      "Epoch 43/100\n",
      "224/224 - 0s - loss: 0.3104 - accuracy: 0.8616\n",
      "Epoch 44/100\n",
      "224/224 - 0s - loss: 0.3074 - accuracy: 0.8616\n",
      "Epoch 45/100\n",
      "224/224 - 0s - loss: 0.3052 - accuracy: 0.8661\n",
      "Epoch 46/100\n",
      "224/224 - 0s - loss: 0.3024 - accuracy: 0.8705\n",
      "Epoch 47/100\n",
      "224/224 - 0s - loss: 0.2998 - accuracy: 0.8750\n",
      "Epoch 48/100\n",
      "224/224 - 0s - loss: 0.2981 - accuracy: 0.8750\n",
      "Epoch 49/100\n",
      "224/224 - 0s - loss: 0.2952 - accuracy: 0.8750\n",
      "Epoch 50/100\n",
      "224/224 - 0s - loss: 0.2937 - accuracy: 0.8750\n",
      "Epoch 51/100\n",
      "224/224 - 0s - loss: 0.2909 - accuracy: 0.8750\n",
      "Epoch 52/100\n",
      "224/224 - 0s - loss: 0.2892 - accuracy: 0.8750\n",
      "Epoch 53/100\n",
      "224/224 - 0s - loss: 0.2871 - accuracy: 0.8795\n",
      "Epoch 54/100\n",
      "224/224 - 0s - loss: 0.2848 - accuracy: 0.8839\n",
      "Epoch 55/100\n",
      "224/224 - 0s - loss: 0.2830 - accuracy: 0.8839\n",
      "Epoch 56/100\n",
      "224/224 - 0s - loss: 0.2813 - accuracy: 0.8839\n",
      "Epoch 57/100\n",
      "224/224 - 0s - loss: 0.2793 - accuracy: 0.8884\n",
      "Epoch 58/100\n",
      "224/224 - 0s - loss: 0.2774 - accuracy: 0.8839\n",
      "Epoch 59/100\n",
      "224/224 - 0s - loss: 0.2754 - accuracy: 0.8839\n",
      "Epoch 60/100\n",
      "224/224 - 0s - loss: 0.2737 - accuracy: 0.8884\n",
      "Epoch 61/100\n",
      "224/224 - 0s - loss: 0.2712 - accuracy: 0.8884\n",
      "Epoch 62/100\n",
      "224/224 - 0s - loss: 0.2696 - accuracy: 0.8884\n",
      "Epoch 63/100\n",
      "224/224 - 0s - loss: 0.2676 - accuracy: 0.8884\n",
      "Epoch 64/100\n",
      "224/224 - 0s - loss: 0.2660 - accuracy: 0.8929\n",
      "Epoch 65/100\n",
      "224/224 - 0s - loss: 0.2634 - accuracy: 0.9018\n",
      "Epoch 66/100\n",
      "224/224 - 0s - loss: 0.2620 - accuracy: 0.9018\n",
      "Epoch 67/100\n",
      "224/224 - 0s - loss: 0.2600 - accuracy: 0.8973\n",
      "Epoch 68/100\n",
      "224/224 - 0s - loss: 0.2581 - accuracy: 0.8973\n",
      "Epoch 69/100\n",
      "224/224 - 0s - loss: 0.2562 - accuracy: 0.9018\n",
      "Epoch 70/100\n",
      "224/224 - 0s - loss: 0.2545 - accuracy: 0.9018\n",
      "Epoch 71/100\n",
      "224/224 - 0s - loss: 0.2528 - accuracy: 0.9018\n",
      "Epoch 72/100\n",
      "224/224 - 0s - loss: 0.2506 - accuracy: 0.9018\n",
      "Epoch 73/100\n",
      "224/224 - 0s - loss: 0.2488 - accuracy: 0.9018\n",
      "Epoch 74/100\n",
      "224/224 - 0s - loss: 0.2469 - accuracy: 0.9062\n",
      "Epoch 75/100\n",
      "224/224 - 0s - loss: 0.2449 - accuracy: 0.9062\n",
      "Epoch 76/100\n",
      "224/224 - 0s - loss: 0.2431 - accuracy: 0.9062\n",
      "Epoch 77/100\n",
      "224/224 - 0s - loss: 0.2414 - accuracy: 0.9062\n",
      "Epoch 78/100\n",
      "224/224 - 0s - loss: 0.2392 - accuracy: 0.9062\n",
      "Epoch 79/100\n",
      "224/224 - 0s - loss: 0.2371 - accuracy: 0.9107\n",
      "Epoch 80/100\n",
      "224/224 - 0s - loss: 0.2357 - accuracy: 0.9107\n",
      "Epoch 81/100\n",
      "224/224 - 0s - loss: 0.2336 - accuracy: 0.9107\n",
      "Epoch 82/100\n",
      "224/224 - 0s - loss: 0.2314 - accuracy: 0.9152\n",
      "Epoch 83/100\n",
      "224/224 - 0s - loss: 0.2299 - accuracy: 0.9152\n",
      "Epoch 84/100\n",
      "224/224 - 0s - loss: 0.2277 - accuracy: 0.9152\n",
      "Epoch 85/100\n",
      "224/224 - 0s - loss: 0.2256 - accuracy: 0.9152\n",
      "Epoch 86/100\n",
      "224/224 - 0s - loss: 0.2239 - accuracy: 0.9152\n",
      "Epoch 87/100\n",
      "224/224 - 0s - loss: 0.2214 - accuracy: 0.9152\n",
      "Epoch 88/100\n",
      "224/224 - 0s - loss: 0.2196 - accuracy: 0.9152\n",
      "Epoch 89/100\n",
      "224/224 - 0s - loss: 0.2177 - accuracy: 0.9196\n",
      "Epoch 90/100\n",
      "224/224 - 0s - loss: 0.2159 - accuracy: 0.9196\n",
      "Epoch 91/100\n",
      "224/224 - 0s - loss: 0.2139 - accuracy: 0.9196\n",
      "Epoch 92/100\n",
      "224/224 - 0s - loss: 0.2123 - accuracy: 0.9196\n",
      "Epoch 93/100\n",
      "224/224 - 0s - loss: 0.2105 - accuracy: 0.9196\n",
      "Epoch 94/100\n",
      "224/224 - 0s - loss: 0.2084 - accuracy: 0.9196\n",
      "Epoch 95/100\n",
      "224/224 - 0s - loss: 0.2068 - accuracy: 0.9196\n",
      "Epoch 96/100\n",
      "224/224 - 0s - loss: 0.2046 - accuracy: 0.9196\n",
      "Epoch 97/100\n",
      "224/224 - 0s - loss: 0.2030 - accuracy: 0.9196\n",
      "Epoch 98/100\n",
      "224/224 - 0s - loss: 0.2009 - accuracy: 0.9196\n",
      "Epoch 99/100\n",
      "224/224 - 0s - loss: 0.1996 - accuracy: 0.9196\n",
      "Epoch 100/100\n",
      "224/224 - 0s - loss: 0.1976 - accuracy: 0.9196\n"
     ]
    },
    {
     "data": {
      "text/plain": [
       "<tensorflow.python.keras.callbacks.History at 0x19d89ce7b88>"
      ]
     },
     "execution_count": 35,
     "metadata": {},
     "output_type": "execute_result"
    }
   ],
   "source": [
    "deep_model.compile(optimizer='adam',\n",
    "                   loss='categorical_crossentropy',\n",
    "                   metrics=['accuracy'])\n",
    "\n",
    "deep_model.fit(\n",
    "    X_train_scaled,\n",
    "    y_train_categorical,\n",
    "    epochs=100,\n",
    "    shuffle=True,\n",
    "    verbose=2\n",
    ")"
   ]
  },
  {
   "cell_type": "code",
   "execution_count": null,
   "metadata": {},
   "outputs": [],
   "source": []
  },
  {
   "cell_type": "code",
   "execution_count": 36,
   "metadata": {},
   "outputs": [
    {
     "name": "stdout",
     "output_type": "stream",
     "text": [
      "75/75 - 0s - loss: 0.4166 - accuracy: 0.8533\n",
      "Normal Neural Network - Loss: 0.41661871592203775, Accuracy: 0.8533333539962769\n"
     ]
    },
    {
     "data": {
      "text/plain": [
       "85.33"
      ]
     },
     "execution_count": 36,
     "metadata": {},
     "output_type": "execute_result"
    }
   ],
   "source": [
    "# Neural Network Acct\n",
    "model_loss, model_accuracy = model.evaluate(\n",
    "    X_test_scaled, y_test_categorical, verbose=2)\n",
    "print(\n",
    "    f\"Normal Neural Network - Loss: {model_loss}, Accuracy: {model_accuracy}\")\n",
    "\n",
    "NNA = round((model_accuracy * 100),2)\n",
    "NNA"
   ]
  },
  {
   "cell_type": "code",
   "execution_count": 37,
   "metadata": {},
   "outputs": [
    {
     "name": "stdout",
     "output_type": "stream",
     "text": [
      "75/75 - 0s - loss: 0.4852 - accuracy: 0.8133\n",
      "Deep Neural Network - Loss: 0.4851581811904907, Accuracy: 0.8133333325386047\n"
     ]
    },
    {
     "data": {
      "text/plain": [
       "81.33"
      ]
     },
     "execution_count": 37,
     "metadata": {},
     "output_type": "execute_result"
    }
   ],
   "source": [
    "# Deep Learning Acct\n",
    "model_loss, model_accuracy = deep_model.evaluate(\n",
    "    X_test_scaled, y_test_categorical, verbose=2)\n",
    "print(f\"Deep Neural Network - Loss: {model_loss}, Accuracy: {model_accuracy}\")\n",
    "\n",
    "\n",
    "DLA = round((model_accuracy * 100),2)\n",
    "DLA"
   ]
  },
  {
   "cell_type": "code",
   "execution_count": null,
   "metadata": {},
   "outputs": [],
   "source": []
  },
  {
   "cell_type": "markdown",
   "metadata": {},
   "source": [
    "# Model Accuracy:"
   ]
  },
  {
   "cell_type": "code",
   "execution_count": 38,
   "metadata": {},
   "outputs": [],
   "source": [
    "# LRA = round((classifier.score(X_test, y_test) * 100),2)\n",
    "# DTA = round((clf.score(X_test, y_test) * 100),2)\n",
    "# RFA = round((rf.score(X_test, y_test) * 100),2)\n",
    "# SVMA = round((svc.score(X_test, y_test) * 100),2)\n",
    "# KNNA = round((knn.score(X_test_scaled, y_test) * 100),2)\n",
    "# NNA = round((model_accuracy * 100),2)\n",
    "# DLA = round((model_accuracy * 100),2)\n"
   ]
  },
  {
   "cell_type": "code",
   "execution_count": 39,
   "metadata": {},
   "outputs": [
    {
     "data": {
      "text/html": [
       "<div>\n",
       "<style scoped>\n",
       "    .dataframe tbody tr th:only-of-type {\n",
       "        vertical-align: middle;\n",
       "    }\n",
       "\n",
       "    .dataframe tbody tr th {\n",
       "        vertical-align: top;\n",
       "    }\n",
       "\n",
       "    .dataframe thead th {\n",
       "        text-align: right;\n",
       "    }\n",
       "</style>\n",
       "<table border=\"1\" class=\"dataframe\">\n",
       "  <thead>\n",
       "    <tr style=\"text-align: right;\">\n",
       "      <th></th>\n",
       "      <th>ML_Model</th>\n",
       "      <th>Accuracy</th>\n",
       "    </tr>\n",
       "  </thead>\n",
       "  <tbody>\n",
       "    <tr>\n",
       "      <th>0</th>\n",
       "      <td>Decision Tree</td>\n",
       "      <td>78.67</td>\n",
       "    </tr>\n",
       "    <tr>\n",
       "      <th>1</th>\n",
       "      <td>Random Forrest</td>\n",
       "      <td>85.33</td>\n",
       "    </tr>\n",
       "    <tr>\n",
       "      <th>2</th>\n",
       "      <td>Logistical Regression</td>\n",
       "      <td>86.67</td>\n",
       "    </tr>\n",
       "    <tr>\n",
       "      <th>3</th>\n",
       "      <td>Support Vector Machine</td>\n",
       "      <td>89.33</td>\n",
       "    </tr>\n",
       "    <tr>\n",
       "      <th>4</th>\n",
       "      <td>K Nearest Neighbors</td>\n",
       "      <td>85.33</td>\n",
       "    </tr>\n",
       "    <tr>\n",
       "      <th>5</th>\n",
       "      <td>Neural Network</td>\n",
       "      <td>85.33</td>\n",
       "    </tr>\n",
       "    <tr>\n",
       "      <th>6</th>\n",
       "      <td>Deep Learning</td>\n",
       "      <td>81.33</td>\n",
       "    </tr>\n",
       "  </tbody>\n",
       "</table>\n",
       "</div>"
      ],
      "text/plain": [
       "                 ML_Model  Accuracy\n",
       "0           Decision Tree     78.67\n",
       "1          Random Forrest     85.33\n",
       "2   Logistical Regression     86.67\n",
       "3  Support Vector Machine     89.33\n",
       "4     K Nearest Neighbors     85.33\n",
       "5          Neural Network     85.33\n",
       "6           Deep Learning     81.33"
      ]
     },
     "execution_count": 39,
     "metadata": {},
     "output_type": "execute_result"
    }
   ],
   "source": [
    "Accuracy_df = pd.DataFrame({\"ML_Model\":[\"Decision Tree\",\"Random Forrest\",\"Logistical Regression\",\"Support Vector Machine\",\"K Nearest Neighbors\",\"Neural Network\",\"Deep Learning\"],\n",
    "                            \"Accuracy\":[DTA, RFA, LRA, SVMA, KNNA, NNA, DLA]                       \n",
    "                             })\n",
    "\n",
    "Accuracy_df\n"
   ]
  },
  {
   "cell_type": "code",
   "execution_count": 40,
   "metadata": {},
   "outputs": [
    {
     "data": {
      "text/plain": [
       "<AxesSubplot:>"
      ]
     },
     "execution_count": 40,
     "metadata": {},
     "output_type": "execute_result"
    },
    {
     "data": {
      "image/png": "[encoded data removed]",
      "text/plain": [
       "<Figure size 432x288 with 1 Axes>"
      ]
     },
     "metadata": {
      "needs_background": "light"
     },
     "output_type": "display_data"
    }
   ],
   "source": [
    "Accuracy_df.plot(kind=\"bar\")"
   ]
  },
  {
   "cell_type": "code",
   "execution_count": 41,
   "metadata": {},
   "outputs": [],
   "source": [
    "Accuracy_df.to_csv('Heart_Model_Accuracy.csv',index=False)\n",
    "\n"
   ]
  },
  {
   "cell_type": "code",
   "execution_count": null,
   "metadata": {},
   "outputs": [],
   "source": []
  }
 ],
 "metadata": {
  "kernelspec": {
   "display_name": "Python [conda env:tf]",
   "language": "python",
   "name": "conda-env-tf-py"
  },
  "language_info": {
   "codemirror_mode": {
    "name": "ipython",
    "version": 3
   },
   "file_extension": ".py",
   "mimetype": "text/x-python",
   "name": "python",
   "nbconvert_exporter": "python",
   "pygments_lexer": "ipython3",
   "version": "3.7.9"
  }
 },
 "nbformat": 4,
 "nbformat_minor": 2
}
