{
 "cells": [
  {
   "cell_type": "code",
   "execution_count": 1,
   "metadata": {},
   "outputs": [],
   "source": [
    "from sklearn import tree\n",
    "import pandas as pd\n",
    "import os\n",
    "import matplotlib.pyplot as plt\n",
    "import numpy as np\n",
    "from sklearn.metrics import plot_confusion_matrix"
   ]
  },
  {
   "cell_type": "code",
   "execution_count": 2,
   "metadata": {},
   "outputs": [
    {
     "data": {
      "text/html": [
       "<div>\n",
       "<style scoped>\n",
       "    .dataframe tbody tr th:only-of-type {\n",
       "        vertical-align: middle;\n",
       "    }\n",
       "\n",
       "    .dataframe tbody tr th {\n",
       "        vertical-align: top;\n",
       "    }\n",
       "\n",
       "    .dataframe thead th {\n",
       "        text-align: right;\n",
       "    }\n",
       "</style>\n",
       "<table border=\"1\" class=\"dataframe\">\n",
       "  <thead>\n",
       "    <tr style=\"text-align: right;\">\n",
       "      <th></th>\n",
       "      <th>id</th>\n",
       "      <th>age</th>\n",
       "      <th>bp</th>\n",
       "      <th>sg</th>\n",
       "      <th>al</th>\n",
       "      <th>su</th>\n",
       "      <th>rbc</th>\n",
       "      <th>pc</th>\n",
       "      <th>pcc</th>\n",
       "      <th>ba</th>\n",
       "      <th>...</th>\n",
       "      <th>pcv</th>\n",
       "      <th>wc</th>\n",
       "      <th>rc</th>\n",
       "      <th>htn</th>\n",
       "      <th>dm</th>\n",
       "      <th>cad</th>\n",
       "      <th>appet</th>\n",
       "      <th>pe</th>\n",
       "      <th>ane</th>\n",
       "      <th>classification</th>\n",
       "    </tr>\n",
       "  </thead>\n",
       "  <tbody>\n",
       "    <tr>\n",
       "      <th>0</th>\n",
       "      <td>0</td>\n",
       "      <td>48.0</td>\n",
       "      <td>80.0</td>\n",
       "      <td>1.020</td>\n",
       "      <td>1.0</td>\n",
       "      <td>0.0</td>\n",
       "      <td>NaN</td>\n",
       "      <td>normal</td>\n",
       "      <td>notpresent</td>\n",
       "      <td>notpresent</td>\n",
       "      <td>...</td>\n",
       "      <td>44</td>\n",
       "      <td>7800</td>\n",
       "      <td>5.2</td>\n",
       "      <td>yes</td>\n",
       "      <td>yes</td>\n",
       "      <td>no</td>\n",
       "      <td>good</td>\n",
       "      <td>no</td>\n",
       "      <td>no</td>\n",
       "      <td>ckd</td>\n",
       "    </tr>\n",
       "    <tr>\n",
       "      <th>1</th>\n",
       "      <td>1</td>\n",
       "      <td>7.0</td>\n",
       "      <td>50.0</td>\n",
       "      <td>1.020</td>\n",
       "      <td>4.0</td>\n",
       "      <td>0.0</td>\n",
       "      <td>NaN</td>\n",
       "      <td>normal</td>\n",
       "      <td>notpresent</td>\n",
       "      <td>notpresent</td>\n",
       "      <td>...</td>\n",
       "      <td>38</td>\n",
       "      <td>6000</td>\n",
       "      <td>NaN</td>\n",
       "      <td>no</td>\n",
       "      <td>no</td>\n",
       "      <td>no</td>\n",
       "      <td>good</td>\n",
       "      <td>no</td>\n",
       "      <td>no</td>\n",
       "      <td>ckd</td>\n",
       "    </tr>\n",
       "    <tr>\n",
       "      <th>2</th>\n",
       "      <td>2</td>\n",
       "      <td>62.0</td>\n",
       "      <td>80.0</td>\n",
       "      <td>1.010</td>\n",
       "      <td>2.0</td>\n",
       "      <td>3.0</td>\n",
       "      <td>normal</td>\n",
       "      <td>normal</td>\n",
       "      <td>notpresent</td>\n",
       "      <td>notpresent</td>\n",
       "      <td>...</td>\n",
       "      <td>31</td>\n",
       "      <td>7500</td>\n",
       "      <td>NaN</td>\n",
       "      <td>no</td>\n",
       "      <td>yes</td>\n",
       "      <td>no</td>\n",
       "      <td>poor</td>\n",
       "      <td>no</td>\n",
       "      <td>yes</td>\n",
       "      <td>ckd</td>\n",
       "    </tr>\n",
       "    <tr>\n",
       "      <th>3</th>\n",
       "      <td>3</td>\n",
       "      <td>48.0</td>\n",
       "      <td>70.0</td>\n",
       "      <td>1.005</td>\n",
       "      <td>4.0</td>\n",
       "      <td>0.0</td>\n",
       "      <td>normal</td>\n",
       "      <td>abnormal</td>\n",
       "      <td>present</td>\n",
       "      <td>notpresent</td>\n",
       "      <td>...</td>\n",
       "      <td>32</td>\n",
       "      <td>6700</td>\n",
       "      <td>3.9</td>\n",
       "      <td>yes</td>\n",
       "      <td>no</td>\n",
       "      <td>no</td>\n",
       "      <td>poor</td>\n",
       "      <td>yes</td>\n",
       "      <td>yes</td>\n",
       "      <td>ckd</td>\n",
       "    </tr>\n",
       "    <tr>\n",
       "      <th>4</th>\n",
       "      <td>4</td>\n",
       "      <td>51.0</td>\n",
       "      <td>80.0</td>\n",
       "      <td>1.010</td>\n",
       "      <td>2.0</td>\n",
       "      <td>0.0</td>\n",
       "      <td>normal</td>\n",
       "      <td>normal</td>\n",
       "      <td>notpresent</td>\n",
       "      <td>notpresent</td>\n",
       "      <td>...</td>\n",
       "      <td>35</td>\n",
       "      <td>7300</td>\n",
       "      <td>4.6</td>\n",
       "      <td>no</td>\n",
       "      <td>no</td>\n",
       "      <td>no</td>\n",
       "      <td>good</td>\n",
       "      <td>no</td>\n",
       "      <td>no</td>\n",
       "      <td>ckd</td>\n",
       "    </tr>\n",
       "  </tbody>\n",
       "</table>\n",
       "<p>5 rows × 26 columns</p>\n",
       "</div>"
      ],
      "text/plain": [
       "   id   age    bp     sg   al   su     rbc        pc         pcc          ba  \\\n",
       "0   0  48.0  80.0  1.020  1.0  0.0     NaN    normal  notpresent  notpresent   \n",
       "1   1   7.0  50.0  1.020  4.0  0.0     NaN    normal  notpresent  notpresent   \n",
       "2   2  62.0  80.0  1.010  2.0  3.0  normal    normal  notpresent  notpresent   \n",
       "3   3  48.0  70.0  1.005  4.0  0.0  normal  abnormal     present  notpresent   \n",
       "4   4  51.0  80.0  1.010  2.0  0.0  normal    normal  notpresent  notpresent   \n",
       "\n",
       "   ...  pcv    wc   rc  htn   dm  cad appet   pe  ane classification  \n",
       "0  ...   44  7800  5.2  yes  yes   no  good   no   no            ckd  \n",
       "1  ...   38  6000  NaN   no   no   no  good   no   no            ckd  \n",
       "2  ...   31  7500  NaN   no  yes   no  poor   no  yes            ckd  \n",
       "3  ...   32  6700  3.9  yes   no   no  poor  yes  yes            ckd  \n",
       "4  ...   35  7300  4.6   no   no   no  good   no   no            ckd  \n",
       "\n",
       "[5 rows x 26 columns]"
      ]
     },
     "execution_count": 2,
     "metadata": {},
     "output_type": "execute_result"
    }
   ],
   "source": [
    "df = pd.read_csv(os.path.join(\"data/KidneyData.csv\"))\n",
    "df.head()"
   ]
  },
  {
   "cell_type": "code",
   "execution_count": 3,
   "metadata": {},
   "outputs": [],
   "source": [
    "df = df.dropna(how='any')"
   ]
  },
  {
   "cell_type": "code",
   "execution_count": 4,
   "metadata": {},
   "outputs": [
    {
     "data": {
      "text/html": [
       "<div>\n",
       "<style scoped>\n",
       "    .dataframe tbody tr th:only-of-type {\n",
       "        vertical-align: middle;\n",
       "    }\n",
       "\n",
       "    .dataframe tbody tr th {\n",
       "        vertical-align: top;\n",
       "    }\n",
       "\n",
       "    .dataframe thead th {\n",
       "        text-align: right;\n",
       "    }\n",
       "</style>\n",
       "<table border=\"1\" class=\"dataframe\">\n",
       "  <thead>\n",
       "    <tr style=\"text-align: right;\">\n",
       "      <th></th>\n",
       "      <th>ckd</th>\n",
       "      <th>notckd</th>\n",
       "    </tr>\n",
       "  </thead>\n",
       "  <tbody>\n",
       "    <tr>\n",
       "      <th>3</th>\n",
       "      <td>1</td>\n",
       "      <td>0</td>\n",
       "    </tr>\n",
       "    <tr>\n",
       "      <th>9</th>\n",
       "      <td>1</td>\n",
       "      <td>0</td>\n",
       "    </tr>\n",
       "    <tr>\n",
       "      <th>11</th>\n",
       "      <td>1</td>\n",
       "      <td>0</td>\n",
       "    </tr>\n",
       "    <tr>\n",
       "      <th>14</th>\n",
       "      <td>1</td>\n",
       "      <td>0</td>\n",
       "    </tr>\n",
       "    <tr>\n",
       "      <th>20</th>\n",
       "      <td>1</td>\n",
       "      <td>0</td>\n",
       "    </tr>\n",
       "  </tbody>\n",
       "</table>\n",
       "</div>"
      ],
      "text/plain": [
       "    ckd  notckd\n",
       "3     1       0\n",
       "9     1       0\n",
       "11    1       0\n",
       "14    1       0\n",
       "20    1       0"
      ]
     },
     "execution_count": 4,
     "metadata": {},
     "output_type": "execute_result"
    }
   ],
   "source": [
    "data = df[\"classification\"].copy()\n",
    "\n",
    "data_binary_encoded = pd.get_dummies(data)\n",
    "data_binary_encoded.head()"
   ]
  },
  {
   "cell_type": "code",
   "execution_count": 5,
   "metadata": {},
   "outputs": [],
   "source": [
    "target = data_binary_encoded[\"ckd\"]\n",
    "target_names = [\"negative\", \"positive\"]"
   ]
  },
  {
   "cell_type": "code",
   "execution_count": 6,
   "metadata": {},
   "outputs": [],
   "source": [
    "kidney_data = df.drop(columns=[\"classification\", \"id\"], axis=1)"
   ]
  },
  {
   "cell_type": "code",
   "execution_count": 7,
   "metadata": {},
   "outputs": [
    {
     "data": {
      "text/html": [
       "<div>\n",
       "<style scoped>\n",
       "    .dataframe tbody tr th:only-of-type {\n",
       "        vertical-align: middle;\n",
       "    }\n",
       "\n",
       "    .dataframe tbody tr th {\n",
       "        vertical-align: top;\n",
       "    }\n",
       "\n",
       "    .dataframe thead th {\n",
       "        text-align: right;\n",
       "    }\n",
       "</style>\n",
       "<table border=\"1\" class=\"dataframe\">\n",
       "  <thead>\n",
       "    <tr style=\"text-align: right;\">\n",
       "      <th></th>\n",
       "      <th>age</th>\n",
       "      <th>bp</th>\n",
       "      <th>sg</th>\n",
       "      <th>al</th>\n",
       "      <th>su</th>\n",
       "      <th>bgr</th>\n",
       "      <th>bu</th>\n",
       "      <th>sc</th>\n",
       "      <th>sod</th>\n",
       "      <th>pot</th>\n",
       "      <th>...</th>\n",
       "      <th>dm_no</th>\n",
       "      <th>dm_yes</th>\n",
       "      <th>cad_no</th>\n",
       "      <th>cad_yes</th>\n",
       "      <th>appet_good</th>\n",
       "      <th>appet_poor</th>\n",
       "      <th>pe_no</th>\n",
       "      <th>pe_yes</th>\n",
       "      <th>ane_no</th>\n",
       "      <th>ane_yes</th>\n",
       "    </tr>\n",
       "  </thead>\n",
       "  <tbody>\n",
       "    <tr>\n",
       "      <th>3</th>\n",
       "      <td>48.0</td>\n",
       "      <td>70.0</td>\n",
       "      <td>1.005</td>\n",
       "      <td>4.0</td>\n",
       "      <td>0.0</td>\n",
       "      <td>117.0</td>\n",
       "      <td>56.0</td>\n",
       "      <td>3.8</td>\n",
       "      <td>111.0</td>\n",
       "      <td>2.5</td>\n",
       "      <td>...</td>\n",
       "      <td>1</td>\n",
       "      <td>0</td>\n",
       "      <td>1</td>\n",
       "      <td>0</td>\n",
       "      <td>0</td>\n",
       "      <td>1</td>\n",
       "      <td>0</td>\n",
       "      <td>1</td>\n",
       "      <td>0</td>\n",
       "      <td>1</td>\n",
       "    </tr>\n",
       "    <tr>\n",
       "      <th>9</th>\n",
       "      <td>53.0</td>\n",
       "      <td>90.0</td>\n",
       "      <td>1.020</td>\n",
       "      <td>2.0</td>\n",
       "      <td>0.0</td>\n",
       "      <td>70.0</td>\n",
       "      <td>107.0</td>\n",
       "      <td>7.2</td>\n",
       "      <td>114.0</td>\n",
       "      <td>3.7</td>\n",
       "      <td>...</td>\n",
       "      <td>0</td>\n",
       "      <td>1</td>\n",
       "      <td>1</td>\n",
       "      <td>0</td>\n",
       "      <td>0</td>\n",
       "      <td>1</td>\n",
       "      <td>1</td>\n",
       "      <td>0</td>\n",
       "      <td>0</td>\n",
       "      <td>1</td>\n",
       "    </tr>\n",
       "    <tr>\n",
       "      <th>11</th>\n",
       "      <td>63.0</td>\n",
       "      <td>70.0</td>\n",
       "      <td>1.010</td>\n",
       "      <td>3.0</td>\n",
       "      <td>0.0</td>\n",
       "      <td>380.0</td>\n",
       "      <td>60.0</td>\n",
       "      <td>2.7</td>\n",
       "      <td>131.0</td>\n",
       "      <td>4.2</td>\n",
       "      <td>...</td>\n",
       "      <td>0</td>\n",
       "      <td>1</td>\n",
       "      <td>1</td>\n",
       "      <td>0</td>\n",
       "      <td>0</td>\n",
       "      <td>1</td>\n",
       "      <td>0</td>\n",
       "      <td>1</td>\n",
       "      <td>1</td>\n",
       "      <td>0</td>\n",
       "    </tr>\n",
       "    <tr>\n",
       "      <th>14</th>\n",
       "      <td>68.0</td>\n",
       "      <td>80.0</td>\n",
       "      <td>1.010</td>\n",
       "      <td>3.0</td>\n",
       "      <td>2.0</td>\n",
       "      <td>157.0</td>\n",
       "      <td>90.0</td>\n",
       "      <td>4.1</td>\n",
       "      <td>130.0</td>\n",
       "      <td>6.4</td>\n",
       "      <td>...</td>\n",
       "      <td>0</td>\n",
       "      <td>1</td>\n",
       "      <td>0</td>\n",
       "      <td>1</td>\n",
       "      <td>0</td>\n",
       "      <td>1</td>\n",
       "      <td>0</td>\n",
       "      <td>1</td>\n",
       "      <td>1</td>\n",
       "      <td>0</td>\n",
       "    </tr>\n",
       "    <tr>\n",
       "      <th>20</th>\n",
       "      <td>61.0</td>\n",
       "      <td>80.0</td>\n",
       "      <td>1.015</td>\n",
       "      <td>2.0</td>\n",
       "      <td>0.0</td>\n",
       "      <td>173.0</td>\n",
       "      <td>148.0</td>\n",
       "      <td>3.9</td>\n",
       "      <td>135.0</td>\n",
       "      <td>5.2</td>\n",
       "      <td>...</td>\n",
       "      <td>0</td>\n",
       "      <td>1</td>\n",
       "      <td>0</td>\n",
       "      <td>1</td>\n",
       "      <td>0</td>\n",
       "      <td>1</td>\n",
       "      <td>0</td>\n",
       "      <td>1</td>\n",
       "      <td>0</td>\n",
       "      <td>1</td>\n",
       "    </tr>\n",
       "  </tbody>\n",
       "</table>\n",
       "<p>5 rows × 34 columns</p>\n",
       "</div>"
      ],
      "text/plain": [
       "     age    bp     sg   al   su    bgr     bu   sc    sod  pot  ...  dm_no  \\\n",
       "3   48.0  70.0  1.005  4.0  0.0  117.0   56.0  3.8  111.0  2.5  ...      1   \n",
       "9   53.0  90.0  1.020  2.0  0.0   70.0  107.0  7.2  114.0  3.7  ...      0   \n",
       "11  63.0  70.0  1.010  3.0  0.0  380.0   60.0  2.7  131.0  4.2  ...      0   \n",
       "14  68.0  80.0  1.010  3.0  2.0  157.0   90.0  4.1  130.0  6.4  ...      0   \n",
       "20  61.0  80.0  1.015  2.0  0.0  173.0  148.0  3.9  135.0  5.2  ...      0   \n",
       "\n",
       "   dm_yes cad_no cad_yes  appet_good  appet_poor  pe_no  pe_yes  ane_no  \\\n",
       "3       0      1       0           0           1      0       1       0   \n",
       "9       1      1       0           0           1      1       0       0   \n",
       "11      1      1       0           0           1      0       1       1   \n",
       "14      1      0       1           0           1      0       1       1   \n",
       "20      1      0       1           0           1      0       1       0   \n",
       "\n",
       "    ane_yes  \n",
       "3         1  \n",
       "9         1  \n",
       "11        0  \n",
       "14        0  \n",
       "20        1  \n",
       "\n",
       "[5 rows x 34 columns]"
      ]
     },
     "execution_count": 7,
     "metadata": {},
     "output_type": "execute_result"
    }
   ],
   "source": [
    "data1 = kidney_data.copy()\n",
    "\n",
    "data_binary_encoded1 = pd.get_dummies(data1, columns=[\"rbc\", \"pc\", \"pcc\", \"ba\", \"htn\", \"dm\", \"cad\", \"appet\", \"pe\", \"ane\"])\n",
    "data_binary_encoded1.head()"
   ]
  },
  {
   "cell_type": "code",
   "execution_count": 8,
   "metadata": {},
   "outputs": [
    {
     "data": {
      "text/plain": [
       "Index(['age', 'bp', 'sg', 'al', 'su', 'bgr', 'bu', 'sc', 'sod', 'pot', 'hemo',\n",
       "       'pcv', 'wc', 'rc', 'rbc_abnormal', 'rbc_normal', 'pc_abnormal',\n",
       "       'pc_normal', 'pcc_notpresent', 'pcc_present', 'ba_notpresent',\n",
       "       'ba_present', 'htn_no', 'htn_yes', 'dm_no', 'dm_yes', 'cad_no',\n",
       "       'cad_yes', 'appet_good', 'appet_poor', 'pe_no', 'pe_yes', 'ane_no',\n",
       "       'ane_yes'],\n",
       "      dtype='object')"
      ]
     },
     "execution_count": 8,
     "metadata": {},
     "output_type": "execute_result"
    }
   ],
   "source": [
    "data_binary_encoded1.columns"
   ]
  },
  {
   "cell_type": "code",
   "execution_count": 9,
   "metadata": {},
   "outputs": [
    {
     "data": {
      "text/plain": [
       "Index(['age', 'bp', 'sg', 'al', 'su', 'bgr', 'bu', 'sc', 'sod', 'pot', 'hemo',\n",
       "       'pcv', 'wc', 'rc', 'rbc_abnormal', 'pc_abnormal', 'pcc_notpresent',\n",
       "       'ba_notpresent', 'htn_no', 'dm_no', 'cad_no', 'appet_good', 'pe_no',\n",
       "       'ane_no'],\n",
       "      dtype='object')"
      ]
     },
     "execution_count": 9,
     "metadata": {},
     "output_type": "execute_result"
    }
   ],
   "source": [
    "kidney_binary_data = data_binary_encoded1.drop(columns=['rbc_normal', 'pc_normal', 'pcc_present', 'ba_present', 'htn_yes', 'dm_yes','cad_yes', 'appet_poor', 'pe_yes', 'ane_yes'])\n",
    "kidney_binary_data.columns"
   ]
  },
  {
   "cell_type": "code",
   "execution_count": 10,
   "metadata": {},
   "outputs": [],
   "source": [
    "feature_names = kidney_binary_data.columns"
   ]
  },
  {
   "cell_type": "code",
   "execution_count": 11,
   "metadata": {},
   "outputs": [],
   "source": [
    "from sklearn.model_selection import train_test_split\n",
    "X_train, X_test, y_train, y_test = train_test_split(kidney_binary_data, target, random_state=630)"
   ]
  },
  {
   "cell_type": "markdown",
   "metadata": {},
   "source": [
    "# Decision Tree:"
   ]
  },
  {
   "cell_type": "code",
   "execution_count": 12,
   "metadata": {},
   "outputs": [
    {
     "data": {
      "text/plain": [
       "1.0"
      ]
     },
     "execution_count": 12,
     "metadata": {},
     "output_type": "execute_result"
    }
   ],
   "source": [
    "clf = tree.DecisionTreeClassifier()\n",
    "clf = clf.fit(X_train, y_train)\n",
    "clf.score(X_test, y_test)"
   ]
  },
  {
   "cell_type": "code",
   "execution_count": 13,
   "metadata": {},
   "outputs": [
    {
     "name": "stdout",
     "output_type": "stream",
     "text": [
      "Decision Tree Confusion matrix, without normalization\n",
      "[[28  0]\n",
      " [ 0 12]]\n",
      "Decision Tree Normalized confusion matrix\n",
      "[[1. 0.]\n",
      " [0. 1.]]\n"
     ]
    },
    {
     "data": {
      "image/png": "[encoded data removed]",
      "text/plain": [
       "<Figure size 432x288 with 2 Axes>"
      ]
     },
     "metadata": {
      "needs_background": "light"
     },
     "output_type": "display_data"
    },
    {
     "data": {
      "image/png": "[encoded data removed]",
      "text/plain": [
       "<Figure size 432x288 with 2 Axes>"
      ]
     },
     "metadata": {
      "needs_background": "light"
     },
     "output_type": "display_data"
    }
   ],
   "source": [
    "np.set_printoptions(precision=2)\n",
    "\n",
    "# Plot non-normalized confusion matrix\n",
    "titles_options = [(\"Decision Tree Confusion matrix, without normalization\", None),\n",
    "                  (\"Decision Tree Normalized confusion matrix\", 'true')]\n",
    "for title, normalize in titles_options:\n",
    "    disp = plot_confusion_matrix(clf, X_test, y_test,\n",
    "                                 display_labels=target_names,\n",
    "                                 cmap=plt.cm.Blues,\n",
    "                                 normalize=normalize)\n",
    "    disp.ax_.set_title(title)\n",
    "\n",
    "    print(title)\n",
    "    print(disp.confusion_matrix)\n",
    "\n",
    "plt.show()"
   ]
  },
  {
   "cell_type": "markdown",
   "metadata": {},
   "source": [
    "# Random Forest:"
   ]
  },
  {
   "cell_type": "code",
   "execution_count": 14,
   "metadata": {},
   "outputs": [
    {
     "data": {
      "text/plain": [
       "1.0"
      ]
     },
     "execution_count": 14,
     "metadata": {},
     "output_type": "execute_result"
    }
   ],
   "source": [
    "from sklearn.ensemble import RandomForestClassifier\n",
    "rf = RandomForestClassifier(n_estimators=500)\n",
    "rf = rf.fit(X_train, y_train)\n",
    "rf.score(X_test, y_test)"
   ]
  },
  {
   "cell_type": "code",
   "execution_count": 15,
   "metadata": {},
   "outputs": [
    {
     "data": {
      "text/plain": [
       "[(0.15543644540456406, 'al'),\n",
       " (0.14026179985386616, 'hemo'),\n",
       " (0.12889415184406647, 'sc'),\n",
       " (0.11893378039830313, 'pcv'),\n",
       " (0.10221464474023942, 'rc'),\n",
       " (0.07768343875755157, 'sg'),\n",
       " (0.0718377713368824, 'htn_no'),\n",
       " (0.057699790514136894, 'bu'),\n",
       " (0.03547423696660622, 'dm_no'),\n",
       " (0.026522584288097333, 'bgr'),\n",
       " (0.023274889795748033, 'pc_abnormal'),\n",
       " (0.0134086347059443, 'sod'),\n",
       " (0.009136399952143012, 'appet_good'),\n",
       " (0.00854072764033571, 'su'),\n",
       " (0.007321673777600027, 'rbc_abnormal'),\n",
       " (0.006127777802779762, 'wc'),\n",
       " (0.005808400771138175, 'bp'),\n",
       " (0.00417822457657684, 'pe_no'),\n",
       " (0.002213662879825214, 'pot'),\n",
       " (0.0019167418560897477, 'ane_no'),\n",
       " (0.0013903829180166517, 'age'),\n",
       " (0.0008715730450216291, 'cad_no'),\n",
       " (0.0008522661744672479, 'ba_notpresent'),\n",
       " (0.0, 'pcc_notpresent')]"
      ]
     },
     "execution_count": 15,
     "metadata": {},
     "output_type": "execute_result"
    }
   ],
   "source": [
    "sorted(zip(rf.feature_importances_, feature_names), reverse=True)"
   ]
  },
  {
   "cell_type": "markdown",
   "metadata": {},
   "source": [
    "# Logistic Regression"
   ]
  },
  {
   "cell_type": "code",
   "execution_count": 16,
   "metadata": {},
   "outputs": [
    {
     "data": {
      "text/plain": [
       "LogisticRegression()"
      ]
     },
     "execution_count": 16,
     "metadata": {},
     "output_type": "execute_result"
    }
   ],
   "source": [
    "from sklearn.linear_model import LogisticRegression\n",
    "classifier = LogisticRegression()\n",
    "classifier"
   ]
  },
  {
   "cell_type": "code",
   "execution_count": 17,
   "metadata": {},
   "outputs": [
    {
     "name": "stderr",
     "output_type": "stream",
     "text": [
      "C:\\Users\\Travis Young\\anaconda3\\envs\\tf\\lib\\site-packages\\sklearn\\linear_model\\_logistic.py:764: ConvergenceWarning: lbfgs failed to converge (status=1):\n",
      "STOP: TOTAL NO. of ITERATIONS REACHED LIMIT.\n",
      "\n",
      "Increase the number of iterations (max_iter) or scale the data as shown in:\n",
      "    https://scikit-learn.org/stable/modules/preprocessing.html\n",
      "Please also refer to the documentation for alternative solver options:\n",
      "    https://scikit-learn.org/stable/modules/linear_model.html#logistic-regression\n",
      "  extra_warning_msg=_LOGISTIC_SOLVER_CONVERGENCE_MSG)\n"
     ]
    },
    {
     "data": {
      "text/plain": [
       "LogisticRegression()"
      ]
     },
     "execution_count": 17,
     "metadata": {},
     "output_type": "execute_result"
    }
   ],
   "source": [
    "classifier.fit(X_train, y_train)"
   ]
  },
  {
   "cell_type": "code",
   "execution_count": 18,
   "metadata": {},
   "outputs": [
    {
     "name": "stdout",
     "output_type": "stream",
     "text": [
      "Training Data Score: 1.0\n",
      "Testing Data Score: 1.0\n"
     ]
    }
   ],
   "source": [
    "print(f\"Training Data Score: {classifier.score(X_train, y_train)}\")\n",
    "print(f\"Testing Data Score: {classifier.score(X_test, y_test)}\")"
   ]
  },
  {
   "cell_type": "code",
   "execution_count": 19,
   "metadata": {},
   "outputs": [
    {
     "name": "stdout",
     "output_type": "stream",
     "text": [
      "First 10 Predictions:   [1 1 1 0 0 1 1 0 0 0]\n",
      "First 10 Actual labels: [1, 1, 1, 0, 0, 1, 1, 0, 0, 0]\n"
     ]
    }
   ],
   "source": [
    "predictions = classifier.predict(X_test)\n",
    "print(f\"First 10 Predictions:   {predictions[:10]}\")\n",
    "print(f\"First 10 Actual labels: {y_test[:10].tolist()}\")"
   ]
  },
  {
   "cell_type": "code",
   "execution_count": 20,
   "metadata": {},
   "outputs": [
    {
     "data": {
      "text/html": [
       "<div>\n",
       "<style scoped>\n",
       "    .dataframe tbody tr th:only-of-type {\n",
       "        vertical-align: middle;\n",
       "    }\n",
       "\n",
       "    .dataframe tbody tr th {\n",
       "        vertical-align: top;\n",
       "    }\n",
       "\n",
       "    .dataframe thead th {\n",
       "        text-align: right;\n",
       "    }\n",
       "</style>\n",
       "<table border=\"1\" class=\"dataframe\">\n",
       "  <thead>\n",
       "    <tr style=\"text-align: right;\">\n",
       "      <th></th>\n",
       "      <th>Prediction</th>\n",
       "      <th>Actual</th>\n",
       "    </tr>\n",
       "  </thead>\n",
       "  <tbody>\n",
       "    <tr>\n",
       "      <th>0</th>\n",
       "      <td>1</td>\n",
       "      <td>1</td>\n",
       "    </tr>\n",
       "    <tr>\n",
       "      <th>1</th>\n",
       "      <td>1</td>\n",
       "      <td>1</td>\n",
       "    </tr>\n",
       "    <tr>\n",
       "      <th>2</th>\n",
       "      <td>1</td>\n",
       "      <td>1</td>\n",
       "    </tr>\n",
       "    <tr>\n",
       "      <th>3</th>\n",
       "      <td>0</td>\n",
       "      <td>0</td>\n",
       "    </tr>\n",
       "    <tr>\n",
       "      <th>4</th>\n",
       "      <td>0</td>\n",
       "      <td>0</td>\n",
       "    </tr>\n",
       "    <tr>\n",
       "      <th>5</th>\n",
       "      <td>1</td>\n",
       "      <td>1</td>\n",
       "    </tr>\n",
       "    <tr>\n",
       "      <th>6</th>\n",
       "      <td>1</td>\n",
       "      <td>1</td>\n",
       "    </tr>\n",
       "    <tr>\n",
       "      <th>7</th>\n",
       "      <td>0</td>\n",
       "      <td>0</td>\n",
       "    </tr>\n",
       "    <tr>\n",
       "      <th>8</th>\n",
       "      <td>0</td>\n",
       "      <td>0</td>\n",
       "    </tr>\n",
       "    <tr>\n",
       "      <th>9</th>\n",
       "      <td>0</td>\n",
       "      <td>0</td>\n",
       "    </tr>\n",
       "    <tr>\n",
       "      <th>10</th>\n",
       "      <td>0</td>\n",
       "      <td>0</td>\n",
       "    </tr>\n",
       "    <tr>\n",
       "      <th>11</th>\n",
       "      <td>0</td>\n",
       "      <td>0</td>\n",
       "    </tr>\n",
       "    <tr>\n",
       "      <th>12</th>\n",
       "      <td>0</td>\n",
       "      <td>0</td>\n",
       "    </tr>\n",
       "    <tr>\n",
       "      <th>13</th>\n",
       "      <td>0</td>\n",
       "      <td>0</td>\n",
       "    </tr>\n",
       "    <tr>\n",
       "      <th>14</th>\n",
       "      <td>0</td>\n",
       "      <td>0</td>\n",
       "    </tr>\n",
       "    <tr>\n",
       "      <th>15</th>\n",
       "      <td>0</td>\n",
       "      <td>0</td>\n",
       "    </tr>\n",
       "    <tr>\n",
       "      <th>16</th>\n",
       "      <td>0</td>\n",
       "      <td>0</td>\n",
       "    </tr>\n",
       "    <tr>\n",
       "      <th>17</th>\n",
       "      <td>0</td>\n",
       "      <td>0</td>\n",
       "    </tr>\n",
       "    <tr>\n",
       "      <th>18</th>\n",
       "      <td>0</td>\n",
       "      <td>0</td>\n",
       "    </tr>\n",
       "    <tr>\n",
       "      <th>19</th>\n",
       "      <td>0</td>\n",
       "      <td>0</td>\n",
       "    </tr>\n",
       "    <tr>\n",
       "      <th>20</th>\n",
       "      <td>0</td>\n",
       "      <td>0</td>\n",
       "    </tr>\n",
       "    <tr>\n",
       "      <th>21</th>\n",
       "      <td>1</td>\n",
       "      <td>1</td>\n",
       "    </tr>\n",
       "    <tr>\n",
       "      <th>22</th>\n",
       "      <td>1</td>\n",
       "      <td>1</td>\n",
       "    </tr>\n",
       "    <tr>\n",
       "      <th>23</th>\n",
       "      <td>0</td>\n",
       "      <td>0</td>\n",
       "    </tr>\n",
       "    <tr>\n",
       "      <th>24</th>\n",
       "      <td>0</td>\n",
       "      <td>0</td>\n",
       "    </tr>\n",
       "    <tr>\n",
       "      <th>25</th>\n",
       "      <td>1</td>\n",
       "      <td>1</td>\n",
       "    </tr>\n",
       "    <tr>\n",
       "      <th>26</th>\n",
       "      <td>0</td>\n",
       "      <td>0</td>\n",
       "    </tr>\n",
       "    <tr>\n",
       "      <th>27</th>\n",
       "      <td>0</td>\n",
       "      <td>0</td>\n",
       "    </tr>\n",
       "    <tr>\n",
       "      <th>28</th>\n",
       "      <td>1</td>\n",
       "      <td>1</td>\n",
       "    </tr>\n",
       "    <tr>\n",
       "      <th>29</th>\n",
       "      <td>0</td>\n",
       "      <td>0</td>\n",
       "    </tr>\n",
       "    <tr>\n",
       "      <th>30</th>\n",
       "      <td>0</td>\n",
       "      <td>0</td>\n",
       "    </tr>\n",
       "    <tr>\n",
       "      <th>31</th>\n",
       "      <td>1</td>\n",
       "      <td>1</td>\n",
       "    </tr>\n",
       "    <tr>\n",
       "      <th>32</th>\n",
       "      <td>0</td>\n",
       "      <td>0</td>\n",
       "    </tr>\n",
       "    <tr>\n",
       "      <th>33</th>\n",
       "      <td>0</td>\n",
       "      <td>0</td>\n",
       "    </tr>\n",
       "    <tr>\n",
       "      <th>34</th>\n",
       "      <td>0</td>\n",
       "      <td>0</td>\n",
       "    </tr>\n",
       "    <tr>\n",
       "      <th>35</th>\n",
       "      <td>1</td>\n",
       "      <td>1</td>\n",
       "    </tr>\n",
       "    <tr>\n",
       "      <th>36</th>\n",
       "      <td>1</td>\n",
       "      <td>1</td>\n",
       "    </tr>\n",
       "    <tr>\n",
       "      <th>37</th>\n",
       "      <td>0</td>\n",
       "      <td>0</td>\n",
       "    </tr>\n",
       "    <tr>\n",
       "      <th>38</th>\n",
       "      <td>0</td>\n",
       "      <td>0</td>\n",
       "    </tr>\n",
       "    <tr>\n",
       "      <th>39</th>\n",
       "      <td>0</td>\n",
       "      <td>0</td>\n",
       "    </tr>\n",
       "  </tbody>\n",
       "</table>\n",
       "</div>"
      ],
      "text/plain": [
       "    Prediction  Actual\n",
       "0            1       1\n",
       "1            1       1\n",
       "2            1       1\n",
       "3            0       0\n",
       "4            0       0\n",
       "5            1       1\n",
       "6            1       1\n",
       "7            0       0\n",
       "8            0       0\n",
       "9            0       0\n",
       "10           0       0\n",
       "11           0       0\n",
       "12           0       0\n",
       "13           0       0\n",
       "14           0       0\n",
       "15           0       0\n",
       "16           0       0\n",
       "17           0       0\n",
       "18           0       0\n",
       "19           0       0\n",
       "20           0       0\n",
       "21           1       1\n",
       "22           1       1\n",
       "23           0       0\n",
       "24           0       0\n",
       "25           1       1\n",
       "26           0       0\n",
       "27           0       0\n",
       "28           1       1\n",
       "29           0       0\n",
       "30           0       0\n",
       "31           1       1\n",
       "32           0       0\n",
       "33           0       0\n",
       "34           0       0\n",
       "35           1       1\n",
       "36           1       1\n",
       "37           0       0\n",
       "38           0       0\n",
       "39           0       0"
      ]
     },
     "execution_count": 20,
     "metadata": {},
     "output_type": "execute_result"
    }
   ],
   "source": [
    "pd.DataFrame({\"Prediction\": predictions, \"Actual\": y_test}).reset_index(drop=True)"
   ]
  },
  {
   "cell_type": "markdown",
   "metadata": {},
   "source": [
    "# SVC"
   ]
  },
  {
   "cell_type": "code",
   "execution_count": 21,
   "metadata": {},
   "outputs": [
    {
     "data": {
      "text/plain": [
       "SVC(kernel='linear')"
      ]
     },
     "execution_count": 21,
     "metadata": {},
     "output_type": "execute_result"
    }
   ],
   "source": [
    "from sklearn.svm import SVC \n",
    "model = SVC(kernel='linear')\n",
    "model.fit(X_train, y_train)"
   ]
  },
  {
   "cell_type": "code",
   "execution_count": 22,
   "metadata": {},
   "outputs": [
    {
     "name": "stdout",
     "output_type": "stream",
     "text": [
      "Test Acc: 0.975\n"
     ]
    }
   ],
   "source": [
    "print('Test Acc: %.3f' % model.score(X_test, y_test))"
   ]
  },
  {
   "cell_type": "code",
   "execution_count": 23,
   "metadata": {},
   "outputs": [
    {
     "name": "stdout",
     "output_type": "stream",
     "text": [
      "              precision    recall  f1-score   support\n",
      "\n",
      "    negative       1.00      0.96      0.98        28\n",
      "    positive       0.92      1.00      0.96        12\n",
      "\n",
      "    accuracy                           0.97        40\n",
      "   macro avg       0.96      0.98      0.97        40\n",
      "weighted avg       0.98      0.97      0.98        40\n",
      "\n"
     ]
    }
   ],
   "source": [
    "from sklearn.metrics import classification_report\n",
    "predictions = model.predict(X_test)\n",
    "print(classification_report(y_test, predictions,\n",
    "                            target_names=target_names))"
   ]
  },
  {
   "cell_type": "markdown",
   "metadata": {},
   "source": [
    "# One-Hot Encoding"
   ]
  },
  {
   "cell_type": "code",
   "execution_count": 24,
   "metadata": {},
   "outputs": [
    {
     "data": {
      "text/plain": [
       "array([[1., 0.],\n",
       "       [1., 0.],\n",
       "       [1., 0.],\n",
       "       [1., 0.],\n",
       "       [0., 1.],\n",
       "       [1., 0.],\n",
       "       [1., 0.],\n",
       "       [1., 0.],\n",
       "       [1., 0.],\n",
       "       [1., 0.],\n",
       "       [1., 0.],\n",
       "       [0., 1.],\n",
       "       [1., 0.],\n",
       "       [1., 0.],\n",
       "       [1., 0.],\n",
       "       [1., 0.],\n",
       "       [0., 1.],\n",
       "       [1., 0.],\n",
       "       [0., 1.],\n",
       "       [1., 0.],\n",
       "       [1., 0.],\n",
       "       [1., 0.],\n",
       "       [1., 0.],\n",
       "       [0., 1.],\n",
       "       [0., 1.],\n",
       "       [0., 1.],\n",
       "       [0., 1.],\n",
       "       [0., 1.],\n",
       "       [1., 0.],\n",
       "       [0., 1.],\n",
       "       [1., 0.],\n",
       "       [1., 0.],\n",
       "       [1., 0.],\n",
       "       [1., 0.],\n",
       "       [1., 0.],\n",
       "       [0., 1.],\n",
       "       [0., 1.],\n",
       "       [1., 0.],\n",
       "       [0., 1.],\n",
       "       [1., 0.],\n",
       "       [0., 1.],\n",
       "       [0., 1.],\n",
       "       [1., 0.],\n",
       "       [1., 0.],\n",
       "       [1., 0.],\n",
       "       [0., 1.],\n",
       "       [1., 0.],\n",
       "       [1., 0.],\n",
       "       [1., 0.],\n",
       "       [1., 0.],\n",
       "       [1., 0.],\n",
       "       [1., 0.],\n",
       "       [1., 0.],\n",
       "       [0., 1.],\n",
       "       [1., 0.],\n",
       "       [1., 0.],\n",
       "       [1., 0.],\n",
       "       [1., 0.],\n",
       "       [0., 1.],\n",
       "       [1., 0.],\n",
       "       [1., 0.],\n",
       "       [1., 0.],\n",
       "       [1., 0.],\n",
       "       [1., 0.],\n",
       "       [1., 0.],\n",
       "       [0., 1.],\n",
       "       [0., 1.],\n",
       "       [1., 0.],\n",
       "       [1., 0.],\n",
       "       [1., 0.],\n",
       "       [1., 0.],\n",
       "       [1., 0.],\n",
       "       [0., 1.],\n",
       "       [1., 0.],\n",
       "       [0., 1.],\n",
       "       [0., 1.],\n",
       "       [1., 0.],\n",
       "       [1., 0.],\n",
       "       [1., 0.],\n",
       "       [1., 0.],\n",
       "       [1., 0.],\n",
       "       [1., 0.],\n",
       "       [1., 0.],\n",
       "       [1., 0.],\n",
       "       [0., 1.],\n",
       "       [1., 0.],\n",
       "       [1., 0.],\n",
       "       [1., 0.],\n",
       "       [1., 0.],\n",
       "       [1., 0.],\n",
       "       [1., 0.],\n",
       "       [1., 0.],\n",
       "       [1., 0.],\n",
       "       [1., 0.],\n",
       "       [1., 0.],\n",
       "       [1., 0.],\n",
       "       [1., 0.],\n",
       "       [1., 0.],\n",
       "       [0., 1.],\n",
       "       [1., 0.],\n",
       "       [0., 1.],\n",
       "       [1., 0.],\n",
       "       [0., 1.],\n",
       "       [0., 1.],\n",
       "       [0., 1.],\n",
       "       [1., 0.],\n",
       "       [1., 0.],\n",
       "       [1., 0.],\n",
       "       [1., 0.],\n",
       "       [0., 1.],\n",
       "       [1., 0.],\n",
       "       [1., 0.],\n",
       "       [0., 1.],\n",
       "       [1., 0.],\n",
       "       [1., 0.],\n",
       "       [1., 0.],\n",
       "       [1., 0.],\n",
       "       [1., 0.]], dtype=float32)"
      ]
     },
     "execution_count": 24,
     "metadata": {},
     "output_type": "execute_result"
    }
   ],
   "source": [
    "from tensorflow.keras.utils import to_categorical\n",
    "\n",
    "y_train_categorical = to_categorical(y_train)\n",
    "y_test_categorical = to_categorical(y_test)\n",
    "y_train_categorical"
   ]
  },
  {
   "cell_type": "markdown",
   "metadata": {},
   "source": [
    "# Scaling the Data:"
   ]
  },
  {
   "cell_type": "code",
   "execution_count": 25,
   "metadata": {},
   "outputs": [],
   "source": [
    "from sklearn.preprocessing import StandardScaler\n",
    "\n",
    "X_scaler = StandardScaler().fit(X_train)"
   ]
  },
  {
   "cell_type": "code",
   "execution_count": 26,
   "metadata": {},
   "outputs": [],
   "source": [
    "X_train_scaled = X_scaler.transform(X_train)\n",
    "X_test_scaled = X_scaler.transform(X_test)"
   ]
  },
  {
   "cell_type": "code",
   "execution_count": 27,
   "metadata": {},
   "outputs": [],
   "source": [
    "from tensorflow.keras.utils import to_categorical"
   ]
  },
  {
   "cell_type": "code",
   "execution_count": 28,
   "metadata": {},
   "outputs": [],
   "source": [
    "y_train_categorical = to_categorical(y_train)\n",
    "y_test_categorical = to_categorical(y_test)"
   ]
  },
  {
   "cell_type": "code",
   "execution_count": 29,
   "metadata": {},
   "outputs": [],
   "source": [
    "from tensorflow.keras.models import Sequential\n",
    "from tensorflow.keras.layers import Dense\n",
    "\n",
    "model = Sequential()\n",
    "model.add(Dense(units=24, activation='relu', input_dim=24))\n",
    "model.add(Dense(units=2, activation='softmax'))"
   ]
  },
  {
   "cell_type": "code",
   "execution_count": 30,
   "metadata": {},
   "outputs": [
    {
     "name": "stdout",
     "output_type": "stream",
     "text": [
      "Model: \"sequential\"\n",
      "_________________________________________________________________\n",
      "Layer (type)                 Output Shape              Param #   \n",
      "=================================================================\n",
      "dense (Dense)                (None, 24)                600       \n",
      "_________________________________________________________________\n",
      "dense_1 (Dense)              (None, 2)                 50        \n",
      "=================================================================\n",
      "Total params: 650\n",
      "Trainable params: 650\n",
      "Non-trainable params: 0\n",
      "_________________________________________________________________\n"
     ]
    }
   ],
   "source": [
    "model.summary()"
   ]
  },
  {
   "cell_type": "code",
   "execution_count": 31,
   "metadata": {},
   "outputs": [],
   "source": [
    "model.compile(optimizer='adam',\n",
    "              loss='categorical_crossentropy',\n",
    "              metrics=['accuracy'])"
   ]
  },
  {
   "cell_type": "code",
   "execution_count": 32,
   "metadata": {},
   "outputs": [
    {
     "name": "stdout",
     "output_type": "stream",
     "text": [
      "Train on 118 samples\n",
      "Epoch 1/100\n",
      "118/118 - 1s - loss: 1.1313 - accuracy: 0.2373\n",
      "Epoch 2/100\n",
      "118/118 - 0s - loss: 0.9852 - accuracy: 0.3475\n",
      "Epoch 3/100\n",
      "118/118 - 0s - loss: 0.8552 - accuracy: 0.4915\n",
      "Epoch 4/100\n",
      "118/118 - 0s - loss: 0.7396 - accuracy: 0.5508\n",
      "Epoch 5/100\n",
      "118/118 - 0s - loss: 0.6393 - accuracy: 0.6695\n",
      "Epoch 6/100\n",
      "118/118 - 0s - loss: 0.5506 - accuracy: 0.7288\n",
      "Epoch 7/100\n",
      "118/118 - 0s - loss: 0.4731 - accuracy: 0.7966\n",
      "Epoch 8/100\n",
      "118/118 - 0s - loss: 0.4112 - accuracy: 0.8559\n",
      "Epoch 9/100\n",
      "118/118 - 0s - loss: 0.3546 - accuracy: 0.9237\n",
      "Epoch 10/100\n",
      "118/118 - 0s - loss: 0.3078 - accuracy: 0.9576\n",
      "Epoch 11/100\n",
      "118/118 - 0s - loss: 0.2695 - accuracy: 0.9661\n",
      "Epoch 12/100\n",
      "118/118 - 0s - loss: 0.2356 - accuracy: 0.9746\n",
      "Epoch 13/100\n",
      "118/118 - 0s - loss: 0.2086 - accuracy: 0.9746\n",
      "Epoch 14/100\n",
      "118/118 - 0s - loss: 0.1851 - accuracy: 0.9746\n",
      "Epoch 15/100\n",
      "118/118 - 0s - loss: 0.1659 - accuracy: 0.9831\n",
      "Epoch 16/100\n",
      "118/118 - 0s - loss: 0.1495 - accuracy: 0.9831\n",
      "Epoch 17/100\n",
      "118/118 - 0s - loss: 0.1358 - accuracy: 0.9831\n",
      "Epoch 18/100\n",
      "118/118 - 0s - loss: 0.1235 - accuracy: 0.9831\n",
      "Epoch 19/100\n",
      "118/118 - 0s - loss: 0.1135 - accuracy: 0.9915\n",
      "Epoch 20/100\n",
      "118/118 - 0s - loss: 0.1045 - accuracy: 0.9915\n",
      "Epoch 21/100\n",
      "118/118 - 0s - loss: 0.0971 - accuracy: 0.9915\n",
      "Epoch 22/100\n",
      "118/118 - 0s - loss: 0.0902 - accuracy: 0.9915\n",
      "Epoch 23/100\n",
      "118/118 - 0s - loss: 0.0843 - accuracy: 0.9915\n",
      "Epoch 24/100\n",
      "118/118 - 0s - loss: 0.0787 - accuracy: 0.9915\n",
      "Epoch 25/100\n",
      "118/118 - 0s - loss: 0.0741 - accuracy: 0.9915\n",
      "Epoch 26/100\n",
      "118/118 - 0s - loss: 0.0698 - accuracy: 0.9915\n",
      "Epoch 27/100\n",
      "118/118 - 0s - loss: 0.0659 - accuracy: 0.9915\n",
      "Epoch 28/100\n",
      "118/118 - 0s - loss: 0.0624 - accuracy: 0.9915\n",
      "Epoch 29/100\n",
      "118/118 - 0s - loss: 0.0590 - accuracy: 0.9915\n",
      "Epoch 30/100\n",
      "118/118 - 0s - loss: 0.0560 - accuracy: 0.9915\n",
      "Epoch 31/100\n",
      "118/118 - 0s - loss: 0.0532 - accuracy: 0.9915\n",
      "Epoch 32/100\n",
      "118/118 - 0s - loss: 0.0508 - accuracy: 0.9915\n",
      "Epoch 33/100\n",
      "118/118 - 0s - loss: 0.0483 - accuracy: 0.9915\n",
      "Epoch 34/100\n",
      "118/118 - 0s - loss: 0.0459 - accuracy: 0.9915\n",
      "Epoch 35/100\n",
      "118/118 - 0s - loss: 0.0441 - accuracy: 0.9915\n",
      "Epoch 36/100\n",
      "118/118 - 0s - loss: 0.0420 - accuracy: 0.9915\n",
      "Epoch 37/100\n",
      "118/118 - 0s - loss: 0.0401 - accuracy: 0.9915\n",
      "Epoch 38/100\n",
      "118/118 - 0s - loss: 0.0383 - accuracy: 0.9915\n",
      "Epoch 39/100\n",
      "118/118 - 0s - loss: 0.0368 - accuracy: 0.9915\n",
      "Epoch 40/100\n",
      "118/118 - 0s - loss: 0.0353 - accuracy: 0.9915\n",
      "Epoch 41/100\n",
      "118/118 - 0s - loss: 0.0337 - accuracy: 0.9915\n",
      "Epoch 42/100\n",
      "118/118 - 0s - loss: 0.0324 - accuracy: 0.9915\n",
      "Epoch 43/100\n",
      "118/118 - 0s - loss: 0.0311 - accuracy: 0.9915\n",
      "Epoch 44/100\n",
      "118/118 - 0s - loss: 0.0298 - accuracy: 0.9915\n",
      "Epoch 45/100\n",
      "118/118 - 0s - loss: 0.0287 - accuracy: 0.9915\n",
      "Epoch 46/100\n",
      "118/118 - 0s - loss: 0.0276 - accuracy: 0.9915\n",
      "Epoch 47/100\n",
      "118/118 - 0s - loss: 0.0265 - accuracy: 1.0000\n",
      "Epoch 48/100\n",
      "118/118 - 0s - loss: 0.0257 - accuracy: 1.0000\n",
      "Epoch 49/100\n",
      "118/118 - 0s - loss: 0.0247 - accuracy: 1.0000\n",
      "Epoch 50/100\n",
      "118/118 - 0s - loss: 0.0237 - accuracy: 1.0000\n",
      "Epoch 51/100\n",
      "118/118 - 0s - loss: 0.0229 - accuracy: 1.0000\n",
      "Epoch 52/100\n",
      "118/118 - 0s - loss: 0.0221 - accuracy: 1.0000\n",
      "Epoch 53/100\n",
      "118/118 - 0s - loss: 0.0214 - accuracy: 1.0000\n",
      "Epoch 54/100\n",
      "118/118 - 0s - loss: 0.0206 - accuracy: 1.0000\n",
      "Epoch 55/100\n",
      "118/118 - 0s - loss: 0.0199 - accuracy: 1.0000\n",
      "Epoch 56/100\n",
      "118/118 - 0s - loss: 0.0193 - accuracy: 1.0000\n",
      "Epoch 57/100\n",
      "118/118 - 0s - loss: 0.0186 - accuracy: 1.0000\n",
      "Epoch 58/100\n",
      "118/118 - 0s - loss: 0.0180 - accuracy: 1.0000\n",
      "Epoch 59/100\n",
      "118/118 - 0s - loss: 0.0174 - accuracy: 1.0000\n",
      "Epoch 60/100\n",
      "118/118 - 0s - loss: 0.0169 - accuracy: 1.0000\n",
      "Epoch 61/100\n",
      "118/118 - 0s - loss: 0.0163 - accuracy: 1.0000\n",
      "Epoch 62/100\n",
      "118/118 - 0s - loss: 0.0158 - accuracy: 1.0000\n",
      "Epoch 63/100\n",
      "118/118 - 0s - loss: 0.0154 - accuracy: 1.0000\n",
      "Epoch 64/100\n",
      "118/118 - 0s - loss: 0.0149 - accuracy: 1.0000\n",
      "Epoch 65/100\n",
      "118/118 - 0s - loss: 0.0144 - accuracy: 1.0000\n",
      "Epoch 66/100\n",
      "118/118 - 0s - loss: 0.0140 - accuracy: 1.0000\n",
      "Epoch 67/100\n",
      "118/118 - 0s - loss: 0.0136 - accuracy: 1.0000\n",
      "Epoch 68/100\n",
      "118/118 - 0s - loss: 0.0132 - accuracy: 1.0000\n",
      "Epoch 69/100\n",
      "118/118 - 0s - loss: 0.0129 - accuracy: 1.0000\n",
      "Epoch 70/100\n",
      "118/118 - 0s - loss: 0.0125 - accuracy: 1.0000\n",
      "Epoch 71/100\n",
      "118/118 - 0s - loss: 0.0122 - accuracy: 1.0000\n",
      "Epoch 72/100\n",
      "118/118 - 0s - loss: 0.0118 - accuracy: 1.0000\n",
      "Epoch 73/100\n",
      "118/118 - 0s - loss: 0.0115 - accuracy: 1.0000\n",
      "Epoch 74/100\n",
      "118/118 - 0s - loss: 0.0112 - accuracy: 1.0000\n",
      "Epoch 75/100\n",
      "118/118 - 0s - loss: 0.0109 - accuracy: 1.0000\n",
      "Epoch 76/100\n",
      "118/118 - 0s - loss: 0.0106 - accuracy: 1.0000\n",
      "Epoch 77/100\n",
      "118/118 - 0s - loss: 0.0103 - accuracy: 1.0000\n",
      "Epoch 78/100\n",
      "118/118 - 0s - loss: 0.0101 - accuracy: 1.0000\n",
      "Epoch 79/100\n",
      "118/118 - 0s - loss: 0.0098 - accuracy: 1.0000\n",
      "Epoch 80/100\n",
      "118/118 - 0s - loss: 0.0096 - accuracy: 1.0000\n",
      "Epoch 81/100\n",
      "118/118 - 0s - loss: 0.0093 - accuracy: 1.0000\n",
      "Epoch 82/100\n",
      "118/118 - 0s - loss: 0.0091 - accuracy: 1.0000\n",
      "Epoch 83/100\n",
      "118/118 - 0s - loss: 0.0089 - accuracy: 1.0000\n",
      "Epoch 84/100\n",
      "118/118 - 0s - loss: 0.0087 - accuracy: 1.0000\n",
      "Epoch 85/100\n",
      "118/118 - 0s - loss: 0.0085 - accuracy: 1.0000\n",
      "Epoch 86/100\n",
      "118/118 - 0s - loss: 0.0083 - accuracy: 1.0000\n",
      "Epoch 87/100\n",
      "118/118 - 0s - loss: 0.0081 - accuracy: 1.0000\n",
      "Epoch 88/100\n",
      "118/118 - 0s - loss: 0.0079 - accuracy: 1.0000\n",
      "Epoch 89/100\n",
      "118/118 - 0s - loss: 0.0078 - accuracy: 1.0000\n",
      "Epoch 90/100\n",
      "118/118 - 0s - loss: 0.0076 - accuracy: 1.0000\n",
      "Epoch 91/100\n",
      "118/118 - 0s - loss: 0.0074 - accuracy: 1.0000\n",
      "Epoch 92/100\n",
      "118/118 - 0s - loss: 0.0073 - accuracy: 1.0000\n",
      "Epoch 93/100\n",
      "118/118 - 0s - loss: 0.0071 - accuracy: 1.0000\n",
      "Epoch 94/100\n",
      "118/118 - 0s - loss: 0.0069 - accuracy: 1.0000\n",
      "Epoch 95/100\n",
      "118/118 - 0s - loss: 0.0068 - accuracy: 1.0000\n",
      "Epoch 96/100\n",
      "118/118 - 0s - loss: 0.0067 - accuracy: 1.0000\n",
      "Epoch 97/100\n",
      "118/118 - 0s - loss: 0.0065 - accuracy: 1.0000\n",
      "Epoch 98/100\n",
      "118/118 - 0s - loss: 0.0064 - accuracy: 1.0000\n",
      "Epoch 99/100\n",
      "118/118 - 0s - loss: 0.0063 - accuracy: 1.0000\n",
      "Epoch 100/100\n",
      "118/118 - 0s - loss: 0.0061 - accuracy: 1.0000\n"
     ]
    },
    {
     "data": {
      "text/plain": [
       "<tensorflow.python.keras.callbacks.History at 0x21cf75fdf48>"
      ]
     },
     "execution_count": 32,
     "metadata": {},
     "output_type": "execute_result"
    }
   ],
   "source": [
    "model.fit(\n",
    "    X_train_scaled,\n",
    "    y_train_categorical,\n",
    "    epochs=100,\n",
    "    shuffle=True,\n",
    "    verbose=2\n",
    ")"
   ]
  },
  {
   "cell_type": "code",
   "execution_count": 33,
   "metadata": {},
   "outputs": [],
   "source": [
    "deep_model = Sequential()\n",
    "deep_model.add(Dense(units=24, activation='relu', input_dim=24))\n",
    "deep_model.add(Dense(units=6, activation='relu'))\n",
    "deep_model.add(Dense(units=2, activation='softmax'))"
   ]
  },
  {
   "cell_type": "code",
   "execution_count": 34,
   "metadata": {},
   "outputs": [
    {
     "name": "stdout",
     "output_type": "stream",
     "text": [
      "Train on 118 samples\n",
      "Epoch 1/100\n",
      "118/118 - 1s - loss: 0.6701 - accuracy: 0.4661\n",
      "Epoch 2/100\n",
      "118/118 - 0s - loss: 0.5856 - accuracy: 0.6271\n",
      "Epoch 3/100\n",
      "118/118 - 0s - loss: 0.5167 - accuracy: 0.8136\n",
      "Epoch 4/100\n",
      "118/118 - 0s - loss: 0.4648 - accuracy: 0.8983\n",
      "Epoch 5/100\n",
      "118/118 - 0s - loss: 0.4218 - accuracy: 0.9576\n",
      "Epoch 6/100\n",
      "118/118 - 0s - loss: 0.3860 - accuracy: 0.9661\n",
      "Epoch 7/100\n",
      "118/118 - 0s - loss: 0.3514 - accuracy: 0.9746\n",
      "Epoch 8/100\n",
      "118/118 - 0s - loss: 0.3186 - accuracy: 0.9915\n",
      "Epoch 9/100\n",
      "118/118 - 0s - loss: 0.2870 - accuracy: 1.0000\n",
      "Epoch 10/100\n",
      "118/118 - 0s - loss: 0.2578 - accuracy: 1.0000\n",
      "Epoch 11/100\n",
      "118/118 - 0s - loss: 0.2301 - accuracy: 1.0000\n",
      "Epoch 12/100\n",
      "118/118 - 0s - loss: 0.2039 - accuracy: 1.0000\n",
      "Epoch 13/100\n",
      "118/118 - 0s - loss: 0.1802 - accuracy: 1.0000\n",
      "Epoch 14/100\n",
      "118/118 - 0s - loss: 0.1588 - accuracy: 1.0000\n",
      "Epoch 15/100\n",
      "118/118 - 0s - loss: 0.1384 - accuracy: 1.0000\n",
      "Epoch 16/100\n",
      "118/118 - 0s - loss: 0.1209 - accuracy: 1.0000\n",
      "Epoch 17/100\n",
      "118/118 - 0s - loss: 0.1054 - accuracy: 1.0000\n",
      "Epoch 18/100\n",
      "118/118 - 0s - loss: 0.0911 - accuracy: 1.0000\n",
      "Epoch 19/100\n",
      "118/118 - 0s - loss: 0.0794 - accuracy: 1.0000\n",
      "Epoch 20/100\n",
      "118/118 - 0s - loss: 0.0689 - accuracy: 1.0000\n",
      "Epoch 21/100\n",
      "118/118 - 0s - loss: 0.0602 - accuracy: 1.0000\n",
      "Epoch 22/100\n",
      "118/118 - 0s - loss: 0.0526 - accuracy: 1.0000\n",
      "Epoch 23/100\n",
      "118/118 - 0s - loss: 0.0464 - accuracy: 1.0000\n",
      "Epoch 24/100\n",
      "118/118 - 0s - loss: 0.0413 - accuracy: 1.0000\n",
      "Epoch 25/100\n",
      "118/118 - 0s - loss: 0.0368 - accuracy: 1.0000\n",
      "Epoch 26/100\n",
      "118/118 - 0s - loss: 0.0333 - accuracy: 1.0000\n",
      "Epoch 27/100\n",
      "118/118 - 0s - loss: 0.0300 - accuracy: 1.0000\n",
      "Epoch 28/100\n",
      "118/118 - 0s - loss: 0.0273 - accuracy: 1.0000\n",
      "Epoch 29/100\n",
      "118/118 - 0s - loss: 0.0249 - accuracy: 1.0000\n",
      "Epoch 30/100\n",
      "118/118 - 0s - loss: 0.0230 - accuracy: 1.0000\n",
      "Epoch 31/100\n",
      "118/118 - 0s - loss: 0.0211 - accuracy: 1.0000\n",
      "Epoch 32/100\n",
      "118/118 - 0s - loss: 0.0196 - accuracy: 1.0000\n",
      "Epoch 33/100\n",
      "118/118 - 0s - loss: 0.0181 - accuracy: 1.0000\n",
      "Epoch 34/100\n",
      "118/118 - 0s - loss: 0.0170 - accuracy: 1.0000\n",
      "Epoch 35/100\n",
      "118/118 - 0s - loss: 0.0158 - accuracy: 1.0000\n",
      "Epoch 36/100\n",
      "118/118 - 0s - loss: 0.0148 - accuracy: 1.0000\n",
      "Epoch 37/100\n",
      "118/118 - 0s - loss: 0.0139 - accuracy: 1.0000\n",
      "Epoch 38/100\n",
      "118/118 - 0s - loss: 0.0131 - accuracy: 1.0000\n",
      "Epoch 39/100\n",
      "118/118 - 0s - loss: 0.0123 - accuracy: 1.0000\n",
      "Epoch 40/100\n",
      "118/118 - 0s - loss: 0.0115 - accuracy: 1.0000\n",
      "Epoch 41/100\n",
      "118/118 - 0s - loss: 0.0110 - accuracy: 1.0000\n",
      "Epoch 42/100\n",
      "118/118 - 0s - loss: 0.0104 - accuracy: 1.0000\n",
      "Epoch 43/100\n",
      "118/118 - 0s - loss: 0.0098 - accuracy: 1.0000\n",
      "Epoch 44/100\n",
      "118/118 - 0s - loss: 0.0093 - accuracy: 1.0000\n",
      "Epoch 45/100\n",
      "118/118 - 0s - loss: 0.0089 - accuracy: 1.0000\n",
      "Epoch 46/100\n",
      "118/118 - 0s - loss: 0.0084 - accuracy: 1.0000\n",
      "Epoch 47/100\n",
      "118/118 - 0s - loss: 0.0080 - accuracy: 1.0000\n",
      "Epoch 48/100\n",
      "118/118 - 0s - loss: 0.0077 - accuracy: 1.0000\n",
      "Epoch 49/100\n",
      "118/118 - 0s - loss: 0.0073 - accuracy: 1.0000\n",
      "Epoch 50/100\n",
      "118/118 - 0s - loss: 0.0071 - accuracy: 1.0000\n",
      "Epoch 51/100\n",
      "118/118 - 0s - loss: 0.0067 - accuracy: 1.0000\n",
      "Epoch 52/100\n",
      "118/118 - 0s - loss: 0.0065 - accuracy: 1.0000\n",
      "Epoch 53/100\n",
      "118/118 - 0s - loss: 0.0062 - accuracy: 1.0000\n",
      "Epoch 54/100\n",
      "118/118 - 0s - loss: 0.0060 - accuracy: 1.0000\n",
      "Epoch 55/100\n",
      "118/118 - 0s - loss: 0.0057 - accuracy: 1.0000\n",
      "Epoch 56/100\n",
      "118/118 - 0s - loss: 0.0055 - accuracy: 1.0000\n",
      "Epoch 57/100\n",
      "118/118 - 0s - loss: 0.0053 - accuracy: 1.0000\n",
      "Epoch 58/100\n",
      "118/118 - 0s - loss: 0.0051 - accuracy: 1.0000\n",
      "Epoch 59/100\n",
      "118/118 - 0s - loss: 0.0049 - accuracy: 1.0000\n",
      "Epoch 60/100\n",
      "118/118 - 0s - loss: 0.0048 - accuracy: 1.0000\n",
      "Epoch 61/100\n",
      "118/118 - 0s - loss: 0.0046 - accuracy: 1.0000\n",
      "Epoch 62/100\n",
      "118/118 - 0s - loss: 0.0044 - accuracy: 1.0000\n",
      "Epoch 63/100\n",
      "118/118 - 0s - loss: 0.0043 - accuracy: 1.0000\n",
      "Epoch 64/100\n",
      "118/118 - 0s - loss: 0.0042 - accuracy: 1.0000\n",
      "Epoch 65/100\n",
      "118/118 - 0s - loss: 0.0040 - accuracy: 1.0000\n",
      "Epoch 66/100\n",
      "118/118 - 0s - loss: 0.0039 - accuracy: 1.0000\n",
      "Epoch 67/100\n",
      "118/118 - 0s - loss: 0.0038 - accuracy: 1.0000\n",
      "Epoch 68/100\n",
      "118/118 - 0s - loss: 0.0037 - accuracy: 1.0000\n",
      "Epoch 69/100\n",
      "118/118 - 0s - loss: 0.0036 - accuracy: 1.0000\n",
      "Epoch 70/100\n",
      "118/118 - 0s - loss: 0.0035 - accuracy: 1.0000\n",
      "Epoch 71/100\n",
      "118/118 - 0s - loss: 0.0034 - accuracy: 1.0000\n",
      "Epoch 72/100\n",
      "118/118 - 0s - loss: 0.0033 - accuracy: 1.0000\n",
      "Epoch 73/100\n",
      "118/118 - 0s - loss: 0.0032 - accuracy: 1.0000\n",
      "Epoch 74/100\n",
      "118/118 - 0s - loss: 0.0031 - accuracy: 1.0000\n",
      "Epoch 75/100\n",
      "118/118 - 0s - loss: 0.0030 - accuracy: 1.0000\n",
      "Epoch 76/100\n",
      "118/118 - 0s - loss: 0.0029 - accuracy: 1.0000\n",
      "Epoch 77/100\n",
      "118/118 - 0s - loss: 0.0028 - accuracy: 1.0000\n",
      "Epoch 78/100\n",
      "118/118 - 0s - loss: 0.0028 - accuracy: 1.0000\n",
      "Epoch 79/100\n",
      "118/118 - 0s - loss: 0.0027 - accuracy: 1.0000\n",
      "Epoch 80/100\n",
      "118/118 - 0s - loss: 0.0026 - accuracy: 1.0000\n",
      "Epoch 81/100\n",
      "118/118 - 0s - loss: 0.0026 - accuracy: 1.0000\n",
      "Epoch 82/100\n",
      "118/118 - 0s - loss: 0.0025 - accuracy: 1.0000\n",
      "Epoch 83/100\n",
      "118/118 - 0s - loss: 0.0025 - accuracy: 1.0000\n",
      "Epoch 84/100\n",
      "118/118 - 0s - loss: 0.0024 - accuracy: 1.0000\n",
      "Epoch 85/100\n",
      "118/118 - 0s - loss: 0.0023 - accuracy: 1.0000\n",
      "Epoch 86/100\n",
      "118/118 - 0s - loss: 0.0023 - accuracy: 1.0000\n",
      "Epoch 87/100\n",
      "118/118 - 0s - loss: 0.0022 - accuracy: 1.0000\n",
      "Epoch 88/100\n",
      "118/118 - 0s - loss: 0.0022 - accuracy: 1.0000\n",
      "Epoch 89/100\n",
      "118/118 - 0s - loss: 0.0021 - accuracy: 1.0000\n",
      "Epoch 90/100\n",
      "118/118 - 0s - loss: 0.0021 - accuracy: 1.0000\n",
      "Epoch 91/100\n",
      "118/118 - 0s - loss: 0.0020 - accuracy: 1.0000\n",
      "Epoch 92/100\n",
      "118/118 - 0s - loss: 0.0020 - accuracy: 1.0000\n",
      "Epoch 93/100\n",
      "118/118 - 0s - loss: 0.0020 - accuracy: 1.0000\n",
      "Epoch 94/100\n",
      "118/118 - 0s - loss: 0.0019 - accuracy: 1.0000\n",
      "Epoch 95/100\n",
      "118/118 - 0s - loss: 0.0019 - accuracy: 1.0000\n",
      "Epoch 96/100\n",
      "118/118 - 0s - loss: 0.0018 - accuracy: 1.0000\n",
      "Epoch 97/100\n",
      "118/118 - 0s - loss: 0.0018 - accuracy: 1.0000\n",
      "Epoch 98/100\n",
      "118/118 - 0s - loss: 0.0018 - accuracy: 1.0000\n",
      "Epoch 99/100\n",
      "118/118 - 0s - loss: 0.0017 - accuracy: 1.0000\n",
      "Epoch 100/100\n",
      "118/118 - 0s - loss: 0.0017 - accuracy: 1.0000\n"
     ]
    },
    {
     "data": {
      "text/plain": [
       "<tensorflow.python.keras.callbacks.History at 0x21cf8991248>"
      ]
     },
     "execution_count": 34,
     "metadata": {},
     "output_type": "execute_result"
    }
   ],
   "source": [
    "deep_model.compile(optimizer='adam',\n",
    "                   loss='categorical_crossentropy',\n",
    "                   metrics=['accuracy'])\n",
    "\n",
    "deep_model.fit(\n",
    "    X_train_scaled,\n",
    "    y_train_categorical,\n",
    "    epochs=100,\n",
    "    shuffle=True,\n",
    "    verbose=2\n",
    ")"
   ]
  },
  {
   "cell_type": "code",
   "execution_count": 35,
   "metadata": {},
   "outputs": [
    {
     "name": "stdout",
     "output_type": "stream",
     "text": [
      "40/40 - 0s - loss: 0.0051 - accuracy: 1.0000\n",
      "Normal Neural Network - Loss: 0.005087689682841301, Accuracy: 1.0\n"
     ]
    }
   ],
   "source": [
    "model_loss, model_accuracy = model.evaluate(\n",
    "    X_test_scaled, y_test_categorical, verbose=2)\n",
    "print(\n",
    "    f\"Normal Neural Network - Loss: {model_loss}, Accuracy: {model_accuracy}\")"
   ]
  },
  {
   "cell_type": "code",
   "execution_count": 36,
   "metadata": {},
   "outputs": [
    {
     "name": "stdout",
     "output_type": "stream",
     "text": [
      "40/40 - 0s - loss: 0.0018 - accuracy: 1.0000\n",
      "Deep Neural Network - Loss: 0.0018428237177431583, Accuracy: 1.0\n"
     ]
    }
   ],
   "source": [
    "model_loss, model_accuracy = deep_model.evaluate(\n",
    "    X_test_scaled, y_test_categorical, verbose=2)\n",
    "print(f\"Deep Neural Network - Loss: {model_loss}, Accuracy: {model_accuracy}\")"
   ]
  },
  {
   "cell_type": "code",
   "execution_count": 37,
   "metadata": {},
   "outputs": [
    {
     "name": "stdout",
     "output_type": "stream",
     "text": [
      "Logistic Regression Confusion matrix, without normalization\n",
      "[[28  0]\n",
      " [ 0 12]]\n",
      "Logistic Regression Normalized confusion matrix\n",
      "[[1. 0.]\n",
      " [0. 1.]]\n"
     ]
    },
    {
     "data": {
      "image/png": "[encoded data removed]",
      "text/plain": [
       "<Figure size 432x288 with 2 Axes>"
      ]
     },
     "metadata": {
      "needs_background": "light"
     },
     "output_type": "display_data"
    },
    {
     "data": {
      "image/png": "[encoded data removed]",
      "text/plain": [
       "<Figure size 432x288 with 2 Axes>"
      ]
     },
     "metadata": {
      "needs_background": "light"
     },
     "output_type": "display_data"
    }
   ],
   "source": [
    "import numpy as np\n",
    "\n",
    "np.set_printoptions(precision=2)\n",
    "\n",
    "# Plot non-normalized confusion matrix\n",
    "titles_options = [(\"Logistic Regression Confusion matrix, without normalization\", None),\n",
    "                  (\"Logistic Regression Normalized confusion matrix\", 'true')]\n",
    "for title, normalize in titles_options:\n",
    "    disp = plot_confusion_matrix(classifier, X_test, y_test,\n",
    "                                 display_labels=target_names,\n",
    "                                 cmap=plt.cm.Blues,\n",
    "                                 normalize=normalize)\n",
    "    disp.ax_.set_title(title)\n",
    "\n",
    "    print(title)\n",
    "    print(disp.confusion_matrix)\n",
    "\n",
    "plt.show()"
   ]
  },
  {
   "cell_type": "code",
   "execution_count": null,
   "metadata": {},
   "outputs": [],
   "source": []
  },
  {
   "cell_type": "code",
   "execution_count": null,
   "metadata": {},
   "outputs": [],
   "source": []
  },
  {
   "cell_type": "code",
   "execution_count": null,
   "metadata": {},
   "outputs": [],
   "source": []
  },
  {
   "cell_type": "code",
   "execution_count": null,
   "metadata": {},
   "outputs": [],
   "source": []
  },
  {
   "cell_type": "code",
   "execution_count": null,
   "metadata": {},
   "outputs": [],
   "source": []
  },
  {
   "cell_type": "code",
   "execution_count": null,
   "metadata": {},
   "outputs": [],
   "source": []
  },
  {
   "cell_type": "code",
   "execution_count": null,
   "metadata": {},
   "outputs": [],
   "source": []
  },
  {
   "cell_type": "code",
   "execution_count": null,
   "metadata": {},
   "outputs": [],
   "source": []
  },
  {
   "cell_type": "code",
   "execution_count": null,
   "metadata": {},
   "outputs": [],
   "source": []
  },
  {
   "cell_type": "code",
   "execution_count": null,
   "metadata": {},
   "outputs": [],
   "source": []
  },
  {
   "cell_type": "code",
   "execution_count": null,
   "metadata": {},
   "outputs": [],
   "source": []
  },
  {
   "cell_type": "markdown",
   "metadata": {},
   "source": [
    "# Linear Regression"
   ]
  },
  {
   "cell_type": "code",
   "execution_count": 46,
   "metadata": {},
   "outputs": [
    {
     "name": "stdout",
     "output_type": "stream",
     "text": [
      "(158, 24) (158, 1)\n",
      "      age    bp     sg   al   su    bgr     bu   sc    sod  pot  ...  \\\n",
      "3    48.0  70.0  1.005  4.0  0.0  117.0   56.0  3.8  111.0  2.5  ...   \n",
      "9    53.0  90.0  1.020  2.0  0.0   70.0  107.0  7.2  114.0  3.7  ...   \n",
      "11   63.0  70.0  1.010  3.0  0.0  380.0   60.0  2.7  131.0  4.2  ...   \n",
      "14   68.0  80.0  1.010  3.0  2.0  157.0   90.0  4.1  130.0  6.4  ...   \n",
      "20   61.0  80.0  1.015  2.0  0.0  173.0  148.0  3.9  135.0  5.2  ...   \n",
      "..    ...   ...    ...  ...  ...    ...    ...  ...    ...  ...  ...   \n",
      "395  55.0  80.0  1.020  0.0  0.0  140.0   49.0  0.5  150.0  4.9  ...   \n",
      "396  42.0  70.0  1.025  0.0  0.0   75.0   31.0  1.2  141.0  3.5  ...   \n",
      "397  12.0  80.0  1.020  0.0  0.0  100.0   26.0  0.6  137.0  4.4  ...   \n",
      "398  17.0  60.0  1.025  0.0  0.0  114.0   50.0  1.0  135.0  4.9  ...   \n",
      "399  58.0  80.0  1.025  0.0  0.0  131.0   18.0  1.1  141.0  3.5  ...   \n",
      "\n",
      "     rbc_abnormal pc_abnormal pcc_notpresent ba_notpresent  htn_no  dm_no  \\\n",
      "3               0           1              0             1       0      1   \n",
      "9               1           1              0             1       0      0   \n",
      "11              1           1              0             1       0      0   \n",
      "14              0           1              0             0       0      0   \n",
      "20              1           1              1             1       0      0   \n",
      "..            ...         ...            ...           ...     ...    ...   \n",
      "395             0           0              1             1       1      1   \n",
      "396             0           0              1             1       1      1   \n",
      "397             0           0              1             1       1      1   \n",
      "398             0           0              1             1       1      1   \n",
      "399             0           0              1             1       1      1   \n",
      "\n",
      "     cad_no  appet_good  pe_no  ane_no  \n",
      "3         1           0      0       0  \n",
      "9         1           0      1       0  \n",
      "11        1           0      0       1  \n",
      "14        0           0      0       1  \n",
      "20        0           0      0       0  \n",
      "..      ...         ...    ...     ...  \n",
      "395       1           1      1       1  \n",
      "396       1           1      1       1  \n",
      "397       1           1      1       1  \n",
      "398       1           1      1       1  \n",
      "399       1           1      1       1  \n",
      "\n",
      "[158 rows x 24 columns]\n"
     ]
    }
   ],
   "source": [
    "X = kidney_binary_data\n",
    "y = data_binary_encoded[\"ckd\"].values.reshape(-1, 1)\n",
    "print(X.shape, y.shape)\n",
    "print(X)"
   ]
  },
  {
   "cell_type": "code",
   "execution_count": 47,
   "metadata": {},
   "outputs": [],
   "source": [
    "from sklearn.model_selection import train_test_split\n",
    "\n",
    "X_train, X_test, y_train, y_test = train_test_split(X, y, random_state=42)"
   ]
  },
  {
   "cell_type": "code",
   "execution_count": 48,
   "metadata": {},
   "outputs": [],
   "source": [
    "X_scaler = StandardScaler().fit(X_train)\n",
    "y_scaler = StandardScaler().fit(y_train)"
   ]
  },
  {
   "cell_type": "code",
   "execution_count": 49,
   "metadata": {},
   "outputs": [],
   "source": [
    "X_train_scaled = X_scaler.transform(X_train)\n",
    "X_test_scaled = X_scaler.transform(X_test)\n",
    "y_train_scaled = y_scaler.transform(y_train)\n",
    "y_test_scaled = y_scaler.transform(y_test)"
   ]
  },
  {
   "cell_type": "code",
   "execution_count": 50,
   "metadata": {},
   "outputs": [
    {
     "data": {
      "text/plain": [
       "LinearRegression()"
      ]
     },
     "execution_count": 50,
     "metadata": {},
     "output_type": "execute_result"
    }
   ],
   "source": [
    "from sklearn.linear_model import LinearRegression\n",
    "model = LinearRegression()\n",
    "model.fit(X_train_scaled, y_train_scaled)"
   ]
  },
  {
   "cell_type": "code",
   "execution_count": 51,
   "metadata": {},
   "outputs": [
    {
     "data": {
      "image/png": "[encoded data removed]",
      "text/plain": [
       "<Figure size 432x288 with 1 Axes>"
      ]
     },
     "metadata": {
      "needs_background": "light"
     },
     "output_type": "display_data"
    }
   ],
   "source": [
    "predictions = model.predict(X_test_scaled)\n",
    "model.fit(X_train_scaled, y_train_scaled)\n",
    "plt.scatter(model.predict(X_train_scaled), model.predict(X_train_scaled) - y_train_scaled, c=\"blue\", label=\"Training Data\")\n",
    "plt.scatter(model.predict(X_test_scaled), model.predict(X_test_scaled) - y_test_scaled, c=\"orange\", label=\"Testing Data\")\n",
    "plt.legend()\n",
    "plt.hlines(y=0, xmin=y_test_scaled.min(), xmax=y_test_scaled.max())\n",
    "plt.title(\"Residual Plot\")\n",
    "plt.show()"
   ]
  },
  {
   "cell_type": "code",
   "execution_count": null,
   "metadata": {},
   "outputs": [],
   "source": []
  }
 ],
 "metadata": {
  "kernelspec": {
   "display_name": "Python [conda env:tf]",
   "language": "python",
   "name": "conda-env-tf-py"
  },
  "language_info": {
   "codemirror_mode": {
    "name": "ipython",
    "version": 3
   },
   "file_extension": ".py",
   "mimetype": "text/x-python",
   "name": "python",
   "nbconvert_exporter": "python",
   "pygments_lexer": "ipython3",
   "version": "3.7.9"
  }
 },
 "nbformat": 4,
 "nbformat_minor": 4
}
