{
 "cells": [
  {
   "cell_type": "code",
   "execution_count": 54,
   "metadata": {},
   "outputs": [],
   "source": [
    "from sklearn import tree\n",
    "import pandas as pd\n",
    "import os\n",
    "import matplotlib.pyplot as plt\n",
    "import numpy as np\n",
    "from sklearn.metrics import plot_confusion_matrix"
   ]
  },
  {
   "cell_type": "code",
   "execution_count": 2,
   "metadata": {},
   "outputs": [
    {
     "data": {
      "text/html": [
       "<div>\n",
       "<style scoped>\n",
       "    .dataframe tbody tr th:only-of-type {\n",
       "        vertical-align: middle;\n",
       "    }\n",
       "\n",
       "    .dataframe tbody tr th {\n",
       "        vertical-align: top;\n",
       "    }\n",
       "\n",
       "    .dataframe thead th {\n",
       "        text-align: right;\n",
       "    }\n",
       "</style>\n",
       "<table border=\"1\" class=\"dataframe\">\n",
       "  <thead>\n",
       "    <tr style=\"text-align: right;\">\n",
       "      <th></th>\n",
       "      <th>id</th>\n",
       "      <th>age</th>\n",
       "      <th>bp</th>\n",
       "      <th>sg</th>\n",
       "      <th>al</th>\n",
       "      <th>su</th>\n",
       "      <th>rbc</th>\n",
       "      <th>pc</th>\n",
       "      <th>pcc</th>\n",
       "      <th>ba</th>\n",
       "      <th>...</th>\n",
       "      <th>pcv</th>\n",
       "      <th>wc</th>\n",
       "      <th>rc</th>\n",
       "      <th>htn</th>\n",
       "      <th>dm</th>\n",
       "      <th>cad</th>\n",
       "      <th>appet</th>\n",
       "      <th>pe</th>\n",
       "      <th>ane</th>\n",
       "      <th>classification</th>\n",
       "    </tr>\n",
       "  </thead>\n",
       "  <tbody>\n",
       "    <tr>\n",
       "      <th>0</th>\n",
       "      <td>0</td>\n",
       "      <td>48.0</td>\n",
       "      <td>80.0</td>\n",
       "      <td>1.020</td>\n",
       "      <td>1.0</td>\n",
       "      <td>0.0</td>\n",
       "      <td>NaN</td>\n",
       "      <td>normal</td>\n",
       "      <td>notpresent</td>\n",
       "      <td>notpresent</td>\n",
       "      <td>...</td>\n",
       "      <td>44</td>\n",
       "      <td>7800</td>\n",
       "      <td>5.2</td>\n",
       "      <td>yes</td>\n",
       "      <td>yes</td>\n",
       "      <td>no</td>\n",
       "      <td>good</td>\n",
       "      <td>no</td>\n",
       "      <td>no</td>\n",
       "      <td>ckd</td>\n",
       "    </tr>\n",
       "    <tr>\n",
       "      <th>1</th>\n",
       "      <td>1</td>\n",
       "      <td>7.0</td>\n",
       "      <td>50.0</td>\n",
       "      <td>1.020</td>\n",
       "      <td>4.0</td>\n",
       "      <td>0.0</td>\n",
       "      <td>NaN</td>\n",
       "      <td>normal</td>\n",
       "      <td>notpresent</td>\n",
       "      <td>notpresent</td>\n",
       "      <td>...</td>\n",
       "      <td>38</td>\n",
       "      <td>6000</td>\n",
       "      <td>NaN</td>\n",
       "      <td>no</td>\n",
       "      <td>no</td>\n",
       "      <td>no</td>\n",
       "      <td>good</td>\n",
       "      <td>no</td>\n",
       "      <td>no</td>\n",
       "      <td>ckd</td>\n",
       "    </tr>\n",
       "    <tr>\n",
       "      <th>2</th>\n",
       "      <td>2</td>\n",
       "      <td>62.0</td>\n",
       "      <td>80.0</td>\n",
       "      <td>1.010</td>\n",
       "      <td>2.0</td>\n",
       "      <td>3.0</td>\n",
       "      <td>normal</td>\n",
       "      <td>normal</td>\n",
       "      <td>notpresent</td>\n",
       "      <td>notpresent</td>\n",
       "      <td>...</td>\n",
       "      <td>31</td>\n",
       "      <td>7500</td>\n",
       "      <td>NaN</td>\n",
       "      <td>no</td>\n",
       "      <td>yes</td>\n",
       "      <td>no</td>\n",
       "      <td>poor</td>\n",
       "      <td>no</td>\n",
       "      <td>yes</td>\n",
       "      <td>ckd</td>\n",
       "    </tr>\n",
       "    <tr>\n",
       "      <th>3</th>\n",
       "      <td>3</td>\n",
       "      <td>48.0</td>\n",
       "      <td>70.0</td>\n",
       "      <td>1.005</td>\n",
       "      <td>4.0</td>\n",
       "      <td>0.0</td>\n",
       "      <td>normal</td>\n",
       "      <td>abnormal</td>\n",
       "      <td>present</td>\n",
       "      <td>notpresent</td>\n",
       "      <td>...</td>\n",
       "      <td>32</td>\n",
       "      <td>6700</td>\n",
       "      <td>3.9</td>\n",
       "      <td>yes</td>\n",
       "      <td>no</td>\n",
       "      <td>no</td>\n",
       "      <td>poor</td>\n",
       "      <td>yes</td>\n",
       "      <td>yes</td>\n",
       "      <td>ckd</td>\n",
       "    </tr>\n",
       "    <tr>\n",
       "      <th>4</th>\n",
       "      <td>4</td>\n",
       "      <td>51.0</td>\n",
       "      <td>80.0</td>\n",
       "      <td>1.010</td>\n",
       "      <td>2.0</td>\n",
       "      <td>0.0</td>\n",
       "      <td>normal</td>\n",
       "      <td>normal</td>\n",
       "      <td>notpresent</td>\n",
       "      <td>notpresent</td>\n",
       "      <td>...</td>\n",
       "      <td>35</td>\n",
       "      <td>7300</td>\n",
       "      <td>4.6</td>\n",
       "      <td>no</td>\n",
       "      <td>no</td>\n",
       "      <td>no</td>\n",
       "      <td>good</td>\n",
       "      <td>no</td>\n",
       "      <td>no</td>\n",
       "      <td>ckd</td>\n",
       "    </tr>\n",
       "  </tbody>\n",
       "</table>\n",
       "<p>5 rows × 26 columns</p>\n",
       "</div>"
      ],
      "text/plain": [
       "   id   age    bp     sg   al   su     rbc        pc         pcc          ba  \\\n",
       "0   0  48.0  80.0  1.020  1.0  0.0     NaN    normal  notpresent  notpresent   \n",
       "1   1   7.0  50.0  1.020  4.0  0.0     NaN    normal  notpresent  notpresent   \n",
       "2   2  62.0  80.0  1.010  2.0  3.0  normal    normal  notpresent  notpresent   \n",
       "3   3  48.0  70.0  1.005  4.0  0.0  normal  abnormal     present  notpresent   \n",
       "4   4  51.0  80.0  1.010  2.0  0.0  normal    normal  notpresent  notpresent   \n",
       "\n",
       "   ...  pcv    wc   rc  htn   dm  cad appet   pe  ane classification  \n",
       "0  ...   44  7800  5.2  yes  yes   no  good   no   no            ckd  \n",
       "1  ...   38  6000  NaN   no   no   no  good   no   no            ckd  \n",
       "2  ...   31  7500  NaN   no  yes   no  poor   no  yes            ckd  \n",
       "3  ...   32  6700  3.9  yes   no   no  poor  yes  yes            ckd  \n",
       "4  ...   35  7300  4.6   no   no   no  good   no   no            ckd  \n",
       "\n",
       "[5 rows x 26 columns]"
      ]
     },
     "execution_count": 2,
     "metadata": {},
     "output_type": "execute_result"
    }
   ],
   "source": [
    "df = pd.read_csv(os.path.join(\"data/KidneyData.csv\"))\n",
    "df.head()"
   ]
  },
  {
   "cell_type": "code",
   "execution_count": 3,
   "metadata": {},
   "outputs": [],
   "source": [
    "df = df.dropna(how='any')"
   ]
  },
  {
   "cell_type": "markdown",
   "metadata": {},
   "source": [
    "# Preprocessing of Data"
   ]
  },
  {
   "cell_type": "code",
   "execution_count": 56,
   "metadata": {},
   "outputs": [
    {
     "data": {
      "text/html": [
       "<div>\n",
       "<style scoped>\n",
       "    .dataframe tbody tr th:only-of-type {\n",
       "        vertical-align: middle;\n",
       "    }\n",
       "\n",
       "    .dataframe tbody tr th {\n",
       "        vertical-align: top;\n",
       "    }\n",
       "\n",
       "    .dataframe thead th {\n",
       "        text-align: right;\n",
       "    }\n",
       "</style>\n",
       "<table border=\"1\" class=\"dataframe\">\n",
       "  <thead>\n",
       "    <tr style=\"text-align: right;\">\n",
       "      <th></th>\n",
       "      <th>no</th>\n",
       "      <th>yes</th>\n",
       "    </tr>\n",
       "  </thead>\n",
       "  <tbody>\n",
       "    <tr>\n",
       "      <th>3</th>\n",
       "      <td>1</td>\n",
       "      <td>0</td>\n",
       "    </tr>\n",
       "    <tr>\n",
       "      <th>9</th>\n",
       "      <td>1</td>\n",
       "      <td>0</td>\n",
       "    </tr>\n",
       "    <tr>\n",
       "      <th>11</th>\n",
       "      <td>1</td>\n",
       "      <td>0</td>\n",
       "    </tr>\n",
       "    <tr>\n",
       "      <th>14</th>\n",
       "      <td>0</td>\n",
       "      <td>1</td>\n",
       "    </tr>\n",
       "    <tr>\n",
       "      <th>20</th>\n",
       "      <td>0</td>\n",
       "      <td>1</td>\n",
       "    </tr>\n",
       "  </tbody>\n",
       "</table>\n",
       "</div>"
      ],
      "text/plain": [
       "    no  yes\n",
       "3    1    0\n",
       "9    1    0\n",
       "11   1    0\n",
       "14   0    1\n",
       "20   0    1"
      ]
     },
     "execution_count": 56,
     "metadata": {},
     "output_type": "execute_result"
    }
   ],
   "source": [
    "data = df[\"cad\"].copy()\n",
    "\n",
    "data_binary_encoded = pd.get_dummies(data)\n",
    "data_binary_encoded.head()"
   ]
  },
  {
   "cell_type": "code",
   "execution_count": 57,
   "metadata": {},
   "outputs": [],
   "source": [
    "target = data_binary_encoded[\"no\"]\n",
    "target_names = [\"negative\", \"positive\"]"
   ]
  },
  {
   "cell_type": "code",
   "execution_count": 58,
   "metadata": {},
   "outputs": [],
   "source": [
    "kidney_data = df.drop(columns=[\"cad\", \"id\"], axis=1)"
   ]
  },
  {
   "cell_type": "code",
   "execution_count": 61,
   "metadata": {},
   "outputs": [
    {
     "data": {
      "text/html": [
       "<div>\n",
       "<style scoped>\n",
       "    .dataframe tbody tr th:only-of-type {\n",
       "        vertical-align: middle;\n",
       "    }\n",
       "\n",
       "    .dataframe tbody tr th {\n",
       "        vertical-align: top;\n",
       "    }\n",
       "\n",
       "    .dataframe thead th {\n",
       "        text-align: right;\n",
       "    }\n",
       "</style>\n",
       "<table border=\"1\" class=\"dataframe\">\n",
       "  <thead>\n",
       "    <tr style=\"text-align: right;\">\n",
       "      <th></th>\n",
       "      <th>age</th>\n",
       "      <th>bp</th>\n",
       "      <th>sg</th>\n",
       "      <th>al</th>\n",
       "      <th>su</th>\n",
       "      <th>bgr</th>\n",
       "      <th>bu</th>\n",
       "      <th>sc</th>\n",
       "      <th>sod</th>\n",
       "      <th>pot</th>\n",
       "      <th>...</th>\n",
       "      <th>dm_no</th>\n",
       "      <th>dm_yes</th>\n",
       "      <th>appet_good</th>\n",
       "      <th>appet_poor</th>\n",
       "      <th>pe_no</th>\n",
       "      <th>pe_yes</th>\n",
       "      <th>ane_no</th>\n",
       "      <th>ane_yes</th>\n",
       "      <th>classification_ckd</th>\n",
       "      <th>classification_notckd</th>\n",
       "    </tr>\n",
       "  </thead>\n",
       "  <tbody>\n",
       "    <tr>\n",
       "      <th>3</th>\n",
       "      <td>48.0</td>\n",
       "      <td>70.0</td>\n",
       "      <td>1.005</td>\n",
       "      <td>4.0</td>\n",
       "      <td>0.0</td>\n",
       "      <td>117.0</td>\n",
       "      <td>56.0</td>\n",
       "      <td>3.8</td>\n",
       "      <td>111.0</td>\n",
       "      <td>2.5</td>\n",
       "      <td>...</td>\n",
       "      <td>1</td>\n",
       "      <td>0</td>\n",
       "      <td>0</td>\n",
       "      <td>1</td>\n",
       "      <td>0</td>\n",
       "      <td>1</td>\n",
       "      <td>0</td>\n",
       "      <td>1</td>\n",
       "      <td>1</td>\n",
       "      <td>0</td>\n",
       "    </tr>\n",
       "    <tr>\n",
       "      <th>9</th>\n",
       "      <td>53.0</td>\n",
       "      <td>90.0</td>\n",
       "      <td>1.020</td>\n",
       "      <td>2.0</td>\n",
       "      <td>0.0</td>\n",
       "      <td>70.0</td>\n",
       "      <td>107.0</td>\n",
       "      <td>7.2</td>\n",
       "      <td>114.0</td>\n",
       "      <td>3.7</td>\n",
       "      <td>...</td>\n",
       "      <td>0</td>\n",
       "      <td>1</td>\n",
       "      <td>0</td>\n",
       "      <td>1</td>\n",
       "      <td>1</td>\n",
       "      <td>0</td>\n",
       "      <td>0</td>\n",
       "      <td>1</td>\n",
       "      <td>1</td>\n",
       "      <td>0</td>\n",
       "    </tr>\n",
       "    <tr>\n",
       "      <th>11</th>\n",
       "      <td>63.0</td>\n",
       "      <td>70.0</td>\n",
       "      <td>1.010</td>\n",
       "      <td>3.0</td>\n",
       "      <td>0.0</td>\n",
       "      <td>380.0</td>\n",
       "      <td>60.0</td>\n",
       "      <td>2.7</td>\n",
       "      <td>131.0</td>\n",
       "      <td>4.2</td>\n",
       "      <td>...</td>\n",
       "      <td>0</td>\n",
       "      <td>1</td>\n",
       "      <td>0</td>\n",
       "      <td>1</td>\n",
       "      <td>0</td>\n",
       "      <td>1</td>\n",
       "      <td>1</td>\n",
       "      <td>0</td>\n",
       "      <td>1</td>\n",
       "      <td>0</td>\n",
       "    </tr>\n",
       "    <tr>\n",
       "      <th>14</th>\n",
       "      <td>68.0</td>\n",
       "      <td>80.0</td>\n",
       "      <td>1.010</td>\n",
       "      <td>3.0</td>\n",
       "      <td>2.0</td>\n",
       "      <td>157.0</td>\n",
       "      <td>90.0</td>\n",
       "      <td>4.1</td>\n",
       "      <td>130.0</td>\n",
       "      <td>6.4</td>\n",
       "      <td>...</td>\n",
       "      <td>0</td>\n",
       "      <td>1</td>\n",
       "      <td>0</td>\n",
       "      <td>1</td>\n",
       "      <td>0</td>\n",
       "      <td>1</td>\n",
       "      <td>1</td>\n",
       "      <td>0</td>\n",
       "      <td>1</td>\n",
       "      <td>0</td>\n",
       "    </tr>\n",
       "    <tr>\n",
       "      <th>20</th>\n",
       "      <td>61.0</td>\n",
       "      <td>80.0</td>\n",
       "      <td>1.015</td>\n",
       "      <td>2.0</td>\n",
       "      <td>0.0</td>\n",
       "      <td>173.0</td>\n",
       "      <td>148.0</td>\n",
       "      <td>3.9</td>\n",
       "      <td>135.0</td>\n",
       "      <td>5.2</td>\n",
       "      <td>...</td>\n",
       "      <td>0</td>\n",
       "      <td>1</td>\n",
       "      <td>0</td>\n",
       "      <td>1</td>\n",
       "      <td>0</td>\n",
       "      <td>1</td>\n",
       "      <td>0</td>\n",
       "      <td>1</td>\n",
       "      <td>1</td>\n",
       "      <td>0</td>\n",
       "    </tr>\n",
       "  </tbody>\n",
       "</table>\n",
       "<p>5 rows × 34 columns</p>\n",
       "</div>"
      ],
      "text/plain": [
       "     age    bp     sg   al   su    bgr     bu   sc    sod  pot  ...  dm_no  \\\n",
       "3   48.0  70.0  1.005  4.0  0.0  117.0   56.0  3.8  111.0  2.5  ...      1   \n",
       "9   53.0  90.0  1.020  2.0  0.0   70.0  107.0  7.2  114.0  3.7  ...      0   \n",
       "11  63.0  70.0  1.010  3.0  0.0  380.0   60.0  2.7  131.0  4.2  ...      0   \n",
       "14  68.0  80.0  1.010  3.0  2.0  157.0   90.0  4.1  130.0  6.4  ...      0   \n",
       "20  61.0  80.0  1.015  2.0  0.0  173.0  148.0  3.9  135.0  5.2  ...      0   \n",
       "\n",
       "   dm_yes appet_good appet_poor  pe_no  pe_yes  ane_no  ane_yes  \\\n",
       "3       0          0          1      0       1       0        1   \n",
       "9       1          0          1      1       0       0        1   \n",
       "11      1          0          1      0       1       1        0   \n",
       "14      1          0          1      0       1       1        0   \n",
       "20      1          0          1      0       1       0        1   \n",
       "\n",
       "    classification_ckd  classification_notckd  \n",
       "3                    1                      0  \n",
       "9                    1                      0  \n",
       "11                   1                      0  \n",
       "14                   1                      0  \n",
       "20                   1                      0  \n",
       "\n",
       "[5 rows x 34 columns]"
      ]
     },
     "execution_count": 61,
     "metadata": {},
     "output_type": "execute_result"
    }
   ],
   "source": [
    "data1 = kidney_data.copy()\n",
    "\n",
    "data_binary_encoded1 = pd.get_dummies(data1, columns=[\"rbc\", \"pc\", \"pcc\", \"ba\", \"htn\", \"dm\", \"appet\", \"pe\", \"ane\", \"classification\"])\n",
    "data_binary_encoded1.head()"
   ]
  },
  {
   "cell_type": "code",
   "execution_count": 62,
   "metadata": {},
   "outputs": [
    {
     "data": {
      "text/plain": [
       "Index(['age', 'bp', 'sg', 'al', 'su', 'bgr', 'bu', 'sc', 'sod', 'pot', 'hemo',\n",
       "       'pcv', 'wc', 'rc', 'rbc_abnormal', 'rbc_normal', 'pc_abnormal',\n",
       "       'pc_normal', 'pcc_notpresent', 'pcc_present', 'ba_notpresent',\n",
       "       'ba_present', 'htn_no', 'htn_yes', 'dm_no', 'dm_yes', 'appet_good',\n",
       "       'appet_poor', 'pe_no', 'pe_yes', 'ane_no', 'ane_yes',\n",
       "       'classification_ckd', 'classification_notckd'],\n",
       "      dtype='object')"
      ]
     },
     "execution_count": 62,
     "metadata": {},
     "output_type": "execute_result"
    }
   ],
   "source": [
    "data_binary_encoded1.columns"
   ]
  },
  {
   "cell_type": "code",
   "execution_count": 63,
   "metadata": {},
   "outputs": [
    {
     "data": {
      "text/plain": [
       "Index(['age', 'bp', 'sg', 'al', 'su', 'bgr', 'bu', 'sc', 'sod', 'pot', 'hemo',\n",
       "       'pcv', 'wc', 'rc', 'rbc_abnormal', 'pc_abnormal', 'pcc_notpresent',\n",
       "       'ba_notpresent', 'htn_no', 'dm_no', 'appet_good', 'pe_no', 'ane_no',\n",
       "       'classification_ckd'],\n",
       "      dtype='object')"
      ]
     },
     "execution_count": 63,
     "metadata": {},
     "output_type": "execute_result"
    }
   ],
   "source": [
    "kidney_binary_data = data_binary_encoded1.drop(columns=['rbc_normal', 'pc_normal', 'pcc_present', 'ba_present', 'htn_yes', 'dm_yes','appet_poor', 'pe_yes', 'ane_yes', 'classification_notckd'])\n",
    "kidney_binary_data.columns"
   ]
  },
  {
   "cell_type": "code",
   "execution_count": 64,
   "metadata": {},
   "outputs": [],
   "source": [
    "feature_names = kidney_binary_data.columns"
   ]
  },
  {
   "cell_type": "code",
   "execution_count": 65,
   "metadata": {},
   "outputs": [],
   "source": [
    "from sklearn.model_selection import train_test_split\n",
    "X_train, X_test, y_train, y_test = train_test_split(kidney_binary_data, target, random_state=630)"
   ]
  },
  {
   "cell_type": "markdown",
   "metadata": {},
   "source": [
    "# Decision Tree:"
   ]
  },
  {
   "cell_type": "code",
   "execution_count": 188,
   "metadata": {},
   "outputs": [
    {
     "data": {
      "text/plain": [
       "90.0"
      ]
     },
     "execution_count": 188,
     "metadata": {},
     "output_type": "execute_result"
    }
   ],
   "source": [
    "clf = tree.DecisionTreeClassifier()\n",
    "clf = clf.fit(X_train, y_train)\n",
    "clf.score(X_test, y_test)\n",
    "DTA = round(clf.score(X_test, y_test)*100, 2)\n",
    "DTA"
   ]
  },
  {
   "cell_type": "code",
   "execution_count": 67,
   "metadata": {},
   "outputs": [
    {
     "name": "stdout",
     "output_type": "stream",
     "text": [
      "Decision Tree Confusion matrix, without normalization\n",
      "[[ 1  3]\n",
      " [ 2 34]]\n",
      "Decision Tree Normalized confusion matrix\n",
      "[[0.25 0.75]\n",
      " [0.06 0.94]]\n"
     ]
    },
    {
     "data": {
      "image/png": "[encoded data removed]",
      "text/plain": [
       "<Figure size 432x288 with 2 Axes>"
      ]
     },
     "metadata": {
      "needs_background": "light"
     },
     "output_type": "display_data"
    },
    {
     "data": {
      "image/png": "[encoded data removed]",
      "text/plain": [
       "<Figure size 432x288 with 2 Axes>"
      ]
     },
     "metadata": {
      "needs_background": "light"
     },
     "output_type": "display_data"
    }
   ],
   "source": [
    "np.set_printoptions(precision=2)\n",
    "\n",
    "# Plot non-normalized confusion matrix\n",
    "titles_options = [(\"Decision Tree Confusion matrix, without normalization\", None),\n",
    "                  (\"Decision Tree Normalized confusion matrix\", 'true')]\n",
    "for title, normalize in titles_options:\n",
    "    disp = plot_confusion_matrix(clf, X_test, y_test,\n",
    "                                 display_labels=target_names,\n",
    "                                 cmap=plt.cm.Blues,\n",
    "                                 normalize=normalize)\n",
    "    disp.ax_.set_title(title)\n",
    "\n",
    "    print(title)\n",
    "    print(disp.confusion_matrix)\n",
    "\n",
    "plt.show()"
   ]
  },
  {
   "cell_type": "markdown",
   "metadata": {},
   "source": [
    "# Random Forest:"
   ]
  },
  {
   "cell_type": "code",
   "execution_count": 187,
   "metadata": {},
   "outputs": [
    {
     "name": "stderr",
     "output_type": "stream",
     "text": [
      "C:\\Users\\Travis Young\\anaconda3\\envs\\tf\\lib\\site-packages\\ipykernel_launcher.py:3: DataConversionWarning: A column-vector y was passed when a 1d array was expected. Please change the shape of y to (n_samples,), for example using ravel().\n",
      "  This is separate from the ipykernel package so we can avoid doing imports until\n"
     ]
    },
    {
     "data": {
      "text/plain": [
       "90.0"
      ]
     },
     "execution_count": 187,
     "metadata": {},
     "output_type": "execute_result"
    }
   ],
   "source": [
    "from sklearn.ensemble import RandomForestClassifier\n",
    "rf = RandomForestClassifier(n_estimators=500)\n",
    "rf = rf.fit(X_train, y_train)\n",
    "rf.score(X_test, y_test)\n",
    "RFA = round(rf.score(X_test, y_test)*100, 2)\n",
    "RFA"
   ]
  },
  {
   "cell_type": "code",
   "execution_count": 78,
   "metadata": {},
   "outputs": [
    {
     "data": {
      "text/plain": [
       "[(0.09661229293264592, 'age'),\n",
       " (0.09113461448536335, 'sc'),\n",
       " (0.08279491410728082, 'bgr'),\n",
       " (0.07667723329630502, 'rc'),\n",
       " (0.07007045684240301, 'bu'),\n",
       " (0.06683970845353135, 'pot'),\n",
       " (0.05853865212516145, 'hemo'),\n",
       " (0.05416986142494776, 'bp'),\n",
       " (0.05358453718819018, 'pcc_notpresent'),\n",
       " (0.04994828987325459, 'pcv'),\n",
       " (0.04488274007817149, 'sod'),\n",
       " (0.03735509725845356, 'al'),\n",
       " (0.033984872257650255, 'su'),\n",
       " (0.03275650087872048, 'wc'),\n",
       " (0.02827014409195723, 'sg'),\n",
       " (0.027871424347069244, 'ba_notpresent'),\n",
       " (0.020101978141841826, 'rbc_abnormal'),\n",
       " (0.01956429995510524, 'pe_no'),\n",
       " (0.017119286298793078, 'htn_no'),\n",
       " (0.010325048898240293, 'dm_no'),\n",
       " (0.010013028616134852, 'pc_abnormal'),\n",
       " (0.007346570090503163, 'appet_good'),\n",
       " (0.0072291255536215265, 'ane_no'),\n",
       " (0.0028093228046543635, 'classification_ckd')]"
      ]
     },
     "execution_count": 78,
     "metadata": {},
     "output_type": "execute_result"
    }
   ],
   "source": [
    "sorted(zip(rf.feature_importances_, feature_names), reverse=True)"
   ]
  },
  {
   "cell_type": "code",
   "execution_count": 79,
   "metadata": {},
   "outputs": [
    {
     "name": "stdout",
     "output_type": "stream",
     "text": [
      "Random Forrest Confusion matrix, without normalization\n",
      "[[ 0  4]\n",
      " [ 0 36]]\n",
      "Random Forrest Normalized confusion matrix\n",
      "[[0. 1.]\n",
      " [0. 1.]]\n"
     ]
    },
    {
     "data": {
      "image/png": "[encoded data removed]",
      "text/plain": [
       "<Figure size 432x288 with 2 Axes>"
      ]
     },
     "metadata": {
      "needs_background": "light"
     },
     "output_type": "display_data"
    },
    {
     "data": {
      "image/png": "[encoded data removed]",
      "text/plain": [
       "<Figure size 432x288 with 2 Axes>"
      ]
     },
     "metadata": {
      "needs_background": "light"
     },
     "output_type": "display_data"
    }
   ],
   "source": [
    "np.set_printoptions(precision=2)\n",
    "\n",
    "# Plot non-normalized confusion matrix\n",
    "titles_options = [(\"Random Forrest Confusion matrix, without normalization\", None),\n",
    "                  (\"Random Forrest Normalized confusion matrix\", 'true')]\n",
    "for title, normalize in titles_options:\n",
    "    disp = plot_confusion_matrix(rf, X_test, y_test,\n",
    "                                 display_labels=target_names,\n",
    "                                 cmap=plt.cm.Blues,\n",
    "                                 normalize=normalize)\n",
    "    disp.ax_.set_title(title)\n",
    "\n",
    "    print(title)\n",
    "    print(disp.confusion_matrix)\n",
    "\n",
    "plt.show()"
   ]
  },
  {
   "cell_type": "code",
   "execution_count": null,
   "metadata": {},
   "outputs": [],
   "source": []
  },
  {
   "cell_type": "markdown",
   "metadata": {},
   "source": [
    "# Logistic Regression"
   ]
  },
  {
   "cell_type": "code",
   "execution_count": 80,
   "metadata": {},
   "outputs": [
    {
     "data": {
      "text/plain": [
       "LogisticRegression()"
      ]
     },
     "execution_count": 80,
     "metadata": {},
     "output_type": "execute_result"
    }
   ],
   "source": [
    "from sklearn.linear_model import LogisticRegression\n",
    "classifier = LogisticRegression()\n",
    "classifier"
   ]
  },
  {
   "cell_type": "code",
   "execution_count": 81,
   "metadata": {},
   "outputs": [
    {
     "name": "stderr",
     "output_type": "stream",
     "text": [
      "C:\\Users\\Travis Young\\anaconda3\\envs\\tf\\lib\\site-packages\\sklearn\\linear_model\\_logistic.py:764: ConvergenceWarning: lbfgs failed to converge (status=1):\n",
      "STOP: TOTAL NO. of ITERATIONS REACHED LIMIT.\n",
      "\n",
      "Increase the number of iterations (max_iter) or scale the data as shown in:\n",
      "    https://scikit-learn.org/stable/modules/preprocessing.html\n",
      "Please also refer to the documentation for alternative solver options:\n",
      "    https://scikit-learn.org/stable/modules/linear_model.html#logistic-regression\n",
      "  extra_warning_msg=_LOGISTIC_SOLVER_CONVERGENCE_MSG)\n"
     ]
    },
    {
     "data": {
      "text/plain": [
       "LogisticRegression()"
      ]
     },
     "execution_count": 81,
     "metadata": {},
     "output_type": "execute_result"
    }
   ],
   "source": [
    "classifier.fit(X_train, y_train)"
   ]
  },
  {
   "cell_type": "code",
   "execution_count": 161,
   "metadata": {},
   "outputs": [
    {
     "name": "stdout",
     "output_type": "stream",
     "text": [
      "Training Data Score: 0.9152542372881356\n",
      "Testing Data Score: 0.95\n"
     ]
    },
    {
     "data": {
      "text/plain": [
       "95.0"
      ]
     },
     "execution_count": 161,
     "metadata": {},
     "output_type": "execute_result"
    }
   ],
   "source": [
    "LRA = round((classifier.score(X_test, y_test) * 100),2)\n",
    "print(f\"Training Data Score: {classifier.score(X_train, y_train)}\")\n",
    "print(f\"Testing Data Score: {classifier.score(X_test, y_test)}\")\n",
    "LRA"
   ]
  },
  {
   "cell_type": "code",
   "execution_count": 83,
   "metadata": {},
   "outputs": [
    {
     "name": "stdout",
     "output_type": "stream",
     "text": [
      "First 10 Predictions:   [1 1 1 1 1 1 1 1 1 1]\n",
      "First 10 Actual labels: [1, 1, 1, 1, 1, 1, 1, 1, 1, 1]\n"
     ]
    }
   ],
   "source": [
    "predictions = classifier.predict(X_test)\n",
    "print(f\"First 10 Predictions:   {predictions[:10]}\")\n",
    "print(f\"First 10 Actual labels: {y_test[:10].tolist()}\")"
   ]
  },
  {
   "cell_type": "code",
   "execution_count": 84,
   "metadata": {},
   "outputs": [
    {
     "data": {
      "text/html": [
       "<div>\n",
       "<style scoped>\n",
       "    .dataframe tbody tr th:only-of-type {\n",
       "        vertical-align: middle;\n",
       "    }\n",
       "\n",
       "    .dataframe tbody tr th {\n",
       "        vertical-align: top;\n",
       "    }\n",
       "\n",
       "    .dataframe thead th {\n",
       "        text-align: right;\n",
       "    }\n",
       "</style>\n",
       "<table border=\"1\" class=\"dataframe\">\n",
       "  <thead>\n",
       "    <tr style=\"text-align: right;\">\n",
       "      <th></th>\n",
       "      <th>Prediction</th>\n",
       "      <th>Actual</th>\n",
       "    </tr>\n",
       "  </thead>\n",
       "  <tbody>\n",
       "    <tr>\n",
       "      <th>0</th>\n",
       "      <td>1</td>\n",
       "      <td>1</td>\n",
       "    </tr>\n",
       "    <tr>\n",
       "      <th>1</th>\n",
       "      <td>1</td>\n",
       "      <td>1</td>\n",
       "    </tr>\n",
       "    <tr>\n",
       "      <th>2</th>\n",
       "      <td>1</td>\n",
       "      <td>1</td>\n",
       "    </tr>\n",
       "    <tr>\n",
       "      <th>3</th>\n",
       "      <td>1</td>\n",
       "      <td>1</td>\n",
       "    </tr>\n",
       "    <tr>\n",
       "      <th>4</th>\n",
       "      <td>1</td>\n",
       "      <td>1</td>\n",
       "    </tr>\n",
       "    <tr>\n",
       "      <th>5</th>\n",
       "      <td>1</td>\n",
       "      <td>1</td>\n",
       "    </tr>\n",
       "    <tr>\n",
       "      <th>6</th>\n",
       "      <td>1</td>\n",
       "      <td>1</td>\n",
       "    </tr>\n",
       "    <tr>\n",
       "      <th>7</th>\n",
       "      <td>1</td>\n",
       "      <td>1</td>\n",
       "    </tr>\n",
       "    <tr>\n",
       "      <th>8</th>\n",
       "      <td>1</td>\n",
       "      <td>1</td>\n",
       "    </tr>\n",
       "    <tr>\n",
       "      <th>9</th>\n",
       "      <td>1</td>\n",
       "      <td>1</td>\n",
       "    </tr>\n",
       "    <tr>\n",
       "      <th>10</th>\n",
       "      <td>1</td>\n",
       "      <td>1</td>\n",
       "    </tr>\n",
       "    <tr>\n",
       "      <th>11</th>\n",
       "      <td>1</td>\n",
       "      <td>1</td>\n",
       "    </tr>\n",
       "    <tr>\n",
       "      <th>12</th>\n",
       "      <td>1</td>\n",
       "      <td>1</td>\n",
       "    </tr>\n",
       "    <tr>\n",
       "      <th>13</th>\n",
       "      <td>1</td>\n",
       "      <td>1</td>\n",
       "    </tr>\n",
       "    <tr>\n",
       "      <th>14</th>\n",
       "      <td>1</td>\n",
       "      <td>1</td>\n",
       "    </tr>\n",
       "    <tr>\n",
       "      <th>15</th>\n",
       "      <td>1</td>\n",
       "      <td>1</td>\n",
       "    </tr>\n",
       "    <tr>\n",
       "      <th>16</th>\n",
       "      <td>1</td>\n",
       "      <td>1</td>\n",
       "    </tr>\n",
       "    <tr>\n",
       "      <th>17</th>\n",
       "      <td>1</td>\n",
       "      <td>1</td>\n",
       "    </tr>\n",
       "    <tr>\n",
       "      <th>18</th>\n",
       "      <td>1</td>\n",
       "      <td>1</td>\n",
       "    </tr>\n",
       "    <tr>\n",
       "      <th>19</th>\n",
       "      <td>1</td>\n",
       "      <td>1</td>\n",
       "    </tr>\n",
       "    <tr>\n",
       "      <th>20</th>\n",
       "      <td>1</td>\n",
       "      <td>1</td>\n",
       "    </tr>\n",
       "    <tr>\n",
       "      <th>21</th>\n",
       "      <td>1</td>\n",
       "      <td>0</td>\n",
       "    </tr>\n",
       "    <tr>\n",
       "      <th>22</th>\n",
       "      <td>0</td>\n",
       "      <td>1</td>\n",
       "    </tr>\n",
       "    <tr>\n",
       "      <th>23</th>\n",
       "      <td>1</td>\n",
       "      <td>1</td>\n",
       "    </tr>\n",
       "    <tr>\n",
       "      <th>24</th>\n",
       "      <td>1</td>\n",
       "      <td>1</td>\n",
       "    </tr>\n",
       "    <tr>\n",
       "      <th>25</th>\n",
       "      <td>1</td>\n",
       "      <td>0</td>\n",
       "    </tr>\n",
       "    <tr>\n",
       "      <th>26</th>\n",
       "      <td>1</td>\n",
       "      <td>1</td>\n",
       "    </tr>\n",
       "    <tr>\n",
       "      <th>27</th>\n",
       "      <td>1</td>\n",
       "      <td>1</td>\n",
       "    </tr>\n",
       "    <tr>\n",
       "      <th>28</th>\n",
       "      <td>1</td>\n",
       "      <td>0</td>\n",
       "    </tr>\n",
       "    <tr>\n",
       "      <th>29</th>\n",
       "      <td>1</td>\n",
       "      <td>1</td>\n",
       "    </tr>\n",
       "    <tr>\n",
       "      <th>30</th>\n",
       "      <td>1</td>\n",
       "      <td>1</td>\n",
       "    </tr>\n",
       "    <tr>\n",
       "      <th>31</th>\n",
       "      <td>1</td>\n",
       "      <td>1</td>\n",
       "    </tr>\n",
       "    <tr>\n",
       "      <th>32</th>\n",
       "      <td>1</td>\n",
       "      <td>1</td>\n",
       "    </tr>\n",
       "    <tr>\n",
       "      <th>33</th>\n",
       "      <td>1</td>\n",
       "      <td>1</td>\n",
       "    </tr>\n",
       "    <tr>\n",
       "      <th>34</th>\n",
       "      <td>1</td>\n",
       "      <td>1</td>\n",
       "    </tr>\n",
       "    <tr>\n",
       "      <th>35</th>\n",
       "      <td>1</td>\n",
       "      <td>1</td>\n",
       "    </tr>\n",
       "    <tr>\n",
       "      <th>36</th>\n",
       "      <td>0</td>\n",
       "      <td>0</td>\n",
       "    </tr>\n",
       "    <tr>\n",
       "      <th>37</th>\n",
       "      <td>1</td>\n",
       "      <td>1</td>\n",
       "    </tr>\n",
       "    <tr>\n",
       "      <th>38</th>\n",
       "      <td>1</td>\n",
       "      <td>1</td>\n",
       "    </tr>\n",
       "    <tr>\n",
       "      <th>39</th>\n",
       "      <td>1</td>\n",
       "      <td>1</td>\n",
       "    </tr>\n",
       "  </tbody>\n",
       "</table>\n",
       "</div>"
      ],
      "text/plain": [
       "    Prediction  Actual\n",
       "0            1       1\n",
       "1            1       1\n",
       "2            1       1\n",
       "3            1       1\n",
       "4            1       1\n",
       "5            1       1\n",
       "6            1       1\n",
       "7            1       1\n",
       "8            1       1\n",
       "9            1       1\n",
       "10           1       1\n",
       "11           1       1\n",
       "12           1       1\n",
       "13           1       1\n",
       "14           1       1\n",
       "15           1       1\n",
       "16           1       1\n",
       "17           1       1\n",
       "18           1       1\n",
       "19           1       1\n",
       "20           1       1\n",
       "21           1       0\n",
       "22           0       1\n",
       "23           1       1\n",
       "24           1       1\n",
       "25           1       0\n",
       "26           1       1\n",
       "27           1       1\n",
       "28           1       0\n",
       "29           1       1\n",
       "30           1       1\n",
       "31           1       1\n",
       "32           1       1\n",
       "33           1       1\n",
       "34           1       1\n",
       "35           1       1\n",
       "36           0       0\n",
       "37           1       1\n",
       "38           1       1\n",
       "39           1       1"
      ]
     },
     "execution_count": 84,
     "metadata": {},
     "output_type": "execute_result"
    }
   ],
   "source": [
    "pd.DataFrame({\"Prediction\": predictions, \"Actual\": y_test}).reset_index(drop=True)"
   ]
  },
  {
   "cell_type": "code",
   "execution_count": 85,
   "metadata": {},
   "outputs": [
    {
     "name": "stdout",
     "output_type": "stream",
     "text": [
      "Logistic Regression Confusion matrix, without normalization\n",
      "[[ 1  3]\n",
      " [ 1 35]]\n",
      "Logistic Regression Normalized confusion matrix\n",
      "[[0.25 0.75]\n",
      " [0.03 0.97]]\n"
     ]
    },
    {
     "data": {
      "image/png": "[encoded data removed]",
      "text/plain": [
       "<Figure size 432x288 with 2 Axes>"
      ]
     },
     "metadata": {
      "needs_background": "light"
     },
     "output_type": "display_data"
    },
    {
     "data": {
      "image/png": "[encoded data removed]",
      "text/plain": [
       "<Figure size 432x288 with 2 Axes>"
      ]
     },
     "metadata": {
      "needs_background": "light"
     },
     "output_type": "display_data"
    }
   ],
   "source": [
    "np.set_printoptions(precision=2)\n",
    "\n",
    "# Plot non-normalized confusion matrix\n",
    "titles_options = [(\"Logistic Regression Confusion matrix, without normalization\", None),\n",
    "                  (\"Logistic Regression Normalized confusion matrix\", 'true')]\n",
    "for title, normalize in titles_options:\n",
    "    disp = plot_confusion_matrix(classifier, X_test, y_test,\n",
    "                                 display_labels=target_names,\n",
    "                                 cmap=plt.cm.Blues,\n",
    "                                 normalize=normalize)\n",
    "    disp.ax_.set_title(title)\n",
    "\n",
    "    print(title)\n",
    "    print(disp.confusion_matrix)\n",
    "\n",
    "plt.show()"
   ]
  },
  {
   "cell_type": "markdown",
   "metadata": {},
   "source": [
    "# SVC"
   ]
  },
  {
   "cell_type": "code",
   "execution_count": 163,
   "metadata": {},
   "outputs": [
    {
     "name": "stderr",
     "output_type": "stream",
     "text": [
      "C:\\Users\\Travis Young\\anaconda3\\envs\\tf\\lib\\site-packages\\sklearn\\utils\\validation.py:72: DataConversionWarning: A column-vector y was passed when a 1d array was expected. Please change the shape of y to (n_samples, ), for example using ravel().\n",
      "  return f(**kwargs)\n",
      "C:\\Users\\Travis Young\\anaconda3\\envs\\tf\\lib\\site-packages\\sklearn\\utils\\validation.py:72: DataConversionWarning: A column-vector y was passed when a 1d array was expected. Please change the shape of y to (n_samples, ), for example using ravel().\n",
      "  return f(**kwargs)\n"
     ]
    }
   ],
   "source": [
    "from sklearn.svm import SVC \n",
    "model = SVC(kernel='linear')\n",
    "model.fit(X_train, y_train)\n",
    "svc = model.fit(X_train, y_train)"
   ]
  },
  {
   "cell_type": "code",
   "execution_count": 164,
   "metadata": {},
   "outputs": [
    {
     "name": "stdout",
     "output_type": "stream",
     "text": [
      "Test Acc: 0.900\n"
     ]
    },
    {
     "data": {
      "text/plain": [
       "90.0"
      ]
     },
     "execution_count": 164,
     "metadata": {},
     "output_type": "execute_result"
    }
   ],
   "source": [
    "print('Test Acc: %.3f' % model.score(X_test, y_test))\n",
    "SVMA = round((svc.score(X_test, y_test) * 100),2)\n",
    "SVMA"
   ]
  },
  {
   "cell_type": "code",
   "execution_count": 93,
   "metadata": {},
   "outputs": [
    {
     "name": "stdout",
     "output_type": "stream",
     "text": [
      "              precision    recall  f1-score   support\n",
      "\n",
      "    negative       1.00      0.25      0.40         4\n",
      "    positive       0.92      1.00      0.96        36\n",
      "\n",
      "    accuracy                           0.93        40\n",
      "   macro avg       0.96      0.62      0.68        40\n",
      "weighted avg       0.93      0.93      0.90        40\n",
      "\n"
     ]
    }
   ],
   "source": [
    "from sklearn.metrics import classification_report\n",
    "predictions = model.predict(X_test)\n",
    "print(classification_report(y_test, predictions,\n",
    "                            target_names=target_names))"
   ]
  },
  {
   "cell_type": "code",
   "execution_count": 94,
   "metadata": {},
   "outputs": [
    {
     "name": "stdout",
     "output_type": "stream",
     "text": [
      "Support Vector Machine Confusion matrix, without normalization\n",
      "[[ 1  3]\n",
      " [ 0 36]]\n",
      "Support Vector Machine Normalized confusion matrix\n",
      "[[0.25 0.75]\n",
      " [0.   1.  ]]\n"
     ]
    },
    {
     "data": {
      "image/png": "[encoded data removed]",
      "text/plain": [
       "<Figure size 432x288 with 2 Axes>"
      ]
     },
     "metadata": {
      "needs_background": "light"
     },
     "output_type": "display_data"
    },
    {
     "data": {
      "image/png": "[encoded data removed]",
      "text/plain": [
       "<Figure size 432x288 with 2 Axes>"
      ]
     },
     "metadata": {
      "needs_background": "light"
     },
     "output_type": "display_data"
    }
   ],
   "source": [
    "np.set_printoptions(precision=2)\n",
    "\n",
    "# Plot non-normalized confusion matrix\n",
    "titles_options = [(\"Support Vector Machine Confusion matrix, without normalization\", None),\n",
    "                  (\"Support Vector Machine Normalized confusion matrix\", 'true')]\n",
    "for title, normalize in titles_options:\n",
    "    disp = plot_confusion_matrix(svc, X_test, y_test,\n",
    "                                 display_labels=target_names,\n",
    "                                 cmap=plt.cm.Blues,\n",
    "                                 normalize=normalize)\n",
    "    disp.ax_.set_title(title)\n",
    "\n",
    "    print(title)\n",
    "    print(disp.confusion_matrix)\n",
    "\n",
    "plt.show()"
   ]
  },
  {
   "cell_type": "markdown",
   "metadata": {},
   "source": [
    "# One-Hot Encoding"
   ]
  },
  {
   "cell_type": "code",
   "execution_count": 24,
   "metadata": {},
   "outputs": [
    {
     "data": {
      "text/plain": [
       "array([[1., 0.],\n",
       "       [1., 0.],\n",
       "       [1., 0.],\n",
       "       [1., 0.],\n",
       "       [0., 1.],\n",
       "       [1., 0.],\n",
       "       [1., 0.],\n",
       "       [1., 0.],\n",
       "       [1., 0.],\n",
       "       [1., 0.],\n",
       "       [1., 0.],\n",
       "       [0., 1.],\n",
       "       [1., 0.],\n",
       "       [1., 0.],\n",
       "       [1., 0.],\n",
       "       [1., 0.],\n",
       "       [0., 1.],\n",
       "       [1., 0.],\n",
       "       [0., 1.],\n",
       "       [1., 0.],\n",
       "       [1., 0.],\n",
       "       [1., 0.],\n",
       "       [1., 0.],\n",
       "       [0., 1.],\n",
       "       [0., 1.],\n",
       "       [0., 1.],\n",
       "       [0., 1.],\n",
       "       [0., 1.],\n",
       "       [1., 0.],\n",
       "       [0., 1.],\n",
       "       [1., 0.],\n",
       "       [1., 0.],\n",
       "       [1., 0.],\n",
       "       [1., 0.],\n",
       "       [1., 0.],\n",
       "       [0., 1.],\n",
       "       [0., 1.],\n",
       "       [1., 0.],\n",
       "       [0., 1.],\n",
       "       [1., 0.],\n",
       "       [0., 1.],\n",
       "       [0., 1.],\n",
       "       [1., 0.],\n",
       "       [1., 0.],\n",
       "       [1., 0.],\n",
       "       [0., 1.],\n",
       "       [1., 0.],\n",
       "       [1., 0.],\n",
       "       [1., 0.],\n",
       "       [1., 0.],\n",
       "       [1., 0.],\n",
       "       [1., 0.],\n",
       "       [1., 0.],\n",
       "       [0., 1.],\n",
       "       [1., 0.],\n",
       "       [1., 0.],\n",
       "       [1., 0.],\n",
       "       [1., 0.],\n",
       "       [0., 1.],\n",
       "       [1., 0.],\n",
       "       [1., 0.],\n",
       "       [1., 0.],\n",
       "       [1., 0.],\n",
       "       [1., 0.],\n",
       "       [1., 0.],\n",
       "       [0., 1.],\n",
       "       [0., 1.],\n",
       "       [1., 0.],\n",
       "       [1., 0.],\n",
       "       [1., 0.],\n",
       "       [1., 0.],\n",
       "       [1., 0.],\n",
       "       [0., 1.],\n",
       "       [1., 0.],\n",
       "       [0., 1.],\n",
       "       [0., 1.],\n",
       "       [1., 0.],\n",
       "       [1., 0.],\n",
       "       [1., 0.],\n",
       "       [1., 0.],\n",
       "       [1., 0.],\n",
       "       [1., 0.],\n",
       "       [1., 0.],\n",
       "       [1., 0.],\n",
       "       [0., 1.],\n",
       "       [1., 0.],\n",
       "       [1., 0.],\n",
       "       [1., 0.],\n",
       "       [1., 0.],\n",
       "       [1., 0.],\n",
       "       [1., 0.],\n",
       "       [1., 0.],\n",
       "       [1., 0.],\n",
       "       [1., 0.],\n",
       "       [1., 0.],\n",
       "       [1., 0.],\n",
       "       [1., 0.],\n",
       "       [1., 0.],\n",
       "       [0., 1.],\n",
       "       [1., 0.],\n",
       "       [0., 1.],\n",
       "       [1., 0.],\n",
       "       [0., 1.],\n",
       "       [0., 1.],\n",
       "       [0., 1.],\n",
       "       [1., 0.],\n",
       "       [1., 0.],\n",
       "       [1., 0.],\n",
       "       [1., 0.],\n",
       "       [0., 1.],\n",
       "       [1., 0.],\n",
       "       [1., 0.],\n",
       "       [0., 1.],\n",
       "       [1., 0.],\n",
       "       [1., 0.],\n",
       "       [1., 0.],\n",
       "       [1., 0.],\n",
       "       [1., 0.]], dtype=float32)"
      ]
     },
     "execution_count": 24,
     "metadata": {},
     "output_type": "execute_result"
    }
   ],
   "source": [
    "from tensorflow.keras.utils import to_categorical\n",
    "\n",
    "y_train_categorical = to_categorical(y_train)\n",
    "y_test_categorical = to_categorical(y_test)\n",
    "y_train_categorical"
   ]
  },
  {
   "cell_type": "markdown",
   "metadata": {},
   "source": [
    "# Scaling the Data:"
   ]
  },
  {
   "cell_type": "code",
   "execution_count": 95,
   "metadata": {},
   "outputs": [],
   "source": [
    "from sklearn.preprocessing import StandardScaler\n",
    "\n",
    "X_scaler = StandardScaler().fit(X_train)"
   ]
  },
  {
   "cell_type": "code",
   "execution_count": 96,
   "metadata": {},
   "outputs": [],
   "source": [
    "X_train_scaled = X_scaler.transform(X_train)\n",
    "X_test_scaled = X_scaler.transform(X_test)"
   ]
  },
  {
   "cell_type": "markdown",
   "metadata": {},
   "source": [
    "# K Nearest Neighbor"
   ]
  },
  {
   "cell_type": "code",
   "execution_count": 108,
   "metadata": {},
   "outputs": [],
   "source": [
    "from sklearn.neighbors import KNeighborsClassifier"
   ]
  },
  {
   "cell_type": "code",
   "execution_count": 111,
   "metadata": {},
   "outputs": [
    {
     "name": "stdout",
     "output_type": "stream",
     "text": [
      "k: 1, Train/Test Score: 1.000/0.875\n",
      "k: 3, Train/Test Score: 0.949/0.950\n",
      "k: 5, Train/Test Score: 0.949/0.925\n",
      "k: 7, Train/Test Score: 0.949/0.875\n",
      "k: 9, Train/Test Score: 0.932/0.900\n",
      "k: 11, Train/Test Score: 0.932/0.900\n",
      "k: 13, Train/Test Score: 0.941/0.900\n",
      "k: 15, Train/Test Score: 0.941/0.900\n",
      "k: 17, Train/Test Score: 0.941/0.900\n",
      "k: 19, Train/Test Score: 0.941/0.900\n",
      "k: 21, Train/Test Score: 0.941/0.900\n",
      "k: 23, Train/Test Score: 0.941/0.900\n",
      "k: 25, Train/Test Score: 0.941/0.900\n",
      "k: 27, Train/Test Score: 0.941/0.900\n",
      "k: 29, Train/Test Score: 0.941/0.900\n"
     ]
    },
    {
     "data": {
      "image/png": "[encoded data removed]",
      "text/plain": [
       "<Figure size 432x288 with 1 Axes>"
      ]
     },
     "metadata": {
      "needs_background": "light"
     },
     "output_type": "display_data"
    }
   ],
   "source": [
    "train_scores = []\n",
    "test_scores = []\n",
    "for k in range(1, 30, 2):\n",
    "    knn = KNeighborsClassifier(n_neighbors=k)\n",
    "    knn.fit(X_train_scaled, y_train)\n",
    "    train_score = knn.score(X_train_scaled, y_train)\n",
    "    test_score = knn.score(X_test_scaled, y_test)\n",
    "    train_scores.append(train_score)\n",
    "    test_scores.append(test_score)\n",
    "    print(f\"k: {k}, Train/Test Score: {train_score:.3f}/{test_score:.3f}\")\n",
    "    \n",
    "    \n",
    "plt.plot(range(1, 30, 2), train_scores, marker='o')\n",
    "plt.plot(range(1, 30, 2), test_scores, marker=\"x\")\n",
    "plt.xlabel(\"k neighbors\")\n",
    "plt.ylabel(\"Testing accuracy Score\")\n",
    "plt.show()"
   ]
  },
  {
   "cell_type": "code",
   "execution_count": 165,
   "metadata": {},
   "outputs": [
    {
     "name": "stdout",
     "output_type": "stream",
     "text": [
      "k=13 Test Acc: 0.925\n",
      "k=9 Test Acc: 0.925\n"
     ]
    },
    {
     "name": "stderr",
     "output_type": "stream",
     "text": [
      "C:\\Users\\Travis Young\\anaconda3\\envs\\tf\\lib\\site-packages\\ipykernel_launcher.py:2: DataConversionWarning: A column-vector y was passed when a 1d array was expected. Please change the shape of y to (n_samples, ), for example using ravel().\n",
      "  \n"
     ]
    },
    {
     "data": {
      "text/plain": [
       "92.5"
      ]
     },
     "execution_count": 165,
     "metadata": {},
     "output_type": "execute_result"
    }
   ],
   "source": [
    "knn = KNeighborsClassifier(n_neighbors=9)\n",
    "knn.fit(X_train_scaled, y_train)\n",
    "print('k=13 Test Acc: %.3f' % knn.score(X_test_scaled, y_test))\n",
    "print('k=9 Test Acc: %.3f' % knn.score(X_test_scaled, y_test))\n",
    "KNNA = round((knn.score(X_test_scaled, y_test) * 100),2)\n",
    "KNNA"
   ]
  },
  {
   "cell_type": "markdown",
   "metadata": {},
   "source": [
    "# Neural Network"
   ]
  },
  {
   "cell_type": "code",
   "execution_count": 169,
   "metadata": {},
   "outputs": [],
   "source": [
    "from tensorflow.keras.utils import to_categorical"
   ]
  },
  {
   "cell_type": "code",
   "execution_count": 170,
   "metadata": {},
   "outputs": [],
   "source": [
    "y_train_categorical = to_categorical(y_train)\n",
    "y_test_categorical = to_categorical(y_test)"
   ]
  },
  {
   "cell_type": "code",
   "execution_count": 171,
   "metadata": {},
   "outputs": [],
   "source": [
    "from tensorflow.keras.models import Sequential\n",
    "from tensorflow.keras.layers import Dense\n",
    "\n",
    "model = Sequential()\n",
    "model.add(Dense(units=48, activation='relu', input_dim=24))\n",
    "model.add(Dense(units=2, activation='softmax'))"
   ]
  },
  {
   "cell_type": "code",
   "execution_count": 172,
   "metadata": {},
   "outputs": [
    {
     "name": "stdout",
     "output_type": "stream",
     "text": [
      "Model: \"sequential_11\"\n",
      "_________________________________________________________________\n",
      "Layer (type)                 Output Shape              Param #   \n",
      "=================================================================\n",
      "dense_27 (Dense)             (None, 48)                1200      \n",
      "_________________________________________________________________\n",
      "dense_28 (Dense)             (None, 2)                 98        \n",
      "=================================================================\n",
      "Total params: 1,298\n",
      "Trainable params: 1,298\n",
      "Non-trainable params: 0\n",
      "_________________________________________________________________\n"
     ]
    }
   ],
   "source": [
    "model.summary()"
   ]
  },
  {
   "cell_type": "code",
   "execution_count": 173,
   "metadata": {},
   "outputs": [],
   "source": [
    "model.compile(optimizer='adam',\n",
    "              loss='categorical_crossentropy',\n",
    "              metrics=['accuracy'])"
   ]
  },
  {
   "cell_type": "code",
   "execution_count": 174,
   "metadata": {},
   "outputs": [
    {
     "name": "stdout",
     "output_type": "stream",
     "text": [
      "Train on 118 samples\n",
      "Epoch 1/100\n",
      "118/118 - 0s - loss: 0.5398 - accuracy: 0.8220\n",
      "Epoch 2/100\n",
      "118/118 - 0s - loss: 0.4648 - accuracy: 0.8644\n",
      "Epoch 3/100\n",
      "118/118 - 0s - loss: 0.4052 - accuracy: 0.8983\n",
      "Epoch 4/100\n",
      "118/118 - 0s - loss: 0.3548 - accuracy: 0.8983\n",
      "Epoch 5/100\n",
      "118/118 - 0s - loss: 0.3125 - accuracy: 0.9153\n",
      "Epoch 6/100\n",
      "118/118 - 0s - loss: 0.2771 - accuracy: 0.9237\n",
      "Epoch 7/100\n",
      "118/118 - 0s - loss: 0.2496 - accuracy: 0.9237\n",
      "Epoch 8/100\n",
      "118/118 - 0s - loss: 0.2264 - accuracy: 0.9322\n",
      "Epoch 9/100\n",
      "118/118 - 0s - loss: 0.2090 - accuracy: 0.9407\n",
      "Epoch 10/100\n",
      "118/118 - 0s - loss: 0.1926 - accuracy: 0.9322\n",
      "Epoch 11/100\n",
      "118/118 - 0s - loss: 0.1795 - accuracy: 0.9322\n",
      "Epoch 12/100\n",
      "118/118 - 0s - loss: 0.1691 - accuracy: 0.9322\n",
      "Epoch 13/100\n",
      "118/118 - 0s - loss: 0.1600 - accuracy: 0.9492\n",
      "Epoch 14/100\n",
      "118/118 - 0s - loss: 0.1513 - accuracy: 0.9492\n",
      "Epoch 15/100\n",
      "118/118 - 0s - loss: 0.1436 - accuracy: 0.9492\n",
      "Epoch 16/100\n",
      "118/118 - 0s - loss: 0.1377 - accuracy: 0.9492\n",
      "Epoch 17/100\n",
      "118/118 - 0s - loss: 0.1322 - accuracy: 0.9661\n",
      "Epoch 18/100\n",
      "118/118 - 0s - loss: 0.1270 - accuracy: 0.9661\n",
      "Epoch 19/100\n",
      "118/118 - 0s - loss: 0.1217 - accuracy: 0.9661\n",
      "Epoch 20/100\n",
      "118/118 - 0s - loss: 0.1172 - accuracy: 0.9746\n",
      "Epoch 21/100\n",
      "118/118 - 0s - loss: 0.1127 - accuracy: 0.9661\n",
      "Epoch 22/100\n",
      "118/118 - 0s - loss: 0.1089 - accuracy: 0.9661\n",
      "Epoch 23/100\n",
      "118/118 - 0s - loss: 0.1054 - accuracy: 0.9661\n",
      "Epoch 24/100\n",
      "118/118 - 0s - loss: 0.1016 - accuracy: 0.9661\n",
      "Epoch 25/100\n",
      "118/118 - 0s - loss: 0.0983 - accuracy: 0.9661\n",
      "Epoch 26/100\n",
      "118/118 - 0s - loss: 0.0954 - accuracy: 0.9661\n",
      "Epoch 27/100\n",
      "118/118 - 0s - loss: 0.0926 - accuracy: 0.9661\n",
      "Epoch 28/100\n",
      "118/118 - 0s - loss: 0.0900 - accuracy: 0.9831\n",
      "Epoch 29/100\n",
      "118/118 - 0s - loss: 0.0877 - accuracy: 0.9746\n",
      "Epoch 30/100\n",
      "118/118 - 0s - loss: 0.0859 - accuracy: 0.9831\n",
      "Epoch 31/100\n",
      "118/118 - 0s - loss: 0.0826 - accuracy: 1.0000\n",
      "Epoch 32/100\n",
      "118/118 - 0s - loss: 0.0807 - accuracy: 1.0000\n",
      "Epoch 33/100\n",
      "118/118 - 0s - loss: 0.0781 - accuracy: 1.0000\n",
      "Epoch 34/100\n",
      "118/118 - 0s - loss: 0.0768 - accuracy: 1.0000\n",
      "Epoch 35/100\n",
      "118/118 - 0s - loss: 0.0748 - accuracy: 0.9915\n",
      "Epoch 36/100\n",
      "118/118 - 0s - loss: 0.0729 - accuracy: 0.9915\n",
      "Epoch 37/100\n",
      "118/118 - 0s - loss: 0.0708 - accuracy: 1.0000\n",
      "Epoch 38/100\n",
      "118/118 - 0s - loss: 0.0691 - accuracy: 1.0000\n",
      "Epoch 39/100\n",
      "118/118 - 0s - loss: 0.0674 - accuracy: 1.0000\n",
      "Epoch 40/100\n",
      "118/118 - 0s - loss: 0.0658 - accuracy: 1.0000\n",
      "Epoch 41/100\n",
      "118/118 - 0s - loss: 0.0643 - accuracy: 1.0000\n",
      "Epoch 42/100\n",
      "118/118 - 0s - loss: 0.0631 - accuracy: 1.0000\n",
      "Epoch 43/100\n",
      "118/118 - 0s - loss: 0.0615 - accuracy: 1.0000\n",
      "Epoch 44/100\n",
      "118/118 - 0s - loss: 0.0597 - accuracy: 1.0000\n",
      "Epoch 45/100\n",
      "118/118 - 0s - loss: 0.0586 - accuracy: 1.0000\n",
      "Epoch 46/100\n",
      "118/118 - 0s - loss: 0.0569 - accuracy: 1.0000\n",
      "Epoch 47/100\n",
      "118/118 - 0s - loss: 0.0556 - accuracy: 1.0000\n",
      "Epoch 48/100\n",
      "118/118 - 0s - loss: 0.0540 - accuracy: 1.0000\n",
      "Epoch 49/100\n",
      "118/118 - 0s - loss: 0.0529 - accuracy: 1.0000\n",
      "Epoch 50/100\n",
      "118/118 - 0s - loss: 0.0520 - accuracy: 1.0000\n",
      "Epoch 51/100\n",
      "118/118 - 0s - loss: 0.0507 - accuracy: 1.0000\n",
      "Epoch 52/100\n",
      "118/118 - 0s - loss: 0.0495 - accuracy: 1.0000\n",
      "Epoch 53/100\n",
      "118/118 - 0s - loss: 0.0483 - accuracy: 1.0000\n",
      "Epoch 54/100\n",
      "118/118 - 0s - loss: 0.0475 - accuracy: 1.0000\n",
      "Epoch 55/100\n",
      "118/118 - 0s - loss: 0.0464 - accuracy: 1.0000\n",
      "Epoch 56/100\n",
      "118/118 - 0s - loss: 0.0453 - accuracy: 1.0000\n",
      "Epoch 57/100\n",
      "118/118 - 0s - loss: 0.0442 - accuracy: 1.0000\n",
      "Epoch 58/100\n",
      "118/118 - 0s - loss: 0.0436 - accuracy: 1.0000\n",
      "Epoch 59/100\n",
      "118/118 - 0s - loss: 0.0425 - accuracy: 1.0000\n",
      "Epoch 60/100\n",
      "118/118 - 0s - loss: 0.0415 - accuracy: 1.0000\n",
      "Epoch 61/100\n",
      "118/118 - 0s - loss: 0.0408 - accuracy: 1.0000\n",
      "Epoch 62/100\n",
      "118/118 - 0s - loss: 0.0397 - accuracy: 1.0000\n",
      "Epoch 63/100\n",
      "118/118 - 0s - loss: 0.0391 - accuracy: 1.0000\n",
      "Epoch 64/100\n",
      "118/118 - 0s - loss: 0.0383 - accuracy: 1.0000\n",
      "Epoch 65/100\n",
      "118/118 - 0s - loss: 0.0374 - accuracy: 1.0000\n",
      "Epoch 66/100\n",
      "118/118 - 0s - loss: 0.0367 - accuracy: 1.0000\n",
      "Epoch 67/100\n",
      "118/118 - 0s - loss: 0.0360 - accuracy: 1.0000\n",
      "Epoch 68/100\n",
      "118/118 - 0s - loss: 0.0352 - accuracy: 1.0000\n",
      "Epoch 69/100\n",
      "118/118 - 0s - loss: 0.0344 - accuracy: 1.0000\n",
      "Epoch 70/100\n",
      "118/118 - 0s - loss: 0.0337 - accuracy: 1.0000\n",
      "Epoch 71/100\n",
      "118/118 - 0s - loss: 0.0331 - accuracy: 1.0000\n",
      "Epoch 72/100\n",
      "118/118 - 0s - loss: 0.0323 - accuracy: 1.0000\n",
      "Epoch 73/100\n",
      "118/118 - 0s - loss: 0.0316 - accuracy: 1.0000\n",
      "Epoch 74/100\n",
      "118/118 - 0s - loss: 0.0313 - accuracy: 1.0000\n",
      "Epoch 75/100\n",
      "118/118 - 0s - loss: 0.0304 - accuracy: 1.0000\n",
      "Epoch 76/100\n",
      "118/118 - 0s - loss: 0.0298 - accuracy: 1.0000\n",
      "Epoch 77/100\n",
      "118/118 - 0s - loss: 0.0292 - accuracy: 1.0000\n",
      "Epoch 78/100\n",
      "118/118 - 0s - loss: 0.0286 - accuracy: 1.0000\n",
      "Epoch 79/100\n",
      "118/118 - 0s - loss: 0.0282 - accuracy: 1.0000\n",
      "Epoch 80/100\n",
      "118/118 - 0s - loss: 0.0275 - accuracy: 1.0000\n",
      "Epoch 81/100\n",
      "118/118 - 0s - loss: 0.0270 - accuracy: 1.0000\n",
      "Epoch 82/100\n",
      "118/118 - 0s - loss: 0.0264 - accuracy: 1.0000\n",
      "Epoch 83/100\n",
      "118/118 - 0s - loss: 0.0258 - accuracy: 1.0000\n",
      "Epoch 84/100\n",
      "118/118 - 0s - loss: 0.0252 - accuracy: 1.0000\n",
      "Epoch 85/100\n",
      "118/118 - 0s - loss: 0.0248 - accuracy: 1.0000\n",
      "Epoch 86/100\n",
      "118/118 - 0s - loss: 0.0243 - accuracy: 1.0000\n",
      "Epoch 87/100\n",
      "118/118 - 0s - loss: 0.0237 - accuracy: 1.0000\n",
      "Epoch 88/100\n",
      "118/118 - 0s - loss: 0.0233 - accuracy: 1.0000\n",
      "Epoch 89/100\n",
      "118/118 - 0s - loss: 0.0231 - accuracy: 1.0000\n",
      "Epoch 90/100\n",
      "118/118 - 0s - loss: 0.0224 - accuracy: 1.0000\n",
      "Epoch 91/100\n",
      "118/118 - 0s - loss: 0.0220 - accuracy: 1.0000\n",
      "Epoch 92/100\n",
      "118/118 - 0s - loss: 0.0215 - accuracy: 1.0000\n",
      "Epoch 93/100\n",
      "118/118 - 0s - loss: 0.0212 - accuracy: 1.0000\n",
      "Epoch 94/100\n",
      "118/118 - 0s - loss: 0.0208 - accuracy: 1.0000\n",
      "Epoch 95/100\n",
      "118/118 - 0s - loss: 0.0203 - accuracy: 1.0000\n",
      "Epoch 96/100\n",
      "118/118 - 0s - loss: 0.0199 - accuracy: 1.0000\n",
      "Epoch 97/100\n",
      "118/118 - 0s - loss: 0.0197 - accuracy: 1.0000\n",
      "Epoch 98/100\n",
      "118/118 - 0s - loss: 0.0192 - accuracy: 1.0000\n",
      "Epoch 99/100\n",
      "118/118 - 0s - loss: 0.0188 - accuracy: 1.0000\n",
      "Epoch 100/100\n",
      "118/118 - 0s - loss: 0.0185 - accuracy: 1.0000\n"
     ]
    },
    {
     "data": {
      "text/plain": [
       "<tensorflow.python.keras.callbacks.History at 0x20124b8ba88>"
      ]
     },
     "execution_count": 174,
     "metadata": {},
     "output_type": "execute_result"
    }
   ],
   "source": [
    "model.fit(\n",
    "    X_train_scaled,\n",
    "    y_train_categorical,\n",
    "    epochs=100,\n",
    "    shuffle=True,\n",
    "    verbose=2\n",
    ")"
   ]
  },
  {
   "cell_type": "code",
   "execution_count": 175,
   "metadata": {},
   "outputs": [
    {
     "name": "stdout",
     "output_type": "stream",
     "text": [
      "40/40 - 0s - loss: 0.1756 - accuracy: 0.9500\n",
      "Normal Neural Network - Loss: 0.1756237506866455, Accuracy: 0.949999988079071\n"
     ]
    },
    {
     "data": {
      "text/plain": [
       "95.0"
      ]
     },
     "execution_count": 175,
     "metadata": {},
     "output_type": "execute_result"
    }
   ],
   "source": [
    "# Neural Network Acct\n",
    "model_loss, model_accuracy = model.evaluate(\n",
    "    X_test_scaled, y_test_categorical, verbose=2)\n",
    "print(\n",
    "    f\"Normal Neural Network - Loss: {model_loss}, Accuracy: {model_accuracy}\")\n",
    "\n",
    "NNA = round((model_accuracy * 100),2)\n",
    "NNA"
   ]
  },
  {
   "cell_type": "markdown",
   "metadata": {},
   "source": [
    "# Deep Learning"
   ]
  },
  {
   "cell_type": "code",
   "execution_count": 176,
   "metadata": {},
   "outputs": [],
   "source": [
    "deep_model = Sequential()\n",
    "deep_model.add(Dense(units=48, activation='relu', input_dim=24))\n",
    "deep_model.add(Dense(units=24, activation='relu'))\n",
    "deep_model.add(Dense(units=2, activation='softmax'))"
   ]
  },
  {
   "cell_type": "code",
   "execution_count": 177,
   "metadata": {},
   "outputs": [
    {
     "name": "stdout",
     "output_type": "stream",
     "text": [
      "Train on 118 samples\n",
      "Epoch 1/100\n",
      "118/118 - 0s - loss: 0.7927 - accuracy: 0.2966\n",
      "Epoch 2/100\n",
      "118/118 - 0s - loss: 0.7054 - accuracy: 0.5508\n",
      "Epoch 3/100\n",
      "118/118 - 0s - loss: 0.6309 - accuracy: 0.8220\n",
      "Epoch 4/100\n",
      "118/118 - 0s - loss: 0.5655 - accuracy: 0.8644\n",
      "Epoch 5/100\n",
      "118/118 - 0s - loss: 0.5028 - accuracy: 0.8814\n",
      "Epoch 6/100\n",
      "118/118 - 0s - loss: 0.4435 - accuracy: 0.8983\n",
      "Epoch 7/100\n",
      "118/118 - 0s - loss: 0.3881 - accuracy: 0.9153\n",
      "Epoch 8/100\n",
      "118/118 - 0s - loss: 0.3392 - accuracy: 0.9237\n",
      "Epoch 9/100\n",
      "118/118 - 0s - loss: 0.2963 - accuracy: 0.9322\n",
      "Epoch 10/100\n",
      "118/118 - 0s - loss: 0.2586 - accuracy: 0.9237\n",
      "Epoch 11/100\n",
      "118/118 - 0s - loss: 0.2289 - accuracy: 0.9322\n",
      "Epoch 12/100\n",
      "118/118 - 0s - loss: 0.2058 - accuracy: 0.9407\n",
      "Epoch 13/100\n",
      "118/118 - 0s - loss: 0.1849 - accuracy: 0.9407\n",
      "Epoch 14/100\n",
      "118/118 - 0s - loss: 0.1677 - accuracy: 0.9492\n",
      "Epoch 15/100\n",
      "118/118 - 0s - loss: 0.1544 - accuracy: 0.9492\n",
      "Epoch 16/100\n",
      "118/118 - 0s - loss: 0.1432 - accuracy: 0.9661\n",
      "Epoch 17/100\n",
      "118/118 - 0s - loss: 0.1326 - accuracy: 0.9746\n",
      "Epoch 18/100\n",
      "118/118 - 0s - loss: 0.1238 - accuracy: 0.9661\n",
      "Epoch 19/100\n",
      "118/118 - 0s - loss: 0.1165 - accuracy: 0.9746\n",
      "Epoch 20/100\n",
      "118/118 - 0s - loss: 0.1093 - accuracy: 0.9831\n",
      "Epoch 21/100\n",
      "118/118 - 0s - loss: 0.1029 - accuracy: 0.9831\n",
      "Epoch 22/100\n",
      "118/118 - 0s - loss: 0.0971 - accuracy: 0.9831\n",
      "Epoch 23/100\n",
      "118/118 - 0s - loss: 0.0918 - accuracy: 0.9831\n",
      "Epoch 24/100\n",
      "118/118 - 0s - loss: 0.0874 - accuracy: 0.9915\n",
      "Epoch 25/100\n",
      "118/118 - 0s - loss: 0.0838 - accuracy: 0.9915\n",
      "Epoch 26/100\n",
      "118/118 - 0s - loss: 0.0783 - accuracy: 0.9915\n",
      "Epoch 27/100\n",
      "118/118 - 0s - loss: 0.0747 - accuracy: 0.9915\n",
      "Epoch 28/100\n",
      "118/118 - 0s - loss: 0.0719 - accuracy: 1.0000\n",
      "Epoch 29/100\n",
      "118/118 - 0s - loss: 0.0684 - accuracy: 1.0000\n",
      "Epoch 30/100\n",
      "118/118 - 0s - loss: 0.0654 - accuracy: 1.0000\n",
      "Epoch 31/100\n",
      "118/118 - 0s - loss: 0.0621 - accuracy: 1.0000\n",
      "Epoch 32/100\n",
      "118/118 - 0s - loss: 0.0596 - accuracy: 1.0000\n",
      "Epoch 33/100\n",
      "118/118 - 0s - loss: 0.0572 - accuracy: 1.0000\n",
      "Epoch 34/100\n",
      "118/118 - 0s - loss: 0.0542 - accuracy: 1.0000\n",
      "Epoch 35/100\n",
      "118/118 - 0s - loss: 0.0519 - accuracy: 1.0000\n",
      "Epoch 36/100\n",
      "118/118 - 0s - loss: 0.0497 - accuracy: 1.0000\n",
      "Epoch 37/100\n",
      "118/118 - 0s - loss: 0.0477 - accuracy: 1.0000\n",
      "Epoch 38/100\n",
      "118/118 - 0s - loss: 0.0458 - accuracy: 1.0000\n",
      "Epoch 39/100\n",
      "118/118 - 0s - loss: 0.0437 - accuracy: 1.0000\n",
      "Epoch 40/100\n",
      "118/118 - 0s - loss: 0.0421 - accuracy: 1.0000\n",
      "Epoch 41/100\n",
      "118/118 - 0s - loss: 0.0405 - accuracy: 1.0000\n",
      "Epoch 42/100\n",
      "118/118 - 0s - loss: 0.0388 - accuracy: 1.0000\n",
      "Epoch 43/100\n",
      "118/118 - 0s - loss: 0.0372 - accuracy: 1.0000\n",
      "Epoch 44/100\n",
      "118/118 - 0s - loss: 0.0355 - accuracy: 1.0000\n",
      "Epoch 45/100\n",
      "118/118 - 0s - loss: 0.0341 - accuracy: 1.0000\n",
      "Epoch 46/100\n",
      "118/118 - 0s - loss: 0.0326 - accuracy: 1.0000\n",
      "Epoch 47/100\n",
      "118/118 - 0s - loss: 0.0313 - accuracy: 1.0000\n",
      "Epoch 48/100\n",
      "118/118 - 0s - loss: 0.0303 - accuracy: 1.0000\n",
      "Epoch 49/100\n",
      "118/118 - 0s - loss: 0.0291 - accuracy: 1.0000\n",
      "Epoch 50/100\n",
      "118/118 - 0s - loss: 0.0277 - accuracy: 1.0000\n",
      "Epoch 51/100\n",
      "118/118 - 0s - loss: 0.0267 - accuracy: 1.0000\n",
      "Epoch 52/100\n",
      "118/118 - 0s - loss: 0.0257 - accuracy: 1.0000\n",
      "Epoch 53/100\n",
      "118/118 - 0s - loss: 0.0247 - accuracy: 1.0000\n",
      "Epoch 54/100\n",
      "118/118 - 0s - loss: 0.0239 - accuracy: 1.0000\n",
      "Epoch 55/100\n",
      "118/118 - 0s - loss: 0.0229 - accuracy: 1.0000\n",
      "Epoch 56/100\n",
      "118/118 - 0s - loss: 0.0224 - accuracy: 1.0000\n",
      "Epoch 57/100\n",
      "118/118 - 0s - loss: 0.0214 - accuracy: 1.0000\n",
      "Epoch 58/100\n",
      "118/118 - 0s - loss: 0.0209 - accuracy: 1.0000\n",
      "Epoch 59/100\n",
      "118/118 - 0s - loss: 0.0198 - accuracy: 1.0000\n",
      "Epoch 60/100\n",
      "118/118 - 0s - loss: 0.0189 - accuracy: 1.0000\n",
      "Epoch 61/100\n",
      "118/118 - 0s - loss: 0.0185 - accuracy: 1.0000\n",
      "Epoch 62/100\n",
      "118/118 - 0s - loss: 0.0178 - accuracy: 1.0000\n",
      "Epoch 63/100\n",
      "118/118 - 0s - loss: 0.0171 - accuracy: 1.0000\n",
      "Epoch 64/100\n",
      "118/118 - 0s - loss: 0.0165 - accuracy: 1.0000\n",
      "Epoch 65/100\n",
      "118/118 - 0s - loss: 0.0159 - accuracy: 1.0000\n",
      "Epoch 66/100\n",
      "118/118 - 0s - loss: 0.0152 - accuracy: 1.0000\n",
      "Epoch 67/100\n",
      "118/118 - 0s - loss: 0.0148 - accuracy: 1.0000\n",
      "Epoch 68/100\n",
      "118/118 - 0s - loss: 0.0143 - accuracy: 1.0000\n",
      "Epoch 69/100\n",
      "118/118 - 0s - loss: 0.0139 - accuracy: 1.0000\n",
      "Epoch 70/100\n",
      "118/118 - 0s - loss: 0.0132 - accuracy: 1.0000\n",
      "Epoch 71/100\n",
      "118/118 - 0s - loss: 0.0128 - accuracy: 1.0000\n",
      "Epoch 72/100\n",
      "118/118 - 0s - loss: 0.0125 - accuracy: 1.0000\n",
      "Epoch 73/100\n",
      "118/118 - 0s - loss: 0.0120 - accuracy: 1.0000\n",
      "Epoch 74/100\n",
      "118/118 - 0s - loss: 0.0116 - accuracy: 1.0000\n",
      "Epoch 75/100\n",
      "118/118 - 0s - loss: 0.0113 - accuracy: 1.0000\n",
      "Epoch 76/100\n",
      "118/118 - 0s - loss: 0.0109 - accuracy: 1.0000\n",
      "Epoch 77/100\n",
      "118/118 - 0s - loss: 0.0105 - accuracy: 1.0000\n",
      "Epoch 78/100\n",
      "118/118 - 0s - loss: 0.0101 - accuracy: 1.0000\n",
      "Epoch 79/100\n",
      "118/118 - 0s - loss: 0.0098 - accuracy: 1.0000\n",
      "Epoch 80/100\n",
      "118/118 - 0s - loss: 0.0095 - accuracy: 1.0000\n",
      "Epoch 81/100\n",
      "118/118 - 0s - loss: 0.0092 - accuracy: 1.0000\n",
      "Epoch 82/100\n",
      "118/118 - 0s - loss: 0.0089 - accuracy: 1.0000\n",
      "Epoch 83/100\n",
      "118/118 - 0s - loss: 0.0087 - accuracy: 1.0000\n",
      "Epoch 84/100\n",
      "118/118 - 0s - loss: 0.0084 - accuracy: 1.0000\n",
      "Epoch 85/100\n",
      "118/118 - 0s - loss: 0.0082 - accuracy: 1.0000\n",
      "Epoch 86/100\n",
      "118/118 - 0s - loss: 0.0079 - accuracy: 1.0000\n",
      "Epoch 87/100\n",
      "118/118 - 0s - loss: 0.0076 - accuracy: 1.0000\n",
      "Epoch 88/100\n",
      "118/118 - 0s - loss: 0.0074 - accuracy: 1.0000\n",
      "Epoch 89/100\n",
      "118/118 - 0s - loss: 0.0072 - accuracy: 1.0000\n",
      "Epoch 90/100\n",
      "118/118 - 0s - loss: 0.0070 - accuracy: 1.0000\n",
      "Epoch 91/100\n",
      "118/118 - 0s - loss: 0.0068 - accuracy: 1.0000\n",
      "Epoch 92/100\n",
      "118/118 - 0s - loss: 0.0066 - accuracy: 1.0000\n",
      "Epoch 93/100\n",
      "118/118 - 0s - loss: 0.0064 - accuracy: 1.0000\n",
      "Epoch 94/100\n",
      "118/118 - 0s - loss: 0.0062 - accuracy: 1.0000\n",
      "Epoch 95/100\n",
      "118/118 - 0s - loss: 0.0060 - accuracy: 1.0000\n",
      "Epoch 96/100\n",
      "118/118 - 0s - loss: 0.0059 - accuracy: 1.0000\n",
      "Epoch 97/100\n",
      "118/118 - 0s - loss: 0.0058 - accuracy: 1.0000\n",
      "Epoch 98/100\n",
      "118/118 - 0s - loss: 0.0056 - accuracy: 1.0000\n",
      "Epoch 99/100\n",
      "118/118 - 0s - loss: 0.0054 - accuracy: 1.0000\n",
      "Epoch 100/100\n",
      "118/118 - 0s - loss: 0.0053 - accuracy: 1.0000\n"
     ]
    },
    {
     "data": {
      "text/plain": [
       "<tensorflow.python.keras.callbacks.History at 0x20127811fc8>"
      ]
     },
     "execution_count": 177,
     "metadata": {},
     "output_type": "execute_result"
    }
   ],
   "source": [
    "deep_model.compile(optimizer='adam',\n",
    "                   loss='categorical_crossentropy',\n",
    "                   metrics=['accuracy'])\n",
    "\n",
    "deep_model.fit(\n",
    "    X_train_scaled,\n",
    "    y_train_categorical,\n",
    "    epochs=100,\n",
    "    shuffle=True,\n",
    "    verbose=2\n",
    ")"
   ]
  },
  {
   "cell_type": "code",
   "execution_count": 178,
   "metadata": {},
   "outputs": [
    {
     "name": "stdout",
     "output_type": "stream",
     "text": [
      "40/40 - 0s - loss: 0.1756 - accuracy: 0.9500\n",
      "Normal Neural Network - Loss: 0.1756237506866455, Accuracy: 0.949999988079071\n"
     ]
    }
   ],
   "source": [
    "model_loss, model_accuracy = model.evaluate(\n",
    "    X_test_scaled, y_test_categorical, verbose=2)\n",
    "print(\n",
    "    f\"Normal Neural Network - Loss: {model_loss}, Accuracy: {model_accuracy}\")"
   ]
  },
  {
   "cell_type": "code",
   "execution_count": 179,
   "metadata": {},
   "outputs": [
    {
     "name": "stdout",
     "output_type": "stream",
     "text": [
      "40/40 - 0s - loss: 0.2066 - accuracy: 0.9250\n",
      "Deep Neural Network - Loss: 0.20660383701324464, Accuracy: 0.925000011920929\n"
     ]
    }
   ],
   "source": [
    "model_loss, model_accuracy = deep_model.evaluate(\n",
    "    X_test_scaled, y_test_categorical, verbose=2)\n",
    "print(f\"Deep Neural Network - Loss: {model_loss}, Accuracy: {model_accuracy}\")"
   ]
  },
  {
   "cell_type": "code",
   "execution_count": 180,
   "metadata": {},
   "outputs": [
    {
     "name": "stdout",
     "output_type": "stream",
     "text": [
      "Logistic Regression Confusion matrix, without normalization\n",
      "[[ 0  1]\n",
      " [ 1 38]]\n",
      "Logistic Regression Normalized confusion matrix\n",
      "[[0.   1.  ]\n",
      " [0.03 0.97]]\n"
     ]
    },
    {
     "data": {
      "image/png": "[encoded data removed]",
      "text/plain": [
       "<Figure size 432x288 with 2 Axes>"
      ]
     },
     "metadata": {
      "needs_background": "light"
     },
     "output_type": "display_data"
    },
    {
     "data": {
      "image/png": "[encoded data removed]",
      "text/plain": [
       "<Figure size 432x288 with 2 Axes>"
      ]
     },
     "metadata": {
      "needs_background": "light"
     },
     "output_type": "display_data"
    }
   ],
   "source": [
    "import numpy as np\n",
    "\n",
    "np.set_printoptions(precision=2)\n",
    "\n",
    "# Plot non-normalized confusion matrix\n",
    "titles_options = [(\"Logistic Regression Confusion matrix, without normalization\", None),\n",
    "                  (\"Logistic Regression Normalized confusion matrix\", 'true')]\n",
    "for title, normalize in titles_options:\n",
    "    disp = plot_confusion_matrix(classifier, X_test, y_test,\n",
    "                                 display_labels=target_names,\n",
    "                                 cmap=plt.cm.Blues,\n",
    "                                 normalize=normalize)\n",
    "    disp.ax_.set_title(title)\n",
    "\n",
    "    print(title)\n",
    "    print(disp.confusion_matrix)\n",
    "\n",
    "plt.show()"
   ]
  },
  {
   "cell_type": "code",
   "execution_count": 181,
   "metadata": {},
   "outputs": [
    {
     "name": "stdout",
     "output_type": "stream",
     "text": [
      "40/40 - 0s - loss: 0.2066 - accuracy: 0.9250\n",
      "Deep Neural Network - Loss: 0.20660383701324464, Accuracy: 0.925000011920929\n"
     ]
    },
    {
     "data": {
      "text/plain": [
       "92.5"
      ]
     },
     "execution_count": 181,
     "metadata": {},
     "output_type": "execute_result"
    }
   ],
   "source": [
    "# Deep Learning Acct\n",
    "model_loss, model_accuracy = deep_model.evaluate(\n",
    "    X_test_scaled, y_test_categorical, verbose=2)\n",
    "print(f\"Deep Neural Network - Loss: {model_loss}, Accuracy: {model_accuracy}\")\n",
    "\n",
    "\n",
    "DLA = round((model_accuracy * 100),2)\n",
    "DLA"
   ]
  },
  {
   "cell_type": "markdown",
   "metadata": {},
   "source": [
    "# Model Accuracy"
   ]
  },
  {
   "cell_type": "code",
   "execution_count": 156,
   "metadata": {},
   "outputs": [],
   "source": [
    "# CLF = clf.score(X_test, y_test) * 100\n",
    "\n",
    "# LRA = classifier.score(X_test, y_test) * 100\n",
    "# DTA = (clf.score(X_test, y_test) * 100)\n",
    "# RFA = (rf.score(X_test, y_test) * 100)\n",
    "# SVMA = (svc.score(X_test, y_test) * 100)\n",
    "# KNNA = (knn.score(X_test_scaled, y_test) * 100)\n",
    "# NNA = (model_accuracy * 100).round(2)"
   ]
  },
  {
   "cell_type": "code",
   "execution_count": 157,
   "metadata": {},
   "outputs": [
    {
     "name": "stdout",
     "output_type": "stream",
     "text": [
      "LRA: 95.0\n",
      "DTA: 97.5\n",
      "RFA: 100.0\n",
      "SVMA: 92.5\n",
      "KNNA: 97.5\n",
      "NNA: 92.5\n"
     ]
    }
   ],
   "source": [
    "# print(f\"LRA: {LRA}\")\n",
    "# print(f\"DTA: {DTA}\")\n",
    "# print(f\"RFA: {RFA}\")\n",
    "# print(f\"SVMA: {SVMA}\")\n",
    "# print(f\"KNNA: {KNNA}\")\n",
    "# print(f\"NNA: {NNA}\")"
   ]
  },
  {
   "cell_type": "code",
   "execution_count": 190,
   "metadata": {},
   "outputs": [
    {
     "data": {
      "text/html": [
       "<div>\n",
       "<style scoped>\n",
       "    .dataframe tbody tr th:only-of-type {\n",
       "        vertical-align: middle;\n",
       "    }\n",
       "\n",
       "    .dataframe tbody tr th {\n",
       "        vertical-align: top;\n",
       "    }\n",
       "\n",
       "    .dataframe thead th {\n",
       "        text-align: right;\n",
       "    }\n",
       "</style>\n",
       "<table border=\"1\" class=\"dataframe\">\n",
       "  <thead>\n",
       "    <tr style=\"text-align: right;\">\n",
       "      <th></th>\n",
       "      <th>ML_Model</th>\n",
       "      <th>Kidney_Model_Accuracy</th>\n",
       "    </tr>\n",
       "  </thead>\n",
       "  <tbody>\n",
       "    <tr>\n",
       "      <th>0</th>\n",
       "      <td>Decision Tree</td>\n",
       "      <td>90.0</td>\n",
       "    </tr>\n",
       "    <tr>\n",
       "      <th>1</th>\n",
       "      <td>Random Forrest</td>\n",
       "      <td>90.0</td>\n",
       "    </tr>\n",
       "    <tr>\n",
       "      <th>2</th>\n",
       "      <td>Logistical Regression</td>\n",
       "      <td>95.0</td>\n",
       "    </tr>\n",
       "    <tr>\n",
       "      <th>3</th>\n",
       "      <td>Decision Tree</td>\n",
       "      <td>90.0</td>\n",
       "    </tr>\n",
       "    <tr>\n",
       "      <th>4</th>\n",
       "      <td>K Nearest Neighbors</td>\n",
       "      <td>92.5</td>\n",
       "    </tr>\n",
       "    <tr>\n",
       "      <th>5</th>\n",
       "      <td>Neural Network</td>\n",
       "      <td>95.0</td>\n",
       "    </tr>\n",
       "    <tr>\n",
       "      <th>6</th>\n",
       "      <td>Deep Learning</td>\n",
       "      <td>92.5</td>\n",
       "    </tr>\n",
       "  </tbody>\n",
       "</table>\n",
       "</div>"
      ],
      "text/plain": [
       "                ML_Model  Kidney_Model_Accuracy\n",
       "0          Decision Tree                   90.0\n",
       "1         Random Forrest                   90.0\n",
       "2  Logistical Regression                   95.0\n",
       "3          Decision Tree                   90.0\n",
       "4    K Nearest Neighbors                   92.5\n",
       "5         Neural Network                   95.0\n",
       "6          Deep Learning                   92.5"
      ]
     },
     "execution_count": 190,
     "metadata": {},
     "output_type": "execute_result"
    }
   ],
   "source": [
    "KidneyModelAccuracy_df = pd.DataFrame({\"ML_Model\":[\"Decision Tree\",\"Random Forrest\",\"Logistical Regression\",\"Decision Tree\",\"K Nearest Neighbors\",\"Neural Network\",\"Deep Learning\"],\n",
    "                            \"Kidney_Model_Accuracy\":[DTA, RFA, LRA, SVMA, KNNA, NNA, DLA]                       \n",
    "                             })\n",
    "\n",
    "KidneyModelAccuracy_df"
   ]
  },
  {
   "cell_type": "code",
   "execution_count": 193,
   "metadata": {},
   "outputs": [
    {
     "data": {
      "text/html": [
       "<div>\n",
       "<style scoped>\n",
       "    .dataframe tbody tr th:only-of-type {\n",
       "        vertical-align: middle;\n",
       "    }\n",
       "\n",
       "    .dataframe tbody tr th {\n",
       "        vertical-align: top;\n",
       "    }\n",
       "\n",
       "    .dataframe thead th {\n",
       "        text-align: right;\n",
       "    }\n",
       "</style>\n",
       "<table border=\"1\" class=\"dataframe\">\n",
       "  <thead>\n",
       "    <tr style=\"text-align: right;\">\n",
       "      <th></th>\n",
       "      <th>ML_Model</th>\n",
       "      <th>Accuracy</th>\n",
       "    </tr>\n",
       "  </thead>\n",
       "  <tbody>\n",
       "    <tr>\n",
       "      <th>0</th>\n",
       "      <td>Decision Tree</td>\n",
       "      <td>78.67</td>\n",
       "    </tr>\n",
       "    <tr>\n",
       "      <th>1</th>\n",
       "      <td>Random Forrest</td>\n",
       "      <td>85.33</td>\n",
       "    </tr>\n",
       "    <tr>\n",
       "      <th>2</th>\n",
       "      <td>Logistical Regression</td>\n",
       "      <td>86.67</td>\n",
       "    </tr>\n",
       "    <tr>\n",
       "      <th>3</th>\n",
       "      <td>Support Vector Machine</td>\n",
       "      <td>89.33</td>\n",
       "    </tr>\n",
       "    <tr>\n",
       "      <th>4</th>\n",
       "      <td>K Nearest Neighbors</td>\n",
       "      <td>85.33</td>\n",
       "    </tr>\n",
       "    <tr>\n",
       "      <th>5</th>\n",
       "      <td>Neural Network</td>\n",
       "      <td>85.33</td>\n",
       "    </tr>\n",
       "    <tr>\n",
       "      <th>6</th>\n",
       "      <td>Deep Learning</td>\n",
       "      <td>81.33</td>\n",
       "    </tr>\n",
       "  </tbody>\n",
       "</table>\n",
       "</div>"
      ],
      "text/plain": [
       "                 ML_Model  Accuracy\n",
       "0           Decision Tree     78.67\n",
       "1          Random Forrest     85.33\n",
       "2   Logistical Regression     86.67\n",
       "3  Support Vector Machine     89.33\n",
       "4     K Nearest Neighbors     85.33\n",
       "5          Neural Network     85.33\n",
       "6           Deep Learning     81.33"
      ]
     },
     "execution_count": 193,
     "metadata": {},
     "output_type": "execute_result"
    }
   ],
   "source": [
    "Accuracy_df = pd.read_csv(os.path.join(\"data/Heart_Model_Accuracy.csv\"))\n",
    "Accuracy_df"
   ]
  },
  {
   "cell_type": "code",
   "execution_count": 194,
   "metadata": {},
   "outputs": [
    {
     "data": {
      "text/html": [
       "<div>\n",
       "<style scoped>\n",
       "    .dataframe tbody tr th:only-of-type {\n",
       "        vertical-align: middle;\n",
       "    }\n",
       "\n",
       "    .dataframe tbody tr th {\n",
       "        vertical-align: top;\n",
       "    }\n",
       "\n",
       "    .dataframe thead th {\n",
       "        text-align: right;\n",
       "    }\n",
       "</style>\n",
       "<table border=\"1\" class=\"dataframe\">\n",
       "  <thead>\n",
       "    <tr style=\"text-align: right;\">\n",
       "      <th></th>\n",
       "      <th>ML_Model</th>\n",
       "      <th>Heart_Model_Accuracy</th>\n",
       "      <th>Kidney_Model_Accuracy</th>\n",
       "    </tr>\n",
       "  </thead>\n",
       "  <tbody>\n",
       "    <tr>\n",
       "      <th>0</th>\n",
       "      <td>Decision Tree</td>\n",
       "      <td>78.67</td>\n",
       "      <td>90.0</td>\n",
       "    </tr>\n",
       "    <tr>\n",
       "      <th>1</th>\n",
       "      <td>Decision Tree</td>\n",
       "      <td>78.67</td>\n",
       "      <td>90.0</td>\n",
       "    </tr>\n",
       "    <tr>\n",
       "      <th>2</th>\n",
       "      <td>Random Forrest</td>\n",
       "      <td>85.33</td>\n",
       "      <td>90.0</td>\n",
       "    </tr>\n",
       "    <tr>\n",
       "      <th>3</th>\n",
       "      <td>Logistical Regression</td>\n",
       "      <td>86.67</td>\n",
       "      <td>95.0</td>\n",
       "    </tr>\n",
       "    <tr>\n",
       "      <th>4</th>\n",
       "      <td>K Nearest Neighbors</td>\n",
       "      <td>85.33</td>\n",
       "      <td>92.5</td>\n",
       "    </tr>\n",
       "    <tr>\n",
       "      <th>5</th>\n",
       "      <td>Neural Network</td>\n",
       "      <td>85.33</td>\n",
       "      <td>95.0</td>\n",
       "    </tr>\n",
       "    <tr>\n",
       "      <th>6</th>\n",
       "      <td>Deep Learning</td>\n",
       "      <td>81.33</td>\n",
       "      <td>92.5</td>\n",
       "    </tr>\n",
       "  </tbody>\n",
       "</table>\n",
       "</div>"
      ],
      "text/plain": [
       "                ML_Model  Heart_Model_Accuracy  Kidney_Model_Accuracy\n",
       "0          Decision Tree                 78.67                   90.0\n",
       "1          Decision Tree                 78.67                   90.0\n",
       "2         Random Forrest                 85.33                   90.0\n",
       "3  Logistical Regression                 86.67                   95.0\n",
       "4    K Nearest Neighbors                 85.33                   92.5\n",
       "5         Neural Network                 85.33                   95.0\n",
       "6          Deep Learning                 81.33                   92.5"
      ]
     },
     "execution_count": 194,
     "metadata": {},
     "output_type": "execute_result"
    }
   ],
   "source": [
    "Model_Accuracy_df = pd.merge(Accuracy_df, KidneyModelAccuracy_df, on='ML_Model')\n",
    "Model_Accuracy_df = Model_Accuracy_df.rename(columns={'Accuracy':'Heart_Model_Accuracy'})\n",
    "Model_Accuracy_df"
   ]
  },
  {
   "cell_type": "code",
   "execution_count": 195,
   "metadata": {},
   "outputs": [
    {
     "data": {
      "text/plain": [
       "<AxesSubplot:>"
      ]
     },
     "execution_count": 195,
     "metadata": {},
     "output_type": "execute_result"
    },
    {
     "data": {
      "image/png": "[encoded data removed]",
      "text/plain": [
       "<Figure size 432x288 with 1 Axes>"
      ]
     },
     "metadata": {
      "needs_background": "light"
     },
     "output_type": "display_data"
    }
   ],
   "source": [
    "Model_Accuracy_df.plot(kind=\"bar\")"
   ]
  },
  {
   "cell_type": "code",
   "execution_count": 199,
   "metadata": {},
   "outputs": [],
   "source": [
    "Model_Accuracy_df.to_csv('data/Heart_Kidney_Model_Accuracy.csv',index=False)"
   ]
  },
  {
   "cell_type": "markdown",
   "metadata": {},
   "source": [
    "# Linear Regression"
   ]
  },
  {
   "cell_type": "code",
   "execution_count": null,
   "metadata": {},
   "outputs": [],
   "source": [
    "X = kidney_binary_data\n",
    "y = target.values.reshape(-1, 1)\n",
    "print(X.shape, y.shape)\n",
    "print(X)"
   ]
  },
  {
   "cell_type": "code",
   "execution_count": null,
   "metadata": {},
   "outputs": [],
   "source": [
    "from sklearn.model_selection import train_test_split\n",
    "\n",
    "X_train, X_test, y_train, y_test = train_test_split(X, y, random_state=42)"
   ]
  },
  {
   "cell_type": "code",
   "execution_count": null,
   "metadata": {},
   "outputs": [],
   "source": [
    "X_scaler = StandardScaler().fit(X_train)\n",
    "y_scaler = StandardScaler().fit(y_train)"
   ]
  },
  {
   "cell_type": "code",
   "execution_count": null,
   "metadata": {},
   "outputs": [],
   "source": [
    "X_train_scaled = X_scaler.transform(X_train)\n",
    "X_test_scaled = X_scaler.transform(X_test)\n",
    "y_train_scaled = y_scaler.transform(y_train)\n",
    "y_test_scaled = y_scaler.transform(y_test)"
   ]
  },
  {
   "cell_type": "code",
   "execution_count": null,
   "metadata": {},
   "outputs": [],
   "source": [
    "from sklearn.linear_model import LinearRegression\n",
    "model = LinearRegression()\n",
    "model.fit(X_train_scaled, y_train_scaled)"
   ]
  },
  {
   "cell_type": "code",
   "execution_count": null,
   "metadata": {},
   "outputs": [],
   "source": [
    "predictions = model.predict(X_test_scaled)\n",
    "model.fit(X_train_scaled, y_train_scaled)\n",
    "plt.scatter(model.predict(X_train_scaled), model.predict(X_train_scaled) - y_train_scaled, c=\"blue\", label=\"Training Data\")\n",
    "plt.scatter(model.predict(X_test_scaled), model.predict(X_test_scaled) - y_test_scaled, c=\"orange\", label=\"Testing Data\")\n",
    "plt.legend()\n",
    "plt.hlines(y=0, xmin=y_test_scaled.min(), xmax=y_test_scaled.max())\n",
    "plt.title(\"Residual Plot\")\n",
    "plt.show()"
   ]
  },
  {
   "cell_type": "markdown",
   "metadata": {},
   "source": [
    "### Linear Regression is not a good model for predicting the outcome because the residuals plot is not random indicating a non-linear relationship of the data."
   ]
  },
  {
   "cell_type": "code",
   "execution_count": null,
   "metadata": {},
   "outputs": [],
   "source": []
  }
 ],
 "metadata": {
  "kernelspec": {
   "display_name": "Python [conda env:tf]",
   "language": "python",
   "name": "conda-env-tf-py"
  },
  "language_info": {
   "codemirror_mode": {
    "name": "ipython",
    "version": 3
   },
   "file_extension": ".py",
   "mimetype": "text/x-python",
   "name": "python",
   "nbconvert_exporter": "python",
   "pygments_lexer": "ipython3",
   "version": "3.7.9"
  }
 },
 "nbformat": 4,
 "nbformat_minor": 4
}
